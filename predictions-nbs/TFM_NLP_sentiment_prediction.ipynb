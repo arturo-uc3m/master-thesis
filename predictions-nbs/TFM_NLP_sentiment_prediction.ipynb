{
 "cells": [
  {
   "cell_type": "markdown",
   "metadata": {
    "id": "M6CvYJ9i280o"
   },
   "source": [
    "# NLP sentiment prediction"
   ]
  },
  {
   "cell_type": "markdown",
   "metadata": {
    "id": "KIMzjrpWinMH"
   },
   "source": [
    "## Setup environment and libraries"
   ]
  },
  {
   "cell_type": "code",
   "execution_count": 32,
   "metadata": {
    "executionInfo": {
     "elapsed": 232,
     "status": "ok",
     "timestamp": 1624824573194,
     "user": {
      "displayName": "Arturo Silva González",
      "photoUrl": "https://lh3.googleusercontent.com/a-/AOh14GiUHdipuYIBJIA1SlUS1AmLgDU-JVlj3PpPUxj0=s64",
      "userId": "00222598250959016841"
     },
     "user_tz": -120
    },
    "id": "EEfddU-P2zmF"
   },
   "outputs": [],
   "source": [
    "SEED = 0"
   ]
  },
  {
   "cell_type": "code",
   "execution_count": 33,
   "metadata": {
    "colab": {
     "base_uri": "https://localhost:8080/"
    },
    "executionInfo": {
     "elapsed": 10301,
     "status": "ok",
     "timestamp": 1624824583820,
     "user": {
      "displayName": "Arturo Silva González",
      "photoUrl": "https://lh3.googleusercontent.com/a-/AOh14GiUHdipuYIBJIA1SlUS1AmLgDU-JVlj3PpPUxj0=s64",
      "userId": "00222598250959016841"
     },
     "user_tz": -120
    },
    "id": "hBy9KSZNiu9H",
    "outputId": "1fd844c2-2165-4d42-8083-83377445423b"
   },
   "outputs": [
    {
     "name": "stdout",
     "output_type": "stream",
     "text": [
      "Requirement already up-to-date: spacy in /usr/local/lib/python3.7/dist-packages (3.0.6)\n",
      "Requirement already satisfied, skipping upgrade: setuptools in /usr/local/lib/python3.7/dist-packages (from spacy) (57.0.0)\n",
      "Requirement already satisfied, skipping upgrade: srsly<3.0.0,>=2.4.1 in /usr/local/lib/python3.7/dist-packages (from spacy) (2.4.1)\n",
      "Requirement already satisfied, skipping upgrade: thinc<8.1.0,>=8.0.3 in /usr/local/lib/python3.7/dist-packages (from spacy) (8.0.6)\n",
      "Requirement already satisfied, skipping upgrade: wasabi<1.1.0,>=0.8.1 in /usr/local/lib/python3.7/dist-packages (from spacy) (0.8.2)\n",
      "Requirement already satisfied, skipping upgrade: pydantic<1.8.0,>=1.7.1 in /usr/local/lib/python3.7/dist-packages (from spacy) (1.7.4)\n",
      "Requirement already satisfied, skipping upgrade: preshed<3.1.0,>=3.0.2 in /usr/local/lib/python3.7/dist-packages (from spacy) (3.0.5)\n",
      "Requirement already satisfied, skipping upgrade: typer<0.4.0,>=0.3.0 in /usr/local/lib/python3.7/dist-packages (from spacy) (0.3.2)\n",
      "Requirement already satisfied, skipping upgrade: cymem<2.1.0,>=2.0.2 in /usr/local/lib/python3.7/dist-packages (from spacy) (2.0.5)\n",
      "Requirement already satisfied, skipping upgrade: typing-extensions<4.0.0.0,>=3.7.4; python_version < \"3.8\" in /usr/local/lib/python3.7/dist-packages (from spacy) (3.7.4.3)\n",
      "Requirement already satisfied, skipping upgrade: murmurhash<1.1.0,>=0.28.0 in /usr/local/lib/python3.7/dist-packages (from spacy) (1.0.5)\n",
      "Requirement already satisfied, skipping upgrade: pathy>=0.3.5 in /usr/local/lib/python3.7/dist-packages (from spacy) (0.6.0)\n",
      "Requirement already satisfied, skipping upgrade: numpy>=1.15.0 in /usr/local/lib/python3.7/dist-packages (from spacy) (1.19.5)\n",
      "Requirement already satisfied, skipping upgrade: tqdm<5.0.0,>=4.38.0 in /usr/local/lib/python3.7/dist-packages (from spacy) (4.41.1)\n",
      "Requirement already satisfied, skipping upgrade: spacy-legacy<3.1.0,>=3.0.4 in /usr/local/lib/python3.7/dist-packages (from spacy) (3.0.6)\n",
      "Requirement already satisfied, skipping upgrade: catalogue<2.1.0,>=2.0.3 in /usr/local/lib/python3.7/dist-packages (from spacy) (2.0.4)\n",
      "Requirement already satisfied, skipping upgrade: blis<0.8.0,>=0.4.0 in /usr/local/lib/python3.7/dist-packages (from spacy) (0.4.1)\n",
      "Requirement already satisfied, skipping upgrade: jinja2 in /usr/local/lib/python3.7/dist-packages (from spacy) (2.11.3)\n",
      "Requirement already satisfied, skipping upgrade: requests<3.0.0,>=2.13.0 in /usr/local/lib/python3.7/dist-packages (from spacy) (2.23.0)\n",
      "Requirement already satisfied, skipping upgrade: packaging>=20.0 in /usr/local/lib/python3.7/dist-packages (from spacy) (20.9)\n",
      "Requirement already satisfied, skipping upgrade: click<7.2.0,>=7.1.1 in /usr/local/lib/python3.7/dist-packages (from typer<0.4.0,>=0.3.0->spacy) (7.1.2)\n",
      "Requirement already satisfied, skipping upgrade: smart-open<6.0.0,>=5.0.0 in /usr/local/lib/python3.7/dist-packages (from pathy>=0.3.5->spacy) (5.1.0)\n",
      "Requirement already satisfied, skipping upgrade: zipp>=0.5; python_version < \"3.8\" in /usr/local/lib/python3.7/dist-packages (from catalogue<2.1.0,>=2.0.3->spacy) (3.4.1)\n",
      "Requirement already satisfied, skipping upgrade: MarkupSafe>=0.23 in /usr/local/lib/python3.7/dist-packages (from jinja2->spacy) (2.0.1)\n",
      "Requirement already satisfied, skipping upgrade: certifi>=2017.4.17 in /usr/local/lib/python3.7/dist-packages (from requests<3.0.0,>=2.13.0->spacy) (2021.5.30)\n",
      "Requirement already satisfied, skipping upgrade: chardet<4,>=3.0.2 in /usr/local/lib/python3.7/dist-packages (from requests<3.0.0,>=2.13.0->spacy) (3.0.4)\n",
      "Requirement already satisfied, skipping upgrade: idna<3,>=2.5 in /usr/local/lib/python3.7/dist-packages (from requests<3.0.0,>=2.13.0->spacy) (2.10)\n",
      "Requirement already satisfied, skipping upgrade: urllib3!=1.25.0,!=1.25.1,<1.26,>=1.21.1 in /usr/local/lib/python3.7/dist-packages (from requests<3.0.0,>=2.13.0->spacy) (1.24.3)\n",
      "Requirement already satisfied, skipping upgrade: pyparsing>=2.0.2 in /usr/local/lib/python3.7/dist-packages (from packaging>=20.0->spacy) (2.4.7)\n",
      "2021-06-27 20:09:39.598447: I tensorflow/stream_executor/platform/default/dso_loader.cc:53] Successfully opened dynamic library libcudart.so.11.0\n",
      "Requirement already satisfied: es-core-news-md==3.0.0 from https://github.com/explosion/spacy-models/releases/download/es_core_news_md-3.0.0/es_core_news_md-3.0.0-py3-none-any.whl#egg=es_core_news_md==3.0.0 in /usr/local/lib/python3.7/dist-packages (3.0.0)\n",
      "Requirement already satisfied: spacy<3.1.0,>=3.0.0 in /usr/local/lib/python3.7/dist-packages (from es-core-news-md==3.0.0) (3.0.6)\n",
      "Requirement already satisfied: srsly<3.0.0,>=2.4.1 in /usr/local/lib/python3.7/dist-packages (from spacy<3.1.0,>=3.0.0->es-core-news-md==3.0.0) (2.4.1)\n",
      "Requirement already satisfied: cymem<2.1.0,>=2.0.2 in /usr/local/lib/python3.7/dist-packages (from spacy<3.1.0,>=3.0.0->es-core-news-md==3.0.0) (2.0.5)\n",
      "Requirement already satisfied: spacy-legacy<3.1.0,>=3.0.4 in /usr/local/lib/python3.7/dist-packages (from spacy<3.1.0,>=3.0.0->es-core-news-md==3.0.0) (3.0.6)\n",
      "Requirement already satisfied: catalogue<2.1.0,>=2.0.3 in /usr/local/lib/python3.7/dist-packages (from spacy<3.1.0,>=3.0.0->es-core-news-md==3.0.0) (2.0.4)\n",
      "Requirement already satisfied: pathy>=0.3.5 in /usr/local/lib/python3.7/dist-packages (from spacy<3.1.0,>=3.0.0->es-core-news-md==3.0.0) (0.6.0)\n",
      "Requirement already satisfied: typer<0.4.0,>=0.3.0 in /usr/local/lib/python3.7/dist-packages (from spacy<3.1.0,>=3.0.0->es-core-news-md==3.0.0) (0.3.2)\n",
      "Requirement already satisfied: pydantic<1.8.0,>=1.7.1 in /usr/local/lib/python3.7/dist-packages (from spacy<3.1.0,>=3.0.0->es-core-news-md==3.0.0) (1.7.4)\n",
      "Requirement already satisfied: packaging>=20.0 in /usr/local/lib/python3.7/dist-packages (from spacy<3.1.0,>=3.0.0->es-core-news-md==3.0.0) (20.9)\n",
      "Requirement already satisfied: requests<3.0.0,>=2.13.0 in /usr/local/lib/python3.7/dist-packages (from spacy<3.1.0,>=3.0.0->es-core-news-md==3.0.0) (2.23.0)\n",
      "Requirement already satisfied: tqdm<5.0.0,>=4.38.0 in /usr/local/lib/python3.7/dist-packages (from spacy<3.1.0,>=3.0.0->es-core-news-md==3.0.0) (4.41.1)\n",
      "Requirement already satisfied: typing-extensions<4.0.0.0,>=3.7.4; python_version < \"3.8\" in /usr/local/lib/python3.7/dist-packages (from spacy<3.1.0,>=3.0.0->es-core-news-md==3.0.0) (3.7.4.3)\n",
      "Requirement already satisfied: blis<0.8.0,>=0.4.0 in /usr/local/lib/python3.7/dist-packages (from spacy<3.1.0,>=3.0.0->es-core-news-md==3.0.0) (0.4.1)\n",
      "Requirement already satisfied: jinja2 in /usr/local/lib/python3.7/dist-packages (from spacy<3.1.0,>=3.0.0->es-core-news-md==3.0.0) (2.11.3)\n",
      "Requirement already satisfied: numpy>=1.15.0 in /usr/local/lib/python3.7/dist-packages (from spacy<3.1.0,>=3.0.0->es-core-news-md==3.0.0) (1.19.5)\n",
      "Requirement already satisfied: thinc<8.1.0,>=8.0.3 in /usr/local/lib/python3.7/dist-packages (from spacy<3.1.0,>=3.0.0->es-core-news-md==3.0.0) (8.0.6)\n",
      "Requirement already satisfied: preshed<3.1.0,>=3.0.2 in /usr/local/lib/python3.7/dist-packages (from spacy<3.1.0,>=3.0.0->es-core-news-md==3.0.0) (3.0.5)\n",
      "Requirement already satisfied: wasabi<1.1.0,>=0.8.1 in /usr/local/lib/python3.7/dist-packages (from spacy<3.1.0,>=3.0.0->es-core-news-md==3.0.0) (0.8.2)\n",
      "Requirement already satisfied: murmurhash<1.1.0,>=0.28.0 in /usr/local/lib/python3.7/dist-packages (from spacy<3.1.0,>=3.0.0->es-core-news-md==3.0.0) (1.0.5)\n",
      "Requirement already satisfied: setuptools in /usr/local/lib/python3.7/dist-packages (from spacy<3.1.0,>=3.0.0->es-core-news-md==3.0.0) (57.0.0)\n",
      "Requirement already satisfied: zipp>=0.5; python_version < \"3.8\" in /usr/local/lib/python3.7/dist-packages (from catalogue<2.1.0,>=2.0.3->spacy<3.1.0,>=3.0.0->es-core-news-md==3.0.0) (3.4.1)\n",
      "Requirement already satisfied: smart-open<6.0.0,>=5.0.0 in /usr/local/lib/python3.7/dist-packages (from pathy>=0.3.5->spacy<3.1.0,>=3.0.0->es-core-news-md==3.0.0) (5.1.0)\n",
      "Requirement already satisfied: click<7.2.0,>=7.1.1 in /usr/local/lib/python3.7/dist-packages (from typer<0.4.0,>=0.3.0->spacy<3.1.0,>=3.0.0->es-core-news-md==3.0.0) (7.1.2)\n",
      "Requirement already satisfied: pyparsing>=2.0.2 in /usr/local/lib/python3.7/dist-packages (from packaging>=20.0->spacy<3.1.0,>=3.0.0->es-core-news-md==3.0.0) (2.4.7)\n",
      "Requirement already satisfied: chardet<4,>=3.0.2 in /usr/local/lib/python3.7/dist-packages (from requests<3.0.0,>=2.13.0->spacy<3.1.0,>=3.0.0->es-core-news-md==3.0.0) (3.0.4)\n",
      "Requirement already satisfied: certifi>=2017.4.17 in /usr/local/lib/python3.7/dist-packages (from requests<3.0.0,>=2.13.0->spacy<3.1.0,>=3.0.0->es-core-news-md==3.0.0) (2021.5.30)\n",
      "Requirement already satisfied: idna<3,>=2.5 in /usr/local/lib/python3.7/dist-packages (from requests<3.0.0,>=2.13.0->spacy<3.1.0,>=3.0.0->es-core-news-md==3.0.0) (2.10)\n",
      "Requirement already satisfied: urllib3!=1.25.0,!=1.25.1,<1.26,>=1.21.1 in /usr/local/lib/python3.7/dist-packages (from requests<3.0.0,>=2.13.0->spacy<3.1.0,>=3.0.0->es-core-news-md==3.0.0) (1.24.3)\n",
      "Requirement already satisfied: MarkupSafe>=0.23 in /usr/local/lib/python3.7/dist-packages (from jinja2->spacy<3.1.0,>=3.0.0->es-core-news-md==3.0.0) (2.0.1)\n",
      "\u001b[38;5;2m✔ Download and installation successful\u001b[0m\n",
      "You can now load the package via spacy.load('es_core_news_md')\n"
     ]
    }
   ],
   "source": [
    "!pip install -U spacy\n",
    "!python -m spacy download es_core_news_md"
   ]
  },
  {
   "cell_type": "code",
   "execution_count": 34,
   "metadata": {
    "executionInfo": {
     "elapsed": 18,
     "status": "ok",
     "timestamp": 1624824583821,
     "user": {
      "displayName": "Arturo Silva González",
      "photoUrl": "https://lh3.googleusercontent.com/a-/AOh14GiUHdipuYIBJIA1SlUS1AmLgDU-JVlj3PpPUxj0=s64",
      "userId": "00222598250959016841"
     },
     "user_tz": -120
    },
    "id": "7FrEvb-diwJW"
   },
   "outputs": [],
   "source": [
    "import torch\n",
    "from torch import nn\n",
    "from torch import optim\n",
    "from torch.utils.data import Dataset, DataLoader\n",
    "\n",
    "import numpy as np\n",
    "import pandas as pd\n",
    "import spacy\n",
    "import nltk\n",
    "import time\n",
    "import matplotlib.pyplot as plt\n",
    "import seaborn as sns\n",
    "\n",
    "from gensim.models import Word2Vec\n",
    "from sklearn.manifold import TSNE\n",
    "\n",
    "from sklearn.metrics.pairwise import cosine_similarity\n",
    "\n",
    "from sklearn.metrics import classification_report\n",
    "\n",
    "%matplotlib inline\n",
    "%config InlineBackend.figure_format = 'retina'  #To get figures with high quality!"
   ]
  },
  {
   "cell_type": "code",
   "execution_count": 35,
   "metadata": {
    "colab": {
     "base_uri": "https://localhost:8080/"
    },
    "executionInfo": {
     "elapsed": 17,
     "status": "ok",
     "timestamp": 1624824583822,
     "user": {
      "displayName": "Arturo Silva González",
      "photoUrl": "https://lh3.googleusercontent.com/a-/AOh14GiUHdipuYIBJIA1SlUS1AmLgDU-JVlj3PpPUxj0=s64",
      "userId": "00222598250959016841"
     },
     "user_tz": -120
    },
    "id": "l03hCmL6iwil",
    "outputId": "e7fc2fe4-7b6a-4c47-8f80-f82e8c5938fe"
   },
   "outputs": [
    {
     "data": {
      "text/plain": [
       "device(type='cuda')"
      ]
     },
     "execution_count": 35,
     "metadata": {
      "tags": []
     },
     "output_type": "execute_result"
    }
   ],
   "source": [
    "device = torch.device('cuda' if torch.cuda.is_available() else 'cpu')\n",
    "device"
   ]
  },
  {
   "cell_type": "markdown",
   "metadata": {
    "id": "zNDHKXVxi7Oj"
   },
   "source": [
    "## Load dataset"
   ]
  },
  {
   "cell_type": "code",
   "execution_count": 37,
   "metadata": {
    "colab": {
     "base_uri": "https://localhost:8080/",
     "height": 609
    },
    "executionInfo": {
     "elapsed": 12,
     "status": "ok",
     "timestamp": 1624824583823,
     "user": {
      "displayName": "Arturo Silva González",
      "photoUrl": "https://lh3.googleusercontent.com/a-/AOh14GiUHdipuYIBJIA1SlUS1AmLgDU-JVlj3PpPUxj0=s64",
      "userId": "00222598250959016841"
     },
     "user_tz": -120
    },
    "id": "EVjkU3uai794",
    "outputId": "4a276465-bb4b-4c6e-e0b4-a94ce785583f"
   },
   "outputs": [
    {
     "data": {
      "text/html": [
       "<div>\n",
       "<style scoped>\n",
       "    .dataframe tbody tr th:only-of-type {\n",
       "        vertical-align: middle;\n",
       "    }\n",
       "\n",
       "    .dataframe tbody tr th {\n",
       "        vertical-align: top;\n",
       "    }\n",
       "\n",
       "    .dataframe thead th {\n",
       "        text-align: right;\n",
       "    }\n",
       "</style>\n",
       "<table border=\"1\" class=\"dataframe\">\n",
       "  <thead>\n",
       "    <tr style=\"text-align: right;\">\n",
       "      <th></th>\n",
       "      <th>id</th>\n",
       "      <th>date</th>\n",
       "      <th>emotion_text</th>\n",
       "      <th>sad</th>\n",
       "      <th>encantado</th>\n",
       "      <th>neutro</th>\n",
       "      <th>feliz</th>\n",
       "      <th>motivado</th>\n",
       "      <th>relajado</th>\n",
       "      <th>ira</th>\n",
       "      <th>disgustado</th>\n",
       "      <th>tristeza</th>\n",
       "      <th>agobiado</th>\n",
       "      <th>cansado</th>\n",
       "      <th>asustado</th>\n",
       "      <th>dolor</th>\n",
       "      <th>distance</th>\n",
       "      <th>steps_home</th>\n",
       "      <th>steps_total</th>\n",
       "      <th>sleep</th>\n",
       "      <th>sleep_quality</th>\n",
       "      <th>calls</th>\n",
       "      <th>social_usage</th>\n",
       "      <th>games_usage</th>\n",
       "      <th>app_usage</th>\n",
       "      <th>walking</th>\n",
       "      <th>tilting</th>\n",
       "      <th>still</th>\n",
       "      <th>running</th>\n",
       "      <th>sport</th>\n",
       "      <th>vehicle</th>\n",
       "      <th>acrophase</th>\n",
       "      <th>mesor</th>\n",
       "      <th>amplitude</th>\n",
       "      <th>start_move</th>\n",
       "      <th>stability</th>\n",
       "      <th>behavior</th>\n",
       "      <th>gyradius</th>\n",
       "      <th>home_cluster</th>\n",
       "      <th>emotions_count</th>\n",
       "      <th>emotions_ratio</th>\n",
       "      <th>biking</th>\n",
       "      <th>clusters_count</th>\n",
       "    </tr>\n",
       "  </thead>\n",
       "  <tbody>\n",
       "    <tr>\n",
       "      <th>0</th>\n",
       "      <td>10</td>\n",
       "      <td>2019-05-04</td>\n",
       "      <td>levantar comer frustrar</td>\n",
       "      <td>0</td>\n",
       "      <td>0</td>\n",
       "      <td>0</td>\n",
       "      <td>1</td>\n",
       "      <td>0</td>\n",
       "      <td>0</td>\n",
       "      <td>0</td>\n",
       "      <td>0</td>\n",
       "      <td>0</td>\n",
       "      <td>0</td>\n",
       "      <td>0</td>\n",
       "      <td>0</td>\n",
       "      <td>0</td>\n",
       "      <td>8587.1500</td>\n",
       "      <td>398.0</td>\n",
       "      <td>720.0</td>\n",
       "      <td>32400.0</td>\n",
       "      <td>22.0</td>\n",
       "      <td>0.0</td>\n",
       "      <td>8090.0</td>\n",
       "      <td>0.0</td>\n",
       "      <td>20588.0</td>\n",
       "      <td>55.0</td>\n",
       "      <td>5157.0</td>\n",
       "      <td>20603.0</td>\n",
       "      <td>0.0</td>\n",
       "      <td>0.0</td>\n",
       "      <td>2398.0</td>\n",
       "      <td>0.0</td>\n",
       "      <td>0.0</td>\n",
       "      <td>0.0</td>\n",
       "      <td>0.0</td>\n",
       "      <td>0.0</td>\n",
       "      <td>0.0</td>\n",
       "      <td>0.003554</td>\n",
       "      <td>70200.0</td>\n",
       "      <td>0.0</td>\n",
       "      <td>0.0</td>\n",
       "      <td>0.0</td>\n",
       "      <td>6.0</td>\n",
       "    </tr>\n",
       "    <tr>\n",
       "      <th>1</th>\n",
       "      <td>10</td>\n",
       "      <td>2019-05-05</td>\n",
       "      <td>hoy despertar pero no comer</td>\n",
       "      <td>0</td>\n",
       "      <td>0</td>\n",
       "      <td>0</td>\n",
       "      <td>1</td>\n",
       "      <td>0</td>\n",
       "      <td>0</td>\n",
       "      <td>0</td>\n",
       "      <td>0</td>\n",
       "      <td>0</td>\n",
       "      <td>0</td>\n",
       "      <td>0</td>\n",
       "      <td>0</td>\n",
       "      <td>0</td>\n",
       "      <td>5796.9200</td>\n",
       "      <td>2491.0</td>\n",
       "      <td>3986.0</td>\n",
       "      <td>28800.0</td>\n",
       "      <td>28.0</td>\n",
       "      <td>0.0</td>\n",
       "      <td>2620.0</td>\n",
       "      <td>0.0</td>\n",
       "      <td>20836.0</td>\n",
       "      <td>889.0</td>\n",
       "      <td>2118.0</td>\n",
       "      <td>11749.0</td>\n",
       "      <td>0.0</td>\n",
       "      <td>0.0</td>\n",
       "      <td>0.0</td>\n",
       "      <td>0.0</td>\n",
       "      <td>0.0</td>\n",
       "      <td>0.0</td>\n",
       "      <td>0.0</td>\n",
       "      <td>0.0</td>\n",
       "      <td>0.0</td>\n",
       "      <td>0.001379</td>\n",
       "      <td>75600.0</td>\n",
       "      <td>0.0</td>\n",
       "      <td>0.0</td>\n",
       "      <td>0.0</td>\n",
       "      <td>6.0</td>\n",
       "    </tr>\n",
       "    <tr>\n",
       "      <th>2</th>\n",
       "      <td>10</td>\n",
       "      <td>2019-05-06</td>\n",
       "      <td>no comer noche</td>\n",
       "      <td>0</td>\n",
       "      <td>0</td>\n",
       "      <td>0</td>\n",
       "      <td>1</td>\n",
       "      <td>0</td>\n",
       "      <td>0</td>\n",
       "      <td>0</td>\n",
       "      <td>0</td>\n",
       "      <td>0</td>\n",
       "      <td>0</td>\n",
       "      <td>0</td>\n",
       "      <td>0</td>\n",
       "      <td>0</td>\n",
       "      <td>26207.2000</td>\n",
       "      <td>1111.0</td>\n",
       "      <td>1773.0</td>\n",
       "      <td>28800.0</td>\n",
       "      <td>30.0</td>\n",
       "      <td>0.0</td>\n",
       "      <td>8200.0</td>\n",
       "      <td>0.0</td>\n",
       "      <td>24300.0</td>\n",
       "      <td>280.0</td>\n",
       "      <td>8139.0</td>\n",
       "      <td>9901.0</td>\n",
       "      <td>0.0</td>\n",
       "      <td>0.0</td>\n",
       "      <td>4113.0</td>\n",
       "      <td>0.0</td>\n",
       "      <td>0.0</td>\n",
       "      <td>0.0</td>\n",
       "      <td>3109.0</td>\n",
       "      <td>0.0</td>\n",
       "      <td>0.0</td>\n",
       "      <td>0.012274</td>\n",
       "      <td>64800.0</td>\n",
       "      <td>0.0</td>\n",
       "      <td>0.0</td>\n",
       "      <td>0.0</td>\n",
       "      <td>15.0</td>\n",
       "    </tr>\n",
       "    <tr>\n",
       "      <th>3</th>\n",
       "      <td>10</td>\n",
       "      <td>2019-05-07</td>\n",
       "      <td>no comer</td>\n",
       "      <td>0</td>\n",
       "      <td>0</td>\n",
       "      <td>0</td>\n",
       "      <td>1</td>\n",
       "      <td>0</td>\n",
       "      <td>0</td>\n",
       "      <td>0</td>\n",
       "      <td>0</td>\n",
       "      <td>0</td>\n",
       "      <td>0</td>\n",
       "      <td>0</td>\n",
       "      <td>0</td>\n",
       "      <td>0</td>\n",
       "      <td>28.5104</td>\n",
       "      <td>17.0</td>\n",
       "      <td>3866.0</td>\n",
       "      <td>28800.0</td>\n",
       "      <td>38.0</td>\n",
       "      <td>0.0</td>\n",
       "      <td>8520.0</td>\n",
       "      <td>0.0</td>\n",
       "      <td>42604.0</td>\n",
       "      <td>1577.0</td>\n",
       "      <td>12109.0</td>\n",
       "      <td>16635.0</td>\n",
       "      <td>0.0</td>\n",
       "      <td>0.0</td>\n",
       "      <td>4997.0</td>\n",
       "      <td>0.0</td>\n",
       "      <td>0.0</td>\n",
       "      <td>0.0</td>\n",
       "      <td>742.0</td>\n",
       "      <td>2.0</td>\n",
       "      <td>0.0</td>\n",
       "      <td>0.000012</td>\n",
       "      <td>30600.0</td>\n",
       "      <td>0.0</td>\n",
       "      <td>0.0</td>\n",
       "      <td>0.0</td>\n",
       "      <td>2.0</td>\n",
       "    </tr>\n",
       "    <tr>\n",
       "      <th>4</th>\n",
       "      <td>10</td>\n",
       "      <td>2019-05-20</td>\n",
       "      <td>viaje</td>\n",
       "      <td>0</td>\n",
       "      <td>0</td>\n",
       "      <td>0</td>\n",
       "      <td>1</td>\n",
       "      <td>0</td>\n",
       "      <td>0</td>\n",
       "      <td>0</td>\n",
       "      <td>0</td>\n",
       "      <td>0</td>\n",
       "      <td>0</td>\n",
       "      <td>0</td>\n",
       "      <td>0</td>\n",
       "      <td>0</td>\n",
       "      <td>4909.5400</td>\n",
       "      <td>8.0</td>\n",
       "      <td>1824.0</td>\n",
       "      <td>11958.0</td>\n",
       "      <td>0.0</td>\n",
       "      <td>0.0</td>\n",
       "      <td>4044.0</td>\n",
       "      <td>0.0</td>\n",
       "      <td>20178.0</td>\n",
       "      <td>519.0</td>\n",
       "      <td>7841.0</td>\n",
       "      <td>16960.0</td>\n",
       "      <td>0.0</td>\n",
       "      <td>0.0</td>\n",
       "      <td>4207.0</td>\n",
       "      <td>0.0</td>\n",
       "      <td>0.0</td>\n",
       "      <td>0.0</td>\n",
       "      <td>30.0</td>\n",
       "      <td>0.0</td>\n",
       "      <td>0.0</td>\n",
       "      <td>0.000013</td>\n",
       "      <td>34200.0</td>\n",
       "      <td>0.0</td>\n",
       "      <td>0.0</td>\n",
       "      <td>0.0</td>\n",
       "      <td>2.0</td>\n",
       "    </tr>\n",
       "    <tr>\n",
       "      <th>...</th>\n",
       "      <td>...</td>\n",
       "      <td>...</td>\n",
       "      <td>...</td>\n",
       "      <td>...</td>\n",
       "      <td>...</td>\n",
       "      <td>...</td>\n",
       "      <td>...</td>\n",
       "      <td>...</td>\n",
       "      <td>...</td>\n",
       "      <td>...</td>\n",
       "      <td>...</td>\n",
       "      <td>...</td>\n",
       "      <td>...</td>\n",
       "      <td>...</td>\n",
       "      <td>...</td>\n",
       "      <td>...</td>\n",
       "      <td>...</td>\n",
       "      <td>...</td>\n",
       "      <td>...</td>\n",
       "      <td>...</td>\n",
       "      <td>...</td>\n",
       "      <td>...</td>\n",
       "      <td>...</td>\n",
       "      <td>...</td>\n",
       "      <td>...</td>\n",
       "      <td>...</td>\n",
       "      <td>...</td>\n",
       "      <td>...</td>\n",
       "      <td>...</td>\n",
       "      <td>...</td>\n",
       "      <td>...</td>\n",
       "      <td>...</td>\n",
       "      <td>...</td>\n",
       "      <td>...</td>\n",
       "      <td>...</td>\n",
       "      <td>...</td>\n",
       "      <td>...</td>\n",
       "      <td>...</td>\n",
       "      <td>...</td>\n",
       "      <td>...</td>\n",
       "      <td>...</td>\n",
       "      <td>...</td>\n",
       "      <td>...</td>\n",
       "    </tr>\n",
       "    <tr>\n",
       "      <th>5153</th>\n",
       "      <td>2690</td>\n",
       "      <td>2020-03-11</td>\n",
       "      <td>día</td>\n",
       "      <td>0</td>\n",
       "      <td>0</td>\n",
       "      <td>1</td>\n",
       "      <td>0</td>\n",
       "      <td>0</td>\n",
       "      <td>0</td>\n",
       "      <td>0</td>\n",
       "      <td>0</td>\n",
       "      <td>0</td>\n",
       "      <td>0</td>\n",
       "      <td>0</td>\n",
       "      <td>0</td>\n",
       "      <td>0</td>\n",
       "      <td>0.0000</td>\n",
       "      <td>0.0</td>\n",
       "      <td>0.0</td>\n",
       "      <td>25800.0</td>\n",
       "      <td>0.0</td>\n",
       "      <td>0.0</td>\n",
       "      <td>0.0</td>\n",
       "      <td>0.0</td>\n",
       "      <td>0.0</td>\n",
       "      <td>0.0</td>\n",
       "      <td>0.0</td>\n",
       "      <td>0.0</td>\n",
       "      <td>0.0</td>\n",
       "      <td>0.0</td>\n",
       "      <td>0.0</td>\n",
       "      <td>0.0</td>\n",
       "      <td>0.0</td>\n",
       "      <td>0.0</td>\n",
       "      <td>0.0</td>\n",
       "      <td>0.0</td>\n",
       "      <td>0.0</td>\n",
       "      <td>0.000000</td>\n",
       "      <td>0.0</td>\n",
       "      <td>4.0</td>\n",
       "      <td>0.0</td>\n",
       "      <td>0.0</td>\n",
       "      <td>0.0</td>\n",
       "    </tr>\n",
       "    <tr>\n",
       "      <th>5154</th>\n",
       "      <td>2690</td>\n",
       "      <td>2020-03-23</td>\n",
       "      <td>niña discutir</td>\n",
       "      <td>1</td>\n",
       "      <td>0</td>\n",
       "      <td>0</td>\n",
       "      <td>0</td>\n",
       "      <td>0</td>\n",
       "      <td>0</td>\n",
       "      <td>1</td>\n",
       "      <td>0</td>\n",
       "      <td>0</td>\n",
       "      <td>0</td>\n",
       "      <td>0</td>\n",
       "      <td>0</td>\n",
       "      <td>0</td>\n",
       "      <td>0.0000</td>\n",
       "      <td>0.0</td>\n",
       "      <td>0.0</td>\n",
       "      <td>23400.0</td>\n",
       "      <td>0.0</td>\n",
       "      <td>0.0</td>\n",
       "      <td>0.0</td>\n",
       "      <td>0.0</td>\n",
       "      <td>0.0</td>\n",
       "      <td>0.0</td>\n",
       "      <td>0.0</td>\n",
       "      <td>0.0</td>\n",
       "      <td>0.0</td>\n",
       "      <td>0.0</td>\n",
       "      <td>0.0</td>\n",
       "      <td>0.0</td>\n",
       "      <td>0.0</td>\n",
       "      <td>0.0</td>\n",
       "      <td>0.0</td>\n",
       "      <td>0.0</td>\n",
       "      <td>0.0</td>\n",
       "      <td>0.000000</td>\n",
       "      <td>0.0</td>\n",
       "      <td>3.0</td>\n",
       "      <td>0.0</td>\n",
       "      <td>0.0</td>\n",
       "      <td>0.0</td>\n",
       "    </tr>\n",
       "    <tr>\n",
       "      <th>5155</th>\n",
       "      <td>2690</td>\n",
       "      <td>2020-03-23</td>\n",
       "      <td>niña guerra</td>\n",
       "      <td>1</td>\n",
       "      <td>0</td>\n",
       "      <td>0</td>\n",
       "      <td>0</td>\n",
       "      <td>0</td>\n",
       "      <td>0</td>\n",
       "      <td>1</td>\n",
       "      <td>0</td>\n",
       "      <td>0</td>\n",
       "      <td>0</td>\n",
       "      <td>0</td>\n",
       "      <td>0</td>\n",
       "      <td>0</td>\n",
       "      <td>0.0000</td>\n",
       "      <td>0.0</td>\n",
       "      <td>0.0</td>\n",
       "      <td>23400.0</td>\n",
       "      <td>0.0</td>\n",
       "      <td>0.0</td>\n",
       "      <td>0.0</td>\n",
       "      <td>0.0</td>\n",
       "      <td>0.0</td>\n",
       "      <td>0.0</td>\n",
       "      <td>0.0</td>\n",
       "      <td>0.0</td>\n",
       "      <td>0.0</td>\n",
       "      <td>0.0</td>\n",
       "      <td>0.0</td>\n",
       "      <td>0.0</td>\n",
       "      <td>0.0</td>\n",
       "      <td>0.0</td>\n",
       "      <td>0.0</td>\n",
       "      <td>0.0</td>\n",
       "      <td>0.0</td>\n",
       "      <td>0.000000</td>\n",
       "      <td>0.0</td>\n",
       "      <td>3.0</td>\n",
       "      <td>0.0</td>\n",
       "      <td>0.0</td>\n",
       "      <td>0.0</td>\n",
       "    </tr>\n",
       "    <tr>\n",
       "      <th>5156</th>\n",
       "      <td>2690</td>\n",
       "      <td>2020-03-27</td>\n",
       "      <td>complicación firmo trabajo</td>\n",
       "      <td>1</td>\n",
       "      <td>0</td>\n",
       "      <td>0</td>\n",
       "      <td>0</td>\n",
       "      <td>0</td>\n",
       "      <td>0</td>\n",
       "      <td>0</td>\n",
       "      <td>0</td>\n",
       "      <td>0</td>\n",
       "      <td>1</td>\n",
       "      <td>0</td>\n",
       "      <td>0</td>\n",
       "      <td>0</td>\n",
       "      <td>641.4610</td>\n",
       "      <td>0.0</td>\n",
       "      <td>5413.0</td>\n",
       "      <td>42000.0</td>\n",
       "      <td>0.0</td>\n",
       "      <td>0.0</td>\n",
       "      <td>0.0</td>\n",
       "      <td>0.0</td>\n",
       "      <td>0.0</td>\n",
       "      <td>5295.0</td>\n",
       "      <td>0.0</td>\n",
       "      <td>28367.0</td>\n",
       "      <td>0.0</td>\n",
       "      <td>554.0</td>\n",
       "      <td>608.0</td>\n",
       "      <td>0.0</td>\n",
       "      <td>0.0</td>\n",
       "      <td>0.0</td>\n",
       "      <td>0.0</td>\n",
       "      <td>1.0</td>\n",
       "      <td>1.0</td>\n",
       "      <td>0.000000</td>\n",
       "      <td>0.0</td>\n",
       "      <td>1.0</td>\n",
       "      <td>0.0</td>\n",
       "      <td>554.0</td>\n",
       "      <td>0.0</td>\n",
       "    </tr>\n",
       "    <tr>\n",
       "      <th>5157</th>\n",
       "      <td>2690</td>\n",
       "      <td>2020-04-14</td>\n",
       "      <td>guerra niña</td>\n",
       "      <td>1</td>\n",
       "      <td>0</td>\n",
       "      <td>0</td>\n",
       "      <td>0</td>\n",
       "      <td>0</td>\n",
       "      <td>0</td>\n",
       "      <td>1</td>\n",
       "      <td>0</td>\n",
       "      <td>0</td>\n",
       "      <td>0</td>\n",
       "      <td>0</td>\n",
       "      <td>0</td>\n",
       "      <td>0</td>\n",
       "      <td>0.0000</td>\n",
       "      <td>0.0</td>\n",
       "      <td>0.0</td>\n",
       "      <td>25200.0</td>\n",
       "      <td>0.0</td>\n",
       "      <td>0.0</td>\n",
       "      <td>0.0</td>\n",
       "      <td>0.0</td>\n",
       "      <td>0.0</td>\n",
       "      <td>0.0</td>\n",
       "      <td>0.0</td>\n",
       "      <td>0.0</td>\n",
       "      <td>0.0</td>\n",
       "      <td>0.0</td>\n",
       "      <td>0.0</td>\n",
       "      <td>0.0</td>\n",
       "      <td>0.0</td>\n",
       "      <td>0.0</td>\n",
       "      <td>0.0</td>\n",
       "      <td>0.0</td>\n",
       "      <td>0.0</td>\n",
       "      <td>0.000000</td>\n",
       "      <td>0.0</td>\n",
       "      <td>1.0</td>\n",
       "      <td>0.0</td>\n",
       "      <td>0.0</td>\n",
       "      <td>0.0</td>\n",
       "    </tr>\n",
       "  </tbody>\n",
       "</table>\n",
       "<p>5158 rows × 43 columns</p>\n",
       "</div>"
      ],
      "text/plain": [
       "        id        date  ... biking  clusters_count\n",
       "0       10  2019-05-04  ...    0.0             6.0\n",
       "1       10  2019-05-05  ...    0.0             6.0\n",
       "2       10  2019-05-06  ...    0.0            15.0\n",
       "3       10  2019-05-07  ...    0.0             2.0\n",
       "4       10  2019-05-20  ...    0.0             2.0\n",
       "...    ...         ...  ...    ...             ...\n",
       "5153  2690  2020-03-11  ...    0.0             0.0\n",
       "5154  2690  2020-03-23  ...    0.0             0.0\n",
       "5155  2690  2020-03-23  ...    0.0             0.0\n",
       "5156  2690  2020-03-27  ...  554.0             0.0\n",
       "5157  2690  2020-04-14  ...    0.0             0.0\n",
       "\n",
       "[5158 rows x 43 columns]"
      ]
     },
     "execution_count": 37,
     "metadata": {
      "tags": []
     },
     "output_type": "execute_result"
    }
   ],
   "source": [
    "emotions_df = pd.read_csv('app_records_cleaned.csv')\n",
    "emotions_df"
   ]
  },
  {
   "cell_type": "code",
   "execution_count": 38,
   "metadata": {
    "colab": {
     "base_uri": "https://localhost:8080/"
    },
    "executionInfo": {
     "elapsed": 11,
     "status": "ok",
     "timestamp": 1624824583823,
     "user": {
      "displayName": "Arturo Silva González",
      "photoUrl": "https://lh3.googleusercontent.com/a-/AOh14GiUHdipuYIBJIA1SlUS1AmLgDU-JVlj3PpPUxj0=s64",
      "userId": "00222598250959016841"
     },
     "user_tz": -120
    },
    "id": "l7A09pMci_RL",
    "outputId": "2c8c61cd-a660-4eeb-ac8d-67b2eb8ad174"
   },
   "outputs": [
    {
     "name": "stdout",
     "output_type": "stream",
     "text": [
      "Null values: 0\n"
     ]
    }
   ],
   "source": [
    "print('Null values:', np.sum(emotions_df.isnull().values))"
   ]
  },
  {
   "cell_type": "markdown",
   "metadata": {
    "id": "cNLuc7EmjaSc"
   },
   "source": [
    "## Data arrangement"
   ]
  },
  {
   "cell_type": "markdown",
   "metadata": {
    "id": "rUwxkPh2ga5l"
   },
   "source": [
    "SOS and EOS tags creation"
   ]
  },
  {
   "cell_type": "code",
   "execution_count": 39,
   "metadata": {
    "executionInfo": {
     "elapsed": 639,
     "status": "ok",
     "timestamp": 1624824584454,
     "user": {
      "displayName": "Arturo Silva González",
      "photoUrl": "https://lh3.googleusercontent.com/a-/AOh14GiUHdipuYIBJIA1SlUS1AmLgDU-JVlj3PpPUxj0=s64",
      "userId": "00222598250959016841"
     },
     "user_tz": -120
    },
    "id": "4HGkZIeugIpU"
   },
   "outputs": [],
   "source": [
    "nlp = spacy.load('es_core_news_md')"
   ]
  },
  {
   "cell_type": "markdown",
   "metadata": {
    "id": "uWkUr6b_gmZl"
   },
   "source": [
    "Check that do not exist right now. "
   ]
  },
  {
   "cell_type": "code",
   "execution_count": 40,
   "metadata": {
    "colab": {
     "base_uri": "https://localhost:8080/"
    },
    "executionInfo": {
     "elapsed": 6,
     "status": "ok",
     "timestamp": 1624824584455,
     "user": {
      "displayName": "Arturo Silva González",
      "photoUrl": "https://lh3.googleusercontent.com/a-/AOh14GiUHdipuYIBJIA1SlUS1AmLgDU-JVlj3PpPUxj0=s64",
      "userId": "00222598250959016841"
     },
     "user_tz": -120
    },
    "id": "KF-_0j9AglPr",
    "outputId": "07ab2847-a7b0-4957-fe43-a3a336664009"
   },
   "outputs": [
    {
     "name": "stdout",
     "output_type": "stream",
     "text": [
      "SOS in vocab: False\n",
      "EOS in vocab: False\n"
     ]
    }
   ],
   "source": [
    "print(f'SOS in vocab: {nlp.vocab.has_vector(\"<sos>\")}')\n",
    "print(f'EOS in vocab: {nlp.vocab.has_vector(\"<eos>\")}')"
   ]
  },
  {
   "cell_type": "markdown",
   "metadata": {
    "id": "QvnA49H_grEk"
   },
   "source": [
    "We add for the tokenizer the tags. "
   ]
  },
  {
   "cell_type": "code",
   "execution_count": 41,
   "metadata": {
    "executionInfo": {
     "elapsed": 4,
     "status": "ok",
     "timestamp": 1624824584455,
     "user": {
      "displayName": "Arturo Silva González",
      "photoUrl": "https://lh3.googleusercontent.com/a-/AOh14GiUHdipuYIBJIA1SlUS1AmLgDU-JVlj3PpPUxj0=s64",
      "userId": "00222598250959016841"
     },
     "user_tz": -120
    },
    "id": "M6faW_P4gpng"
   },
   "outputs": [],
   "source": [
    "nlp.tokenizer.add_special_case('<sos>', [{spacy.symbols.ORTH: \"<sos>\"}])\n",
    "nlp.tokenizer.add_special_case('<eos>', [{spacy.symbols.ORTH: \"<eos>\"}])"
   ]
  },
  {
   "cell_type": "code",
   "execution_count": 42,
   "metadata": {
    "colab": {
     "base_uri": "https://localhost:8080/"
    },
    "executionInfo": {
     "elapsed": 488,
     "status": "ok",
     "timestamp": 1624824584940,
     "user": {
      "displayName": "Arturo Silva González",
      "photoUrl": "https://lh3.googleusercontent.com/a-/AOh14GiUHdipuYIBJIA1SlUS1AmLgDU-JVlj3PpPUxj0=s64",
      "userId": "00222598250959016841"
     },
     "user_tz": -120
    },
    "id": "q1okXSsWgvSj",
    "outputId": "92c30e94-11be-4c81-cb49-1076fab7440b"
   },
   "outputs": [
    {
     "name": "stdout",
     "output_type": "stream",
     "text": [
      "<sos> NUM ROOT\n",
      "Hola PROPN flat\n",
      "que SCONJ mark\n",
      "tal PRON det\n",
      "estas PRON fixed\n",
      "<eos> NUM conj\n"
     ]
    }
   ],
   "source": [
    "doc = nlp('<sos> Hola que tal estas <eos>')\n",
    "for token in doc:\n",
    "    print(token.text, token.pos_, token.dep_)"
   ]
  },
  {
   "cell_type": "markdown",
   "metadata": {
    "id": "tptj-6cxg1lT"
   },
   "source": [
    "Creates the new vectors and links them to the <sos> and <eos> tags. "
   ]
  },
  {
   "cell_type": "code",
   "execution_count": 43,
   "metadata": {
    "colab": {
     "base_uri": "https://localhost:8080/"
    },
    "executionInfo": {
     "elapsed": 12,
     "status": "ok",
     "timestamp": 1624824584941,
     "user": {
      "displayName": "Arturo Silva González",
      "photoUrl": "https://lh3.googleusercontent.com/a-/AOh14GiUHdipuYIBJIA1SlUS1AmLgDU-JVlj3PpPUxj0=s64",
      "userId": "00222598250959016841"
     },
     "user_tz": -120
    },
    "id": "fZyPZ9ZGgzXB",
    "outputId": "710491d7-b4bf-447e-9448-e462ec511620"
   },
   "outputs": [
    {
     "name": "stdout",
     "output_type": "stream",
     "text": [
      "SOS in vocab: True\n",
      "EOS in vocab: True\n"
     ]
    }
   ],
   "source": [
    "np.random.seed(SEED)\n",
    "sos_vector = np.random.rand(300).astype(np.float32)\n",
    "eos_vector = np.random.rand(300).astype(np.float32)\n",
    "nlp.vocab.set_vector('<sos>', sos_vector)\n",
    "nlp.vocab.set_vector('<eos>', eos_vector)\n",
    "print(f'SOS in vocab: {nlp.vocab.has_vector(\"<sos>\")}')\n",
    "print(f'EOS in vocab: {nlp.vocab.has_vector(\"<eos>\")}')"
   ]
  },
  {
   "cell_type": "code",
   "execution_count": 44,
   "metadata": {
    "colab": {
     "base_uri": "https://localhost:8080/"
    },
    "executionInfo": {
     "elapsed": 9,
     "status": "ok",
     "timestamp": 1624824584941,
     "user": {
      "displayName": "Arturo Silva González",
      "photoUrl": "https://lh3.googleusercontent.com/a-/AOh14GiUHdipuYIBJIA1SlUS1AmLgDU-JVlj3PpPUxj0=s64",
      "userId": "00222598250959016841"
     },
     "user_tz": -120
    },
    "id": "LmShd5B6hE04",
    "outputId": "c1e68e21-8087-4984-c45f-501b9167a130"
   },
   "outputs": [
    {
     "name": "stdout",
     "output_type": "stream",
     "text": [
      "[0.5488135  0.71518934 0.60276335 0.5448832  0.4236548 ]\n",
      "[0.5488135  0.71518934 0.60276335 0.5448832  0.4236548 ]\n",
      "[0.9065555  0.7740473  0.33314514 0.08110139 0.40724117]\n",
      "[0.9065555  0.7740473  0.33314514 0.08110139 0.40724117]\n"
     ]
    }
   ],
   "source": [
    "print(sos_vector[:5])\n",
    "print(nlp.vocab.get_vector('<sos>')[:5])\n",
    "print(eos_vector[:5])\n",
    "print(nlp.vocab.get_vector('<eos>')[:5])"
   ]
  },
  {
   "cell_type": "markdown",
   "metadata": {
    "id": "OrUDWwEmf0J1"
   },
   "source": [
    "It returns a DataFrame with all the field, including the emotion text field with the <SOS> and the <EOS> tags and regularized."
   ]
  },
  {
   "cell_type": "code",
   "execution_count": 45,
   "metadata": {
    "executionInfo": {
     "elapsed": 6,
     "status": "ok",
     "timestamp": 1624824584941,
     "user": {
      "displayName": "Arturo Silva González",
      "photoUrl": "https://lh3.googleusercontent.com/a-/AOh14GiUHdipuYIBJIA1SlUS1AmLgDU-JVlj3PpPUxj0=s64",
      "userId": "00222598250959016841"
     },
     "user_tz": -120
    },
    "id": "N1fZA_BphWHO"
   },
   "outputs": [],
   "source": [
    "def add_eos_sos_tags(text):\n",
    "    words = text.split(' ')\n",
    "    words.insert(0, '<sos>')\n",
    "    words.append('<eos>')\n",
    "    return ' '.join(words)"
   ]
  },
  {
   "cell_type": "code",
   "execution_count": 46,
   "metadata": {
    "executionInfo": {
     "elapsed": 6,
     "status": "ok",
     "timestamp": 1624824584942,
     "user": {
      "displayName": "Arturo Silva González",
      "photoUrl": "https://lh3.googleusercontent.com/a-/AOh14GiUHdipuYIBJIA1SlUS1AmLgDU-JVlj3PpPUxj0=s64",
      "userId": "00222598250959016841"
     },
     "user_tz": -120
    },
    "id": "zYYQGVDwhmwD"
   },
   "outputs": [],
   "source": [
    "def regularize_text(max_words, text):\n",
    "    words = text.split(' ')\n",
    "    len_words = len(words)\n",
    "    if (len_words < max_words):\n",
    "        eos = ['<eos>'] * (max_words - len_words)\n",
    "        words = words + eos\n",
    "    return ' '.join(words)"
   ]
  },
  {
   "cell_type": "code",
   "execution_count": 47,
   "metadata": {
    "executionInfo": {
     "elapsed": 6,
     "status": "ok",
     "timestamp": 1624824584942,
     "user": {
      "displayName": "Arturo Silva González",
      "photoUrl": "https://lh3.googleusercontent.com/a-/AOh14GiUHdipuYIBJIA1SlUS1AmLgDU-JVlj3PpPUxj0=s64",
      "userId": "00222598250959016841"
     },
     "user_tz": -120
    },
    "id": "abF_GqtXm9PG"
   },
   "outputs": [],
   "source": [
    "def obtain_n_rows_from_sentence(word2row, text):\n",
    "    words = text.split(' ')\n",
    "    rows = [word2row[w] for w in words]\n",
    "    return rows"
   ]
  },
  {
   "cell_type": "code",
   "execution_count": 48,
   "metadata": {
    "executionInfo": {
     "elapsed": 6,
     "status": "ok",
     "timestamp": 1624824584942,
     "user": {
      "displayName": "Arturo Silva González",
      "photoUrl": "https://lh3.googleusercontent.com/a-/AOh14GiUHdipuYIBJIA1SlUS1AmLgDU-JVlj3PpPUxj0=s64",
      "userId": "00222598250959016841"
     },
     "user_tz": -120
    },
    "id": "HTJCEVmVryaa"
   },
   "outputs": [],
   "source": [
    "def obtain_words_from_rows(rows_array):\n",
    "    words = [[row2word[rows_array[i, j]] \\\n",
    "              for j in range(rows_array.shape[1])] \\\n",
    "                          for i in range(rows_array.shape[0])]\n",
    "    return np.array(words)"
   ]
  },
  {
   "cell_type": "code",
   "execution_count": 49,
   "metadata": {
    "executionInfo": {
     "elapsed": 6,
     "status": "ok",
     "timestamp": 1624824584943,
     "user": {
      "displayName": "Arturo Silva González",
      "photoUrl": "https://lh3.googleusercontent.com/a-/AOh14GiUHdipuYIBJIA1SlUS1AmLgDU-JVlj3PpPUxj0=s64",
      "userId": "00222598250959016841"
     },
     "user_tz": -120
    },
    "id": "gPMElnwsfbaV"
   },
   "outputs": [],
   "source": [
    "def arrange_data(df):\n",
    "    # Compute maximum number of words\n",
    "    df_aux = df.copy()\n",
    "    # First, we add the tags\n",
    "    emotion_texts = df_aux['emotion_text']\n",
    "    emotion_texts_tags = emotion_texts.apply(lambda x: add_eos_sos_tags(x))\n",
    "    # Then, compute the words used\n",
    "    df_aux['words_used'] = emotion_texts_tags.apply(lambda x: len(x.split()))\n",
    "    # Then, compute the maximum words \n",
    "    max_words = len(max(emotion_texts_tags, key=lambda x: len(x.split())).split())\n",
    "    print('The maximum number of words in a text:', max_words)\n",
    "    emotion_texts_reg = emotion_texts_tags\\\n",
    "                                .apply(lambda x: regularize_text(max_words, x))\n",
    "    df_aux['emotion_text_reg'] = emotion_texts_reg    \n",
    "\n",
    "    vocab = set(df_aux.emotion_text_reg.str.cat(sep=' ').split(' '))\n",
    "    print('Number of words in the vocabulary:', len(vocab))\n",
    "    word2row = {w: i for i, w in enumerate(vocab)}\n",
    "    row2word = {i: w for i, w in enumerate(vocab)}\n",
    "    word_embed = np.zeros((len(vocab), 300), dtype=np.float32)\n",
    "    for i, w in enumerate(vocab):\n",
    "        word_embed[i] = nlp.vocab.get_vector(w)\n",
    "    \n",
    "    text_row_regular = df_aux.emotion_text_reg.\\\n",
    "        apply(lambda x: obtain_n_rows_from_sentence(word2row, x))\n",
    "\n",
    "    df_aux['emotion_text_row'] = text_row_regular\n",
    "\n",
    "    return df_aux, word2row, row2word, word_embed"
   ]
  },
  {
   "cell_type": "code",
   "execution_count": 50,
   "metadata": {
    "colab": {
     "base_uri": "https://localhost:8080/"
    },
    "executionInfo": {
     "elapsed": 284,
     "status": "ok",
     "timestamp": 1624824585221,
     "user": {
      "displayName": "Arturo Silva González",
      "photoUrl": "https://lh3.googleusercontent.com/a-/AOh14GiUHdipuYIBJIA1SlUS1AmLgDU-JVlj3PpPUxj0=s64",
      "userId": "00222598250959016841"
     },
     "user_tz": -120
    },
    "id": "aUdxX-cAjDWD",
    "outputId": "dff21f72-a143-40b4-e6a8-5d81641eaf95"
   },
   "outputs": [
    {
     "name": "stdout",
     "output_type": "stream",
     "text": [
      "The maximum number of words in a text: 17\n",
      "Number of words in the vocabulary: 3409\n"
     ]
    }
   ],
   "source": [
    "emotions_df_reg, word2row, row2word, word_embed = arrange_data(emotions_df)"
   ]
  },
  {
   "cell_type": "code",
   "execution_count": 51,
   "metadata": {
    "colab": {
     "base_uri": "https://localhost:8080/",
     "height": 315
    },
    "executionInfo": {
     "elapsed": 8,
     "status": "ok",
     "timestamp": 1624824585222,
     "user": {
      "displayName": "Arturo Silva González",
      "photoUrl": "https://lh3.googleusercontent.com/a-/AOh14GiUHdipuYIBJIA1SlUS1AmLgDU-JVlj3PpPUxj0=s64",
      "userId": "00222598250959016841"
     },
     "user_tz": -120
    },
    "id": "3cLogZuBqeYD",
    "outputId": "ecca0e43-3660-45d2-80c5-fd2304c1521f"
   },
   "outputs": [
    {
     "data": {
      "text/html": [
       "<div>\n",
       "<style scoped>\n",
       "    .dataframe tbody tr th:only-of-type {\n",
       "        vertical-align: middle;\n",
       "    }\n",
       "\n",
       "    .dataframe tbody tr th {\n",
       "        vertical-align: top;\n",
       "    }\n",
       "\n",
       "    .dataframe thead th {\n",
       "        text-align: right;\n",
       "    }\n",
       "</style>\n",
       "<table border=\"1\" class=\"dataframe\">\n",
       "  <thead>\n",
       "    <tr style=\"text-align: right;\">\n",
       "      <th></th>\n",
       "      <th>id</th>\n",
       "      <th>date</th>\n",
       "      <th>emotion_text</th>\n",
       "      <th>sad</th>\n",
       "      <th>encantado</th>\n",
       "      <th>neutro</th>\n",
       "      <th>feliz</th>\n",
       "      <th>motivado</th>\n",
       "      <th>relajado</th>\n",
       "      <th>ira</th>\n",
       "      <th>disgustado</th>\n",
       "      <th>tristeza</th>\n",
       "      <th>agobiado</th>\n",
       "      <th>cansado</th>\n",
       "      <th>asustado</th>\n",
       "      <th>dolor</th>\n",
       "      <th>distance</th>\n",
       "      <th>steps_home</th>\n",
       "      <th>steps_total</th>\n",
       "      <th>sleep</th>\n",
       "      <th>sleep_quality</th>\n",
       "      <th>calls</th>\n",
       "      <th>social_usage</th>\n",
       "      <th>games_usage</th>\n",
       "      <th>app_usage</th>\n",
       "      <th>walking</th>\n",
       "      <th>tilting</th>\n",
       "      <th>still</th>\n",
       "      <th>running</th>\n",
       "      <th>sport</th>\n",
       "      <th>vehicle</th>\n",
       "      <th>acrophase</th>\n",
       "      <th>mesor</th>\n",
       "      <th>amplitude</th>\n",
       "      <th>start_move</th>\n",
       "      <th>stability</th>\n",
       "      <th>behavior</th>\n",
       "      <th>gyradius</th>\n",
       "      <th>home_cluster</th>\n",
       "      <th>emotions_count</th>\n",
       "      <th>emotions_ratio</th>\n",
       "      <th>biking</th>\n",
       "      <th>clusters_count</th>\n",
       "      <th>words_used</th>\n",
       "      <th>emotion_text_reg</th>\n",
       "      <th>emotion_text_row</th>\n",
       "    </tr>\n",
       "  </thead>\n",
       "  <tbody>\n",
       "    <tr>\n",
       "      <th>0</th>\n",
       "      <td>10</td>\n",
       "      <td>2019-05-04</td>\n",
       "      <td>levantar comer frustrar</td>\n",
       "      <td>0</td>\n",
       "      <td>0</td>\n",
       "      <td>0</td>\n",
       "      <td>1</td>\n",
       "      <td>0</td>\n",
       "      <td>0</td>\n",
       "      <td>0</td>\n",
       "      <td>0</td>\n",
       "      <td>0</td>\n",
       "      <td>0</td>\n",
       "      <td>0</td>\n",
       "      <td>0</td>\n",
       "      <td>0</td>\n",
       "      <td>8587.15</td>\n",
       "      <td>398.0</td>\n",
       "      <td>720.0</td>\n",
       "      <td>32400.0</td>\n",
       "      <td>22.0</td>\n",
       "      <td>0.0</td>\n",
       "      <td>8090.0</td>\n",
       "      <td>0.0</td>\n",
       "      <td>20588.0</td>\n",
       "      <td>55.0</td>\n",
       "      <td>5157.0</td>\n",
       "      <td>20603.0</td>\n",
       "      <td>0.0</td>\n",
       "      <td>0.0</td>\n",
       "      <td>2398.0</td>\n",
       "      <td>0.0</td>\n",
       "      <td>0.0</td>\n",
       "      <td>0.0</td>\n",
       "      <td>0.0</td>\n",
       "      <td>0.0</td>\n",
       "      <td>0.0</td>\n",
       "      <td>0.003554</td>\n",
       "      <td>70200.0</td>\n",
       "      <td>0.0</td>\n",
       "      <td>0.0</td>\n",
       "      <td>0.0</td>\n",
       "      <td>6.0</td>\n",
       "      <td>5</td>\n",
       "      <td>&lt;sos&gt; levantar comer frustrar &lt;eos&gt; &lt;eos&gt; &lt;eos...</td>\n",
       "      <td>[474, 2626, 645, 1740, 2426, 2426, 2426, 2426,...</td>\n",
       "    </tr>\n",
       "    <tr>\n",
       "      <th>1</th>\n",
       "      <td>10</td>\n",
       "      <td>2019-05-05</td>\n",
       "      <td>hoy despertar pero no comer</td>\n",
       "      <td>0</td>\n",
       "      <td>0</td>\n",
       "      <td>0</td>\n",
       "      <td>1</td>\n",
       "      <td>0</td>\n",
       "      <td>0</td>\n",
       "      <td>0</td>\n",
       "      <td>0</td>\n",
       "      <td>0</td>\n",
       "      <td>0</td>\n",
       "      <td>0</td>\n",
       "      <td>0</td>\n",
       "      <td>0</td>\n",
       "      <td>5796.92</td>\n",
       "      <td>2491.0</td>\n",
       "      <td>3986.0</td>\n",
       "      <td>28800.0</td>\n",
       "      <td>28.0</td>\n",
       "      <td>0.0</td>\n",
       "      <td>2620.0</td>\n",
       "      <td>0.0</td>\n",
       "      <td>20836.0</td>\n",
       "      <td>889.0</td>\n",
       "      <td>2118.0</td>\n",
       "      <td>11749.0</td>\n",
       "      <td>0.0</td>\n",
       "      <td>0.0</td>\n",
       "      <td>0.0</td>\n",
       "      <td>0.0</td>\n",
       "      <td>0.0</td>\n",
       "      <td>0.0</td>\n",
       "      <td>0.0</td>\n",
       "      <td>0.0</td>\n",
       "      <td>0.0</td>\n",
       "      <td>0.001379</td>\n",
       "      <td>75600.0</td>\n",
       "      <td>0.0</td>\n",
       "      <td>0.0</td>\n",
       "      <td>0.0</td>\n",
       "      <td>6.0</td>\n",
       "      <td>7</td>\n",
       "      <td>&lt;sos&gt; hoy despertar pero no comer &lt;eos&gt; &lt;eos&gt; ...</td>\n",
       "      <td>[474, 2504, 611, 533, 1308, 645, 2426, 2426, 2...</td>\n",
       "    </tr>\n",
       "    <tr>\n",
       "      <th>2</th>\n",
       "      <td>10</td>\n",
       "      <td>2019-05-06</td>\n",
       "      <td>no comer noche</td>\n",
       "      <td>0</td>\n",
       "      <td>0</td>\n",
       "      <td>0</td>\n",
       "      <td>1</td>\n",
       "      <td>0</td>\n",
       "      <td>0</td>\n",
       "      <td>0</td>\n",
       "      <td>0</td>\n",
       "      <td>0</td>\n",
       "      <td>0</td>\n",
       "      <td>0</td>\n",
       "      <td>0</td>\n",
       "      <td>0</td>\n",
       "      <td>26207.20</td>\n",
       "      <td>1111.0</td>\n",
       "      <td>1773.0</td>\n",
       "      <td>28800.0</td>\n",
       "      <td>30.0</td>\n",
       "      <td>0.0</td>\n",
       "      <td>8200.0</td>\n",
       "      <td>0.0</td>\n",
       "      <td>24300.0</td>\n",
       "      <td>280.0</td>\n",
       "      <td>8139.0</td>\n",
       "      <td>9901.0</td>\n",
       "      <td>0.0</td>\n",
       "      <td>0.0</td>\n",
       "      <td>4113.0</td>\n",
       "      <td>0.0</td>\n",
       "      <td>0.0</td>\n",
       "      <td>0.0</td>\n",
       "      <td>3109.0</td>\n",
       "      <td>0.0</td>\n",
       "      <td>0.0</td>\n",
       "      <td>0.012274</td>\n",
       "      <td>64800.0</td>\n",
       "      <td>0.0</td>\n",
       "      <td>0.0</td>\n",
       "      <td>0.0</td>\n",
       "      <td>15.0</td>\n",
       "      <td>5</td>\n",
       "      <td>&lt;sos&gt; no comer noche &lt;eos&gt; &lt;eos&gt; &lt;eos&gt; &lt;eos&gt; &lt;...</td>\n",
       "      <td>[474, 1308, 645, 1501, 2426, 2426, 2426, 2426,...</td>\n",
       "    </tr>\n",
       "  </tbody>\n",
       "</table>\n",
       "</div>"
      ],
      "text/plain": [
       "   id  ...                                   emotion_text_row\n",
       "0  10  ...  [474, 2626, 645, 1740, 2426, 2426, 2426, 2426,...\n",
       "1  10  ...  [474, 2504, 611, 533, 1308, 645, 2426, 2426, 2...\n",
       "2  10  ...  [474, 1308, 645, 1501, 2426, 2426, 2426, 2426,...\n",
       "\n",
       "[3 rows x 46 columns]"
      ]
     },
     "execution_count": 51,
     "metadata": {
      "tags": []
     },
     "output_type": "execute_result"
    }
   ],
   "source": [
    "emotions_df_reg.head(3)"
   ]
  },
  {
   "cell_type": "markdown",
   "metadata": {
    "id": "lW-W5LE-lL_j"
   },
   "source": [
    "### 4 variables aggregation"
   ]
  },
  {
   "cell_type": "markdown",
   "metadata": {
    "id": "VMHSLZCxlPMW"
   },
   "source": [
    "We are going to predict, given a text, whether the person is happy, normal, upset or angry. "
   ]
  },
  {
   "cell_type": "code",
   "execution_count": 21,
   "metadata": {
    "executionInfo": {
     "elapsed": 9,
     "status": "ok",
     "timestamp": 1624822811964,
     "user": {
      "displayName": "Arturo Silva González",
      "photoUrl": "https://lh3.googleusercontent.com/a-/AOh14GiUHdipuYIBJIA1SlUS1AmLgDU-JVlj3PpPUxj0=s64",
      "userId": "00222598250959016841"
     },
     "user_tz": -120
    },
    "id": "pCEiHiRElT7q"
   },
   "outputs": [],
   "source": [
    "happy = ['encantado', 'feliz', 'motivado', 'relajado']\n",
    "normal = 'neutro'\n",
    "upset = ['disgustado', 'tristeza', 'agobiado', 'cansado', 'dolor', 'asustado']\n",
    "angry = 'ira'\n",
    "\n",
    "happy_df = np.sum(emotions_df_reg[happy], axis=1)\n",
    "normal_df = emotions_df_reg[normal]\n",
    "sad_df = np.sum(emotions_df_reg[upset], axis=1)\n",
    "angry_df = emotions_df_reg[angry]\n",
    "\n",
    "emotions_df_reg.insert(4, column='happy', value=happy_df)\n",
    "emotions_df_reg.insert(5, column='normal', value=normal_df)\n",
    "emotions_df_reg.insert(6, column='upset', value=sad_df)\n",
    "emotions_df_reg.insert(7, column='angry', value=angry_df)"
   ]
  },
  {
   "cell_type": "code",
   "execution_count": 22,
   "metadata": {
    "executionInfo": {
     "elapsed": 9,
     "status": "ok",
     "timestamp": 1624822811965,
     "user": {
      "displayName": "Arturo Silva González",
      "photoUrl": "https://lh3.googleusercontent.com/a-/AOh14GiUHdipuYIBJIA1SlUS1AmLgDU-JVlj3PpPUxj0=s64",
      "userId": "00222598250959016841"
     },
     "user_tz": -120
    },
    "id": "GziIK7uPxHu9"
   },
   "outputs": [],
   "source": [
    "emotions_list = happy + ['neutro'] + upset + ['ira']\n",
    "emotions_occur = [np.sum(emotions_df_reg[emotion]) for emotion in emotions_list]"
   ]
  },
  {
   "cell_type": "code",
   "execution_count": 25,
   "metadata": {
    "executionInfo": {
     "elapsed": 231,
     "status": "ok",
     "timestamp": 1624822980639,
     "user": {
      "displayName": "Arturo Silva González",
      "photoUrl": "https://lh3.googleusercontent.com/a-/AOh14GiUHdipuYIBJIA1SlUS1AmLgDU-JVlj3PpPUxj0=s64",
      "userId": "00222598250959016841"
     },
     "user_tz": -120
    },
    "id": "kz8HoOGc_kc6"
   },
   "outputs": [],
   "source": [
    "emotions_list = ['happy', 'normal', 'upset', 'angry']\n",
    "emotions_occur = [np.sum(emotions_df_reg[emotion]) for emotion in emotions_list]"
   ]
  },
  {
   "cell_type": "code",
   "execution_count": 27,
   "metadata": {
    "colab": {
     "base_uri": "https://localhost:8080/",
     "height": 481
    },
    "executionInfo": {
     "elapsed": 1218,
     "status": "ok",
     "timestamp": 1624823005348,
     "user": {
      "displayName": "Arturo Silva González",
      "photoUrl": "https://lh3.googleusercontent.com/a-/AOh14GiUHdipuYIBJIA1SlUS1AmLgDU-JVlj3PpPUxj0=s64",
      "userId": "00222598250959016841"
     },
     "user_tz": -120
    },
    "id": "AlpPVA8QxECq",
    "outputId": "0b1ca107-1fd0-412f-810d-c5585d2d2d29"
   },
   "outputs": [
    {
     "data": {
      "image/png": "[encoded data removed]",
      "text/plain": [
       "<Figure size 576x576 with 1 Axes>"
      ]
     },
     "metadata": {
      "image/png": {
       "height": 464,
       "width": 449
      },
      "tags": []
     },
     "output_type": "display_data"
    }
   ],
   "source": [
    "pie_chart_all_emotions = pd.DataFrame(zip(emotions_list, emotions_occur),\n",
    "                                      columns=['Emotions', 'Occurrences'])\n",
    "pie_chart_all_emotions = pie_chart_all_emotions.set_index('Emotions')\n",
    "pie_chart_all_emotions.Occurrences.plot.pie(title='4 sentiment classes distribution',\n",
    "                                ylabel='', autopct='%1.1f%%', \n",
    "                                figsize=(8, 8))\n",
    "plt.savefig('emotion_generator_4_classes.png', dpi=300)"
   ]
  },
  {
   "cell_type": "code",
   "execution_count": null,
   "metadata": {
    "colab": {
     "base_uri": "https://localhost:8080/",
     "height": 233
    },
    "executionInfo": {
     "elapsed": 5,
     "status": "ok",
     "timestamp": 1624726902864,
     "user": {
      "displayName": "Arturo Silva González",
      "photoUrl": "https://lh3.googleusercontent.com/a-/AOh14GiUHdipuYIBJIA1SlUS1AmLgDU-JVlj3PpPUxj0=s64",
      "userId": "00222598250959016841"
     },
     "user_tz": -120
    },
    "id": "brRirRYjmB5R",
    "outputId": "9fb3cc20-5551-4ef5-c2f4-fb3a25826691"
   },
   "outputs": [
    {
     "data": {
      "text/html": [
       "<div>\n",
       "<style scoped>\n",
       "    .dataframe tbody tr th:only-of-type {\n",
       "        vertical-align: middle;\n",
       "    }\n",
       "\n",
       "    .dataframe tbody tr th {\n",
       "        vertical-align: top;\n",
       "    }\n",
       "\n",
       "    .dataframe thead th {\n",
       "        text-align: right;\n",
       "    }\n",
       "</style>\n",
       "<table border=\"1\" class=\"dataframe\">\n",
       "  <thead>\n",
       "    <tr style=\"text-align: right;\">\n",
       "      <th></th>\n",
       "      <th>id</th>\n",
       "      <th>date</th>\n",
       "      <th>emotion_text</th>\n",
       "      <th>sad</th>\n",
       "      <th>happy</th>\n",
       "      <th>normal</th>\n",
       "      <th>upset</th>\n",
       "      <th>angry</th>\n",
       "      <th>encantado</th>\n",
       "      <th>neutro</th>\n",
       "      <th>feliz</th>\n",
       "      <th>motivado</th>\n",
       "      <th>relajado</th>\n",
       "      <th>ira</th>\n",
       "      <th>disgustado</th>\n",
       "      <th>tristeza</th>\n",
       "      <th>agobiado</th>\n",
       "      <th>cansado</th>\n",
       "      <th>asustado</th>\n",
       "      <th>dolor</th>\n",
       "      <th>distance</th>\n",
       "      <th>steps_home</th>\n",
       "      <th>steps_total</th>\n",
       "      <th>sleep</th>\n",
       "      <th>sleep_quality</th>\n",
       "      <th>calls</th>\n",
       "      <th>social_usage</th>\n",
       "      <th>games_usage</th>\n",
       "      <th>app_usage</th>\n",
       "      <th>walking</th>\n",
       "      <th>tilting</th>\n",
       "      <th>still</th>\n",
       "      <th>running</th>\n",
       "      <th>sport</th>\n",
       "      <th>vehicle</th>\n",
       "      <th>acrophase</th>\n",
       "      <th>mesor</th>\n",
       "      <th>amplitude</th>\n",
       "      <th>start_move</th>\n",
       "      <th>stability</th>\n",
       "      <th>behavior</th>\n",
       "      <th>gyradius</th>\n",
       "      <th>home_cluster</th>\n",
       "      <th>emotions_count</th>\n",
       "      <th>emotions_ratio</th>\n",
       "      <th>biking</th>\n",
       "      <th>clusters_count</th>\n",
       "      <th>words_used</th>\n",
       "      <th>emotion_text_reg</th>\n",
       "      <th>emotion_text_row</th>\n",
       "    </tr>\n",
       "  </thead>\n",
       "  <tbody>\n",
       "    <tr>\n",
       "      <th>0</th>\n",
       "      <td>10</td>\n",
       "      <td>2019-05-04</td>\n",
       "      <td>levantar comer frustrar</td>\n",
       "      <td>0</td>\n",
       "      <td>1</td>\n",
       "      <td>0</td>\n",
       "      <td>0</td>\n",
       "      <td>0</td>\n",
       "      <td>0</td>\n",
       "      <td>0</td>\n",
       "      <td>1</td>\n",
       "      <td>0</td>\n",
       "      <td>0</td>\n",
       "      <td>0</td>\n",
       "      <td>0</td>\n",
       "      <td>0</td>\n",
       "      <td>0</td>\n",
       "      <td>0</td>\n",
       "      <td>0</td>\n",
       "      <td>0</td>\n",
       "      <td>8587.15</td>\n",
       "      <td>398.0</td>\n",
       "      <td>720.0</td>\n",
       "      <td>32400.0</td>\n",
       "      <td>22.0</td>\n",
       "      <td>0.0</td>\n",
       "      <td>8090.0</td>\n",
       "      <td>0.0</td>\n",
       "      <td>20588.0</td>\n",
       "      <td>55.0</td>\n",
       "      <td>5157.0</td>\n",
       "      <td>20603.0</td>\n",
       "      <td>0.0</td>\n",
       "      <td>0.0</td>\n",
       "      <td>2398.0</td>\n",
       "      <td>0.0</td>\n",
       "      <td>0.0</td>\n",
       "      <td>0.0</td>\n",
       "      <td>0.0</td>\n",
       "      <td>0.0</td>\n",
       "      <td>0.0</td>\n",
       "      <td>0.003554</td>\n",
       "      <td>70200.0</td>\n",
       "      <td>0.0</td>\n",
       "      <td>0.0</td>\n",
       "      <td>0.0</td>\n",
       "      <td>6.0</td>\n",
       "      <td>5</td>\n",
       "      <td>&lt;sos&gt; levantar comer frustrar &lt;eos&gt; &lt;eos&gt; &lt;eos...</td>\n",
       "      <td>[2235, 1819, 2602, 473, 2468, 2468, 2468, 2468...</td>\n",
       "    </tr>\n",
       "    <tr>\n",
       "      <th>1</th>\n",
       "      <td>10</td>\n",
       "      <td>2019-05-05</td>\n",
       "      <td>hoy despertar pero no comer</td>\n",
       "      <td>0</td>\n",
       "      <td>1</td>\n",
       "      <td>0</td>\n",
       "      <td>0</td>\n",
       "      <td>0</td>\n",
       "      <td>0</td>\n",
       "      <td>0</td>\n",
       "      <td>1</td>\n",
       "      <td>0</td>\n",
       "      <td>0</td>\n",
       "      <td>0</td>\n",
       "      <td>0</td>\n",
       "      <td>0</td>\n",
       "      <td>0</td>\n",
       "      <td>0</td>\n",
       "      <td>0</td>\n",
       "      <td>0</td>\n",
       "      <td>5796.92</td>\n",
       "      <td>2491.0</td>\n",
       "      <td>3986.0</td>\n",
       "      <td>28800.0</td>\n",
       "      <td>28.0</td>\n",
       "      <td>0.0</td>\n",
       "      <td>2620.0</td>\n",
       "      <td>0.0</td>\n",
       "      <td>20836.0</td>\n",
       "      <td>889.0</td>\n",
       "      <td>2118.0</td>\n",
       "      <td>11749.0</td>\n",
       "      <td>0.0</td>\n",
       "      <td>0.0</td>\n",
       "      <td>0.0</td>\n",
       "      <td>0.0</td>\n",
       "      <td>0.0</td>\n",
       "      <td>0.0</td>\n",
       "      <td>0.0</td>\n",
       "      <td>0.0</td>\n",
       "      <td>0.0</td>\n",
       "      <td>0.001379</td>\n",
       "      <td>75600.0</td>\n",
       "      <td>0.0</td>\n",
       "      <td>0.0</td>\n",
       "      <td>0.0</td>\n",
       "      <td>6.0</td>\n",
       "      <td>7</td>\n",
       "      <td>&lt;sos&gt; hoy despertar pero no comer &lt;eos&gt; &lt;eos&gt; ...</td>\n",
       "      <td>[2235, 1438, 2121, 1315, 1564, 2602, 2468, 246...</td>\n",
       "    </tr>\n",
       "  </tbody>\n",
       "</table>\n",
       "</div>"
      ],
      "text/plain": [
       "   id  ...                                   emotion_text_row\n",
       "0  10  ...  [2235, 1819, 2602, 473, 2468, 2468, 2468, 2468...\n",
       "1  10  ...  [2235, 1438, 2121, 1315, 1564, 2602, 2468, 246...\n",
       "\n",
       "[2 rows x 50 columns]"
      ]
     },
     "execution_count": 257,
     "metadata": {
      "tags": []
     },
     "output_type": "execute_result"
    }
   ],
   "source": [
    "emotions_df_reg.head(2)"
   ]
  },
  {
   "cell_type": "code",
   "execution_count": null,
   "metadata": {
    "id": "DLDQYXoMoAcw"
   },
   "outputs": [],
   "source": [
    "emotion_attr = ['happy', 'normal', 'upset', 'angry']\n",
    "Y = torch.FloatTensor(emotions_df_reg[emotion_attr].values)\n",
    "y = Y.max(dim=1)[1]"
   ]
  },
  {
   "cell_type": "markdown",
   "metadata": {
    "id": "xxvEw7rEn6YT"
   },
   "source": [
    "### Sad variable"
   ]
  },
  {
   "cell_type": "code",
   "execution_count": 84,
   "metadata": {
    "executionInfo": {
     "elapsed": 238,
     "status": "ok",
     "timestamp": 1624824746493,
     "user": {
      "displayName": "Arturo Silva González",
      "photoUrl": "https://lh3.googleusercontent.com/a-/AOh14GiUHdipuYIBJIA1SlUS1AmLgDU-JVlj3PpPUxj0=s64",
      "userId": "00222598250959016841"
     },
     "user_tz": -120
    },
    "id": "oRC-11WVn-Ih"
   },
   "outputs": [],
   "source": [
    "emotion_attr = ['sad']\n",
    "y = torch.FloatTensor(emotions_df_reg[emotion_attr].values)"
   ]
  },
  {
   "cell_type": "markdown",
   "metadata": {
    "id": "d1QRjwzamMrK"
   },
   "source": [
    "### Data preparation"
   ]
  },
  {
   "cell_type": "markdown",
   "metadata": {
    "id": "lv1dfQGrxvYL"
   },
   "source": [
    "X and Y are matrix with the word row number already regularized. "
   ]
  },
  {
   "cell_type": "code",
   "execution_count": 85,
   "metadata": {
    "executionInfo": {
     "elapsed": 240,
     "status": "ok",
     "timestamp": 1624824751809,
     "user": {
      "displayName": "Arturo Silva González",
      "photoUrl": "https://lh3.googleusercontent.com/a-/AOh14GiUHdipuYIBJIA1SlUS1AmLgDU-JVlj3PpPUxj0=s64",
      "userId": "00222598250959016841"
     },
     "user_tz": -120
    },
    "id": "DMOf1rY3sVTa"
   },
   "outputs": [],
   "source": [
    "text_rows = emotions_df_reg['emotion_text_row']\n",
    "text_rows = np.array(text_rows.values.tolist())\n",
    "X = torch.LongTensor(text_rows)\n",
    "\n",
    "# Get the app records measures\n",
    "app_cols = emotions_df_reg.columns[16:-3]\n",
    "app_records = emotions_df_reg[app_cols]\n",
    "X_app = torch.FloatTensor(app_records.values)\n",
    "\n",
    "words_used = torch.LongTensor(emotions_df_reg['words_used'].values) \n",
    "word_embed = torch.FloatTensor(word_embed)\n",
    "record_ids = np.arange(emotions_df_reg.shape[0])"
   ]
  },
  {
   "cell_type": "code",
   "execution_count": 86,
   "metadata": {
    "colab": {
     "base_uri": "https://localhost:8080/"
    },
    "executionInfo": {
     "elapsed": 3,
     "status": "ok",
     "timestamp": 1624824752947,
     "user": {
      "displayName": "Arturo Silva González",
      "photoUrl": "https://lh3.googleusercontent.com/a-/AOh14GiUHdipuYIBJIA1SlUS1AmLgDU-JVlj3PpPUxj0=s64",
      "userId": "00222598250959016841"
     },
     "user_tz": -120
    },
    "id": "bSTY3ZSfSAL-",
    "outputId": "cf035286-5417-4b06-cbf9-5decd630b3aa"
   },
   "outputs": [
    {
     "name": "stdout",
     "output_type": "stream",
     "text": [
      "torch.Size([5158, 17])\n",
      "tensor([[0.],\n",
      "        [0.],\n",
      "        [0.],\n",
      "        ...,\n",
      "        [1.],\n",
      "        [1.],\n",
      "        [1.]])\n",
      "torch.Size([5158, 1])\n",
      "tensor([5, 7, 5,  ..., 4, 5, 4])\n"
     ]
    }
   ],
   "source": [
    "print(X.shape)\n",
    "print(y)\n",
    "print(y.shape)\n",
    "print(words_used)"
   ]
  },
  {
   "cell_type": "markdown",
   "metadata": {
    "id": "nxaXbx1Fjl0_"
   },
   "source": [
    "## Dataset implementation and initialization"
   ]
  },
  {
   "cell_type": "code",
   "execution_count": 87,
   "metadata": {
    "executionInfo": {
     "elapsed": 243,
     "status": "ok",
     "timestamp": 1624824755650,
     "user": {
      "displayName": "Arturo Silva González",
      "photoUrl": "https://lh3.googleusercontent.com/a-/AOh14GiUHdipuYIBJIA1SlUS1AmLgDU-JVlj3PpPUxj0=s64",
      "userId": "00222598250959016841"
     },
     "user_tz": -120
    },
    "id": "OXhE877njmMF"
   },
   "outputs": [],
   "source": [
    "class EmotionSumDataset(Dataset):\n",
    "\n",
    "    def __init__(self, x_words_row, y_emotion, x_app_vector, n_words_used,\n",
    "                 record_ids):        \n",
    "        self.x_words_row = x_words_row\n",
    "        self.y_emotion = y_emotion\n",
    "        self.x_app_vector = x_app_vector\n",
    "        self.n_words_used = n_words_used\n",
    "        self.record_ids = record_ids\n",
    "\n",
    "    def get_sequence(self, idxs):\n",
    "        return (\n",
    "            self.x_words_row[idxs],\n",
    "            self.y_emotion[idxs],\n",
    "            self.x_app_vector[idxs],\n",
    "            self.n_words_used[idxs],\n",
    "            self.record_ids[idxs]\n",
    "        )\n",
    "\n",
    "    def __size__(self):\n",
    "        return self.x_words_row.shape[0]\n",
    "\n",
    "    def __len__(self):\n",
    "        return self.x_words_row.shape[0]\n",
    "    \n",
    "    def __getitem__(self, idx):\n",
    "        return (\n",
    "            self.x_words_row[idx],\n",
    "            self.y_emotion[idx],\n",
    "            self.x_app_vector[idx],\n",
    "            self.n_words_used[idx],\n",
    "            self.record_ids[idx]\n",
    "        )\n"
   ]
  },
  {
   "cell_type": "code",
   "execution_count": 88,
   "metadata": {
    "executionInfo": {
     "elapsed": 3,
     "status": "ok",
     "timestamp": 1624824756615,
     "user": {
      "displayName": "Arturo Silva González",
      "photoUrl": "https://lh3.googleusercontent.com/a-/AOh14GiUHdipuYIBJIA1SlUS1AmLgDU-JVlj3PpPUxj0=s64",
      "userId": "00222598250959016841"
     },
     "user_tz": -120
    },
    "id": "IVGj32hXjnv9"
   },
   "outputs": [],
   "source": [
    "def train_test_split(emotion_sum_dataset, test_size=0.2, shuffle=True):\n",
    "    total_rows = len(emotion_sum_dataset)\n",
    "    test_rows = int(total_rows*test_size)\n",
    "    train_rows = total_rows - test_rows\n",
    "    if shuffle:\n",
    "        permutation = np.random.default_rng(SEED).permutation(total_rows)\n",
    "    else:\n",
    "        permutation = np.arange(total_rows)\n",
    "    train_idxs = permutation[:train_rows]\n",
    "    test_idxs = permutation[train_rows:]\n",
    "    emotion_sum_train = emotion_sum_dataset.get_sequence(train_idxs)\n",
    "    emotion_sum_train_dataset = EmotionSumDataset(*emotion_sum_train)\n",
    "    emotion_sum_test = emotion_sum_dataset.get_sequence(test_idxs)\n",
    "    emotion_sum_test_dataset = EmotionSumDataset(*emotion_sum_test)\n",
    "    return (emotion_sum_train_dataset, emotion_sum_test_dataset)"
   ]
  },
  {
   "cell_type": "code",
   "execution_count": 89,
   "metadata": {
    "executionInfo": {
     "elapsed": 243,
     "status": "ok",
     "timestamp": 1624824762139,
     "user": {
      "displayName": "Arturo Silva González",
      "photoUrl": "https://lh3.googleusercontent.com/a-/AOh14GiUHdipuYIBJIA1SlUS1AmLgDU-JVlj3PpPUxj0=s64",
      "userId": "00222598250959016841"
     },
     "user_tz": -120
    },
    "id": "n0M0rrULjost"
   },
   "outputs": [],
   "source": [
    "emotion_sum_dts = EmotionSumDataset(x_words_row=X, y_emotion=y,\n",
    "                                    x_app_vector=X_app, \n",
    "                                    n_words_used=words_used,\n",
    "                                    record_ids=np.arange(X_app.shape[0]))"
   ]
  },
  {
   "cell_type": "code",
   "execution_count": 62,
   "metadata": {
    "executionInfo": {
     "elapsed": 3,
     "status": "ok",
     "timestamp": 1624824632607,
     "user": {
      "displayName": "Arturo Silva González",
      "photoUrl": "https://lh3.googleusercontent.com/a-/AOh14GiUHdipuYIBJIA1SlUS1AmLgDU-JVlj3PpPUxj0=s64",
      "userId": "00222598250959016841"
     },
     "user_tz": -120
    },
    "id": "x_6vG62oyilF"
   },
   "outputs": [],
   "source": [
    "emotion_train, emotion_test = train_test_split(emotion_sum_dts)\n",
    "emotion_train, emotion_val = train_test_split(emotion_train)\n",
    "train_loader = DataLoader(emotion_train, batch_size=64, \n",
    "                             shuffle=True)\n",
    "val_loader = DataLoader(emotion_val, batch_size=64, \n",
    "                             shuffle=True)\n",
    "test_loader = DataLoader(emotion_test, batch_size=64, \n",
    "                             shuffle=True)"
   ]
  },
  {
   "cell_type": "markdown",
   "metadata": {
    "id": "TAgAzthFov5Q"
   },
   "source": [
    "## LSTM sentiment prediction with app"
   ]
  },
  {
   "cell_type": "markdown",
   "metadata": {
    "id": "eHyNPQYmvrIw"
   },
   "source": [
    "### Class implementation"
   ]
  },
  {
   "cell_type": "code",
   "execution_count": null,
   "metadata": {
    "id": "xzkzt5QHn1mS"
   },
   "outputs": [],
   "source": [
    "class EmotionPredictionLSTMStandard(nn.Module):\n",
    "\n",
    "\n",
    "    def __init__(self, lstm_num_layers, app_dim, n_out_emotions, \n",
    "                 word_embedding, word2row, row2word, dropout_p, \n",
    "                 freeze_embedding):\n",
    "\n",
    "        # word_vector_size -> word vector dimension\n",
    "        # number of the embedding_dimension (not sure)\n",
    "        # nlp -> the spaCy instance with <EOS> and <SOS> tokens\n",
    "        \n",
    "        # The main variables to save\n",
    "        # super(GRU, self).__init__()\n",
    "        super().__init__()\n",
    "        self.app_vector_dim = app_dim\n",
    "        self.dropout_p = dropout_p\n",
    "\n",
    "        # The embedding with some auxiliary variables\n",
    "        self.embed_weights = word_embedding\n",
    "        self.word2row = word2row\n",
    "        self.row2word = row2word\n",
    "        self.embed_dim = self.embed_weights.shape[1]\n",
    "        self.n_vocab = self.embed_weights.shape[0]\n",
    "        self.freeze_embedding = freeze_embedding\n",
    "\n",
    "        self.n_out_emotions = n_out_emotions\n",
    "\n",
    "        self.lstm_num_layers = lstm_num_layers\n",
    "        self.embedding = nn.Embedding.from_pretrained(self.embed_weights, \n",
    "                                                      freeze=self.freeze_embedding)\n",
    "        \n",
    "        # A DNN to put the hidden state in correct state\n",
    "        self.fc_hidden_state = nn.Linear(self.app_vector_dim, \n",
    "                                         self.embed_dim*self.lstm_num_layers)\n",
    "        self.sigmoid = nn.Sigmoid()\n",
    "        #self.sigmoid = nn.Tanh()\n",
    "        \n",
    "        # Batch is first, so:\n",
    "        # the input must be (Batch size, Sequence length=16, Input size=300)\n",
    "        self.lstm = nn.LSTM(input_size=self.embed_dim, \n",
    "                            hidden_size=self.embed_dim, \n",
    "                            num_layers=self.lstm_num_layers,\n",
    "                            batch_first=True)\n",
    "        self.fcout = nn.Linear(self.embed_dim, self.n_out_emotions)\n",
    "        if self.n_out_emotions > 1:\n",
    "            self.logsoftmax = nn.LogSoftmax(dim=1)\n",
    "        self.dropout = nn.Dropout(self.dropout_p)\n",
    "    \n",
    "\n",
    "    # X: word rows in the dictionary\n",
    "    def forward(self, X, n_words=None, states=None, X_app=None):\n",
    "\n",
    "        if n_words is None:\n",
    "            # -1 because in n_word we have from 1-22. In array from 0-21\n",
    "            n_words = torch.LongTensor([X.shape[1]-1]*X.shape[0])\n",
    "            n_words = n_words.to(device)\n",
    "        else:\n",
    "            n_words -= 1\n",
    "\n",
    "        if not X.is_cuda:\n",
    "            X = X.to(device)\n",
    "\n",
    "        if (X_app is not None) and (states is None):\n",
    "            if not X_app.is_cuda:\n",
    "                X_app = X_app.to(device)\n",
    "            hidden = self.dropout(self.sigmoid(self.fc_hidden_state(X_app)))\n",
    "            hidden = hidden.view(self.lstm_num_layers, -1, self.embed_dim)\n",
    "            cell = torch.zeros(self.lstm_num_layers, \n",
    "                               X_app.shape[0], self.embed_dim).to(device)\n",
    "\n",
    "        output = self.embedding(X).view(X.shape[0], -1, self.embed_dim)\n",
    "        \n",
    "        output, (hidden, cell) = self.lstm(output, (hidden, cell))\n",
    "\n",
    "        output = self.dropout(output)\n",
    "\n",
    "        output = torch.stack([output[i, n_words[i], :] \\\n",
    "                              for i in range(X.shape[0])])\n",
    "\n",
    "        output = self.fcout(output)\n",
    "\n",
    "        if self.n_out_emotions > 1:\n",
    "            output = self.logsoftmax(output)\n",
    "        else:\n",
    "            output = self.sigmoid(output)\n",
    "\n",
    "        return output"
   ]
  },
  {
   "cell_type": "code",
   "execution_count": null,
   "metadata": {
    "colab": {
     "base_uri": "https://localhost:8080/"
    },
    "executionInfo": {
     "elapsed": 2,
     "status": "ok",
     "timestamp": 1624726294783,
     "user": {
      "displayName": "Arturo Silva González",
      "photoUrl": "https://lh3.googleusercontent.com/a-/AOh14GiUHdipuYIBJIA1SlUS1AmLgDU-JVlj3PpPUxj0=s64",
      "userId": "00222598250959016841"
     },
     "user_tz": -120
    },
    "id": "qKvGN-0mrqRQ",
    "outputId": "b13f5e07-cd91-493b-cfa9-ea84b43a6e30"
   },
   "outputs": [
    {
     "data": {
      "text/plain": [
       "torch.Size([5158, 1])"
      ]
     },
     "execution_count": 207,
     "metadata": {
      "tags": []
     },
     "output_type": "execute_result"
    }
   ],
   "source": [
    "lstm = EmotionPredictionLSTMStandard(lstm_num_layers=1, app_dim=X_app.shape[1], \n",
    "                                     n_out_emotions=1, word_embedding=word_embed, \n",
    "                                     word2row=word2row, row2word=row2word, \n",
    "                                     dropout_p=0.2, freeze_embedding=True)\n",
    "lstm.to(device)\n",
    "output = lstm.forward(X=X, n_words=words_used, X_app=X_app)\n",
    "output.shape"
   ]
  },
  {
   "cell_type": "markdown",
   "metadata": {
    "id": "g0qJmW06vu3W"
   },
   "source": [
    "### Training class"
   ]
  },
  {
   "cell_type": "code",
   "execution_count": null,
   "metadata": {
    "id": "zxnN5SONvvoc"
   },
   "outputs": [],
   "source": [
    "class EmotionPredictionLSTMStandard_extended(EmotionPredictionLSTMStandard):\n",
    "\n",
    "\n",
    "    def __init__(self, lstm_num_layers, app_dim, n_out_emotions, \n",
    "                 word_embedding, word2row, row2word, dropout_p, \n",
    "                 freeze_embedding, epochs=100, lr=0.01):\n",
    "        \n",
    "        super().__init__(lstm_num_layers, app_dim, n_out_emotions, \n",
    "                         word_embedding, word2row, row2word, dropout_p, \n",
    "                         freeze_embedding)\n",
    "\n",
    "        self.lr = lr\n",
    "        \n",
    "        if self.n_out_emotions > 1:\n",
    "            self.criterion = nn.NLLLoss()\n",
    "        else:\n",
    "            self.criterion = nn.BCELoss()\n",
    "            \n",
    "        self.optim = optim.Adam(self.parameters(), self.lr)\n",
    "        self.epochs = epochs\n",
    "\n",
    "        self.file_weight_name = ''\n",
    "\n",
    "        self.loss_during_training = []\n",
    "        self.loss_val_during_training = []\n",
    "    \n",
    "\n",
    "    def fit(self, train_loader, val_loader, max_stop=None,\n",
    "            file_weight_name='lstm_emotion_standard_checkpoint'):  \n",
    "        \n",
    "        words2pred, _, _, _, _ = next(iter(train_loader))\n",
    "        words2pred = words2pred.shape[1]\n",
    "\n",
    "        min_val_epoch_loss = float('inf')\n",
    "        min_val_epoch = 0\n",
    "        no_impr = 0\n",
    "\n",
    "        #n_train = train_loader.dataset.n_words_used.shape[0]\n",
    "        #n_val = val_loader.dataset.n_words_used.shape[0]\n",
    "\n",
    "        self.file_weight_name = 'checkpoints/' + file_weight_name \\\n",
    "                        + '_'+ str(self.lstm_num_layers) + '_layers' + '.pth'\n",
    "\n",
    "        for e in range(self.epochs):\n",
    "\n",
    "            loss_epoch = 0\n",
    "\n",
    "            self.train()\n",
    "            for X_batch_train, y_batch_train, \\\n",
    "                X_batch_app_train, X_batch_n_words_train, _ in train_loader: \n",
    "\n",
    "                self.optim.zero_grad()\n",
    "                loss = 0\n",
    "\n",
    "                # To GPU\n",
    "                X_batch_train = X_batch_train.to(device)\n",
    "                y_batch_train = y_batch_train.to(device)\n",
    "                X_batch_app_train = X_batch_app_train.to(device)\n",
    "                X_batch_n_words_train = X_batch_n_words_train.to(device)\n",
    "\n",
    "                output = self.forward(X=X_batch_train, \n",
    "                                      n_words=X_batch_n_words_train,\n",
    "                                      X_app=X_batch_app_train,\n",
    "                                      states=None)\n",
    "                \n",
    "                # For each output observation of the batch, \n",
    "                # we compute the NLLLoss\n",
    "                loss = self.criterion(output, y_batch_train)\n",
    "\n",
    "                loss.backward()\n",
    "\n",
    "                # This code helps to avoid vanishing exploiting gradients in RNNs\n",
    "                # `clip_grad_norm` helps prevent the exploding gradient problem in RNNs / LSTMs.\n",
    "                nn.utils.clip_grad_norm_(self.parameters(), 2.0)\n",
    "\n",
    "                self.optim.step()\n",
    "            \n",
    "                loss_epoch += loss\n",
    "\n",
    "            loss_epoch = loss_epoch / len(train_loader)\n",
    "            self.loss_during_training.append(loss_epoch.item())\n",
    "            val_loss_epoch = self.validation_loss(val_loader) / len(val_loader)\n",
    "            self.loss_val_during_training.append(val_loss_epoch)\n",
    "            \n",
    "            if e % 10 == 0:\n",
    "                print('[Train]: Epoch %d -> Train loss: %f - Val loss: %f' \n",
    "                      % (e, loss_epoch, val_loss_epoch))\n",
    "        \n",
    "            if val_loss_epoch < min_val_epoch_loss:\n",
    "                min_val_epoch_loss = val_loss_epoch\n",
    "                min_val_epoch = e\n",
    "                #print('[Train]: Best model obtained so far: saving weights...')\n",
    "                torch.save(self.state_dict(), self.file_weight_name)\n",
    "                #print('[Train]: Val error: %f in epoch %d'%(val_loss_epoch, e))       \n",
    "                if max_stop is not None:\n",
    "                    no_impr = 0\n",
    "            else:\n",
    "                if max_stop is not None:\n",
    "                    no_impr += 1\n",
    "                    if no_impr > max_stop:\n",
    "                        print('[Train]: Training stopped in epoch %d. No improvement for %d epochs' % (e, max_stop))\n",
    "                        print('[Train] Summary: Least validation loss obtained in epoch %d: %f'\n",
    "                            % (min_val_epoch, min_val_epoch_loss))    \n",
    "                        return\n",
    "        \n",
    "        print('[Train] Summary: Least validation loss obtained in epoch %d: %f'\n",
    "        % (min_val_epoch, min_val_epoch_loss))    \n",
    "\n",
    "            \n",
    "    def validation_loss(self, val_loader): \n",
    "\n",
    "        self.eval()\n",
    "\n",
    "        loss_val = 0\n",
    "        \n",
    "        with torch.no_grad(): \n",
    "\n",
    "            for X_batch_val, y_batch_val, \\\n",
    "                X_batch_app_val, X_batch_n_words_val, _ in val_loader: \n",
    "\n",
    "                X_batch_val = X_batch_val.to(device)\n",
    "                y_batch_val = y_batch_val.to(device)\n",
    "                X_batch_app_val = X_batch_app_val.to(device)\n",
    "                X_batch_n_words_val = X_batch_n_words_val.to(device)\n",
    "                \n",
    "                output = self.forward(X=X_batch_val, \n",
    "                                      n_words=X_batch_n_words_val,\n",
    "                                      X_app=X_batch_app_val,\n",
    "                                      states=None)\n",
    "                \n",
    "                # For each output observation of the batch, \n",
    "                # we compute the NLLLoss\n",
    "                #if self.n_out_emotions == 1: \n",
    "                #    output = output.reshape(-1)\n",
    "                loss_val += self.criterion(output, y_batch_val)\n",
    "                    \n",
    "        return loss_val.item()\n",
    "\n",
    "\n",
    "    def predict(self, loader):\n",
    "        \n",
    "        self.eval()\n",
    "        batch_size = loader.batch_size\n",
    "        pred_outs = np.zeros(len(loader.dataset))\n",
    "        real_outs = np.zeros(len(loader.dataset))\n",
    "\n",
    "        for i, (X_batch, y_batch, X_batch_app, \\\n",
    "            X_batch_n_words, _) in enumerate(loader): \n",
    "\n",
    "            X_batch = X_batch.to(device)\n",
    "            y_batch = y_batch.to(device)\n",
    "            X_batch_app = X_batch_app.to(device)\n",
    "            X_batch_n_words = X_batch_n_words.to(device)\n",
    "\n",
    "            output = self.forward(X=X_batch, \n",
    "                                  n_words=X_batch_n_words,\n",
    "                                  X_app=X_batch_app)\n",
    "            \n",
    "            if self.n_out_emotions == 1:\n",
    "                #outs = output.reshape(-1)\n",
    "                #outs = self.sigmoid(outs)\n",
    "                outs = output >= 0.5\n",
    "            else:\n",
    "                #outs = torch.nn.LogSoftmax(dim=1)\n",
    "                outs = output.argmax(axis=1)\n",
    "            \n",
    "            outs = outs.cpu().detach().numpy().reshape(-1)\n",
    "            y_batch_v = y_batch.cpu().detach().numpy().reshape(-1)\n",
    "\n",
    "            real_outs[i*batch_size:(i+1)*batch_size] = y_batch_v\n",
    "            pred_outs[i*batch_size:(i+1)*batch_size] = outs\n",
    "    \n",
    "        return real_outs, pred_outs"
   ]
  },
  {
   "cell_type": "markdown",
   "metadata": {
    "id": "krQNZb4L3W-T"
   },
   "source": [
    "### Training and test process"
   ]
  },
  {
   "cell_type": "code",
   "execution_count": null,
   "metadata": {
    "colab": {
     "base_uri": "https://localhost:8080/"
    },
    "executionInfo": {
     "elapsed": 289,
     "status": "ok",
     "timestamp": 1624723906249,
     "user": {
      "displayName": "Arturo Silva González",
      "photoUrl": "https://lh3.googleusercontent.com/a-/AOh14GiUHdipuYIBJIA1SlUS1AmLgDU-JVlj3PpPUxj0=s64",
      "userId": "00222598250959016841"
     },
     "user_tz": -120
    },
    "id": "zbl04x873MzE",
    "outputId": "172d4eed-a952-4aea-9830-d69e23b009b7"
   },
   "outputs": [
    {
     "data": {
      "text/plain": [
       "EmotionPredictionLSTMStandard_extended(\n",
       "  (embedding): Embedding(3409, 300)\n",
       "  (fc_hidden_state): Linear(in_features=31, out_features=300, bias=True)\n",
       "  (sigmoid): Sigmoid()\n",
       "  (lstm): LSTM(300, 300, batch_first=True)\n",
       "  (fcout): Linear(in_features=300, out_features=4, bias=True)\n",
       "  (logsoftmax): LogSoftmax(dim=1)\n",
       "  (dropout): Dropout(p=0.2, inplace=False)\n",
       "  (criterion): NLLLoss()\n",
       ")"
      ]
     },
     "execution_count": 97,
     "metadata": {
      "tags": []
     },
     "output_type": "execute_result"
    }
   ],
   "source": [
    "lstm = EmotionPredictionLSTMStandard_extended(lstm_num_layers=1, \n",
    "                                              app_dim=X_app.shape[1], \n",
    "                                              n_out_emotions=4, \n",
    "                                              word_embedding=word_embed, \n",
    "                                              word2row=word2row, \n",
    "                                              row2word=row2word, \n",
    "                                              dropout_p=0.2, \n",
    "                                              freeze_embedding=True,\n",
    "                                              epochs=1000, \n",
    "                                              lr=0.01)\n",
    "lstm.to(device)"
   ]
  },
  {
   "cell_type": "code",
   "execution_count": null,
   "metadata": {
    "colab": {
     "base_uri": "https://localhost:8080/"
    },
    "executionInfo": {
     "elapsed": 9127,
     "status": "ok",
     "timestamp": 1624723915607,
     "user": {
      "displayName": "Arturo Silva González",
      "photoUrl": "https://lh3.googleusercontent.com/a-/AOh14GiUHdipuYIBJIA1SlUS1AmLgDU-JVlj3PpPUxj0=s64",
      "userId": "00222598250959016841"
     },
     "user_tz": -120
    },
    "id": "qaOGlhmH3imq",
    "outputId": "125046b5-5889-4d9c-ebba-3697a26e91ff"
   },
   "outputs": [
    {
     "name": "stdout",
     "output_type": "stream",
     "text": [
      "[Train]: Epoch 0 -> Train loss: 1.020876 - Val loss: 0.921852\n",
      "[Train]: Epoch 10 -> Train loss: 0.670150 - Val loss: 1.069908\n",
      "[Train]: Training stopped in epoch 16. No improvement for 10 epochs\n",
      "[Train] Summary: Least validation loss obtained in epoch 5: 0.920345\n"
     ]
    }
   ],
   "source": [
    "lstm.fit(train_loader=train_loader, val_loader=val_loader, max_stop=10)"
   ]
  },
  {
   "cell_type": "code",
   "execution_count": null,
   "metadata": {
    "id": "4oC_oWa94Gzh"
   },
   "outputs": [],
   "source": [
    "lstm.load_state_dict(torch.load(lstm.file_weight_name))\n",
    "y_test, y_test_pred = lstm.predict(test_loader)"
   ]
  },
  {
   "cell_type": "code",
   "execution_count": null,
   "metadata": {
    "colab": {
     "base_uri": "https://localhost:8080/"
    },
    "executionInfo": {
     "elapsed": 9,
     "status": "ok",
     "timestamp": 1624723915608,
     "user": {
      "displayName": "Arturo Silva González",
      "photoUrl": "https://lh3.googleusercontent.com/a-/AOh14GiUHdipuYIBJIA1SlUS1AmLgDU-JVlj3PpPUxj0=s64",
      "userId": "00222598250959016841"
     },
     "user_tz": -120
    },
    "id": "nHAcsooA7n8d",
    "outputId": "bbed786f-2881-44ae-a92e-7ca3f083e9c0"
   },
   "outputs": [
    {
     "name": "stdout",
     "output_type": "stream",
     "text": [
      "              precision    recall  f1-score   support\n",
      "\n",
      "         0.0       0.71      0.53      0.61       281\n",
      "         1.0       0.35      0.06      0.10       155\n",
      "         2.0       0.62      0.92      0.74       530\n",
      "         3.0       0.00      0.00      0.00        65\n",
      "\n",
      "    accuracy                           0.63      1031\n",
      "   macro avg       0.42      0.38      0.36      1031\n",
      "weighted avg       0.56      0.63      0.56      1031\n",
      "\n"
     ]
    }
   ],
   "source": [
    "print(classification_report(y_test, y_test_pred))"
   ]
  },
  {
   "cell_type": "markdown",
   "metadata": {
    "id": "ZTfiLfOgC1j4"
   },
   "source": [
    "## GRU sentiment predicion with app"
   ]
  },
  {
   "cell_type": "markdown",
   "metadata": {
    "id": "HwA59dW1C5wS"
   },
   "source": [
    "### Class implementation"
   ]
  },
  {
   "cell_type": "code",
   "execution_count": null,
   "metadata": {
    "id": "XM6IEjez_XTV"
   },
   "outputs": [],
   "source": [
    "class EmotionPredictionGRUStandard(nn.Module):\n",
    "\n",
    "\n",
    "    def __init__(self, gru_num_layers, app_dim, n_out_emotions, \n",
    "                 word_embedding, word2row, row2word, dropout_p, \n",
    "                 freeze_embedding):\n",
    "\n",
    "        # word_vector_size -> word vector dimension\n",
    "        # number of the embedding_dimension (not sure)\n",
    "        # nlp -> the spaCy instance with <EOS> and <SOS> tokens\n",
    "        \n",
    "        # The main variables to save\n",
    "        # super(GRU, self).__init__()\n",
    "        super().__init__()\n",
    "        self.app_vector_dim = app_dim\n",
    "        self.dropout_p = dropout_p\n",
    "\n",
    "        # The embedding with some auxiliary variables\n",
    "        self.embed_weights = word_embedding\n",
    "        self.word2row = word2row\n",
    "        self.row2word = row2word\n",
    "        self.embed_dim = self.embed_weights.shape[1]\n",
    "        self.n_vocab = self.embed_weights.shape[0]\n",
    "        self.freeze_embedding = freeze_embedding\n",
    "\n",
    "        self.n_out_emotions = n_out_emotions\n",
    "\n",
    "        self.gru_num_layers = gru_num_layers\n",
    "        self.embedding = nn.Embedding.from_pretrained(self.embed_weights, \n",
    "                                                      freeze=self.freeze_embedding)\n",
    "        \n",
    "        # A DNN to put the hidden state in correct state\n",
    "        self.fc_hidden_state = nn.Linear(self.app_vector_dim, \n",
    "                                         self.embed_dim*self.gru_num_layers)\n",
    "        self.sigmoid = nn.Sigmoid()\n",
    "        #self.sigmoid = nn.Tanh()\n",
    "        \n",
    "        # Batch is first, so:\n",
    "        # the input must be (Batch size, Sequence length=16, Input size=300)\n",
    "        self.gru = nn.GRU(input_size=self.embed_dim, \n",
    "                            hidden_size=self.embed_dim, \n",
    "                            num_layers=self.gru_num_layers,\n",
    "                            batch_first=True)\n",
    "        self.fcout = nn.Linear(self.embed_dim, self.n_out_emotions)\n",
    "        if self.n_out_emotions > 1:\n",
    "            self.logsoftmax = nn.LogSoftmax(dim=1)\n",
    "        self.dropout = nn.Dropout(self.dropout_p)\n",
    "    \n",
    "\n",
    "    # X: word rows in the dictionary\n",
    "    def forward(self, X, n_words=None, hidden=None, X_app=None):\n",
    "\n",
    "        if n_words is None:\n",
    "            # -1 because in n_word we have from 1-22. In array from 0-21\n",
    "            n_words = torch.LongTensor([X.shape[1]-1]*X.shape[0])\n",
    "            n_words = n_words.to(device)\n",
    "        else:\n",
    "            n_words -= 1\n",
    "\n",
    "        if not X.is_cuda:\n",
    "            X = X.to(device)\n",
    "\n",
    "        if hidden is None:\n",
    "            if not X_app.is_cuda:\n",
    "                X_app = X_app.to(device)\n",
    "            hidden = self.dropout(self.sigmoid(self.fc_hidden_state(X_app)))\n",
    "            hidden = hidden.view(self.gru_num_layers, -1, self.embed_dim)\n",
    "\n",
    "        output = self.embedding(X).view(X.shape[0], -1, self.embed_dim)\n",
    "        \n",
    "        output, hidden = self.gru(output, hidden)\n",
    "\n",
    "        output = self.dropout(output)\n",
    "\n",
    "        output = torch.stack([output[i, n_words[i], :] \\\n",
    "                              for i in range(X.shape[0])])\n",
    "\n",
    "        output = self.fcout(output)\n",
    "\n",
    "        if self.n_out_emotions > 1:\n",
    "            output = self.logsoftmax(output)\n",
    "        else:\n",
    "            output = self.sigmoid(output)\n",
    "\n",
    "        return output"
   ]
  },
  {
   "cell_type": "markdown",
   "metadata": {
    "id": "6cfaU2UiC7Yi"
   },
   "source": [
    "### Training class"
   ]
  },
  {
   "cell_type": "code",
   "execution_count": null,
   "metadata": {
    "id": "gyiWLwd7C9if"
   },
   "outputs": [],
   "source": [
    "class EmotionPredictionGRUStandard_extended(EmotionPredictionGRUStandard):\n",
    "\n",
    "\n",
    "    def __init__(self, gru_num_layers, app_dim, n_out_emotions, \n",
    "                 word_embedding, word2row, row2word, dropout_p, \n",
    "                 freeze_embedding, epochs=100, lr=0.01):\n",
    "        \n",
    "        super().__init__(gru_num_layers, app_dim, n_out_emotions, \n",
    "                         word_embedding, word2row, row2word, dropout_p, \n",
    "                         freeze_embedding)\n",
    "\n",
    "        self.lr = lr\n",
    "        \n",
    "        if self.n_out_emotions > 1:\n",
    "            self.criterion = nn.NLLLoss()\n",
    "        else:\n",
    "            self.criterion = nn.BCELoss()\n",
    "            \n",
    "        self.optim = optim.Adam(self.parameters(), self.lr)\n",
    "        self.epochs = epochs\n",
    "\n",
    "        self.file_weight_name = ''\n",
    "\n",
    "        self.loss_during_training = []\n",
    "        self.loss_val_during_training = []\n",
    "    \n",
    "\n",
    "    def fit(self, train_loader, val_loader, max_stop=None,\n",
    "            file_weight_name='gru_emotion_standard_checkpoint'):  \n",
    "        \n",
    "        words2pred, _, _, _, _ = next(iter(train_loader))\n",
    "        words2pred = words2pred.shape[1]\n",
    "\n",
    "        min_val_epoch_loss = float('inf')\n",
    "        min_val_epoch = 0\n",
    "        no_impr = 0\n",
    "\n",
    "        #n_train = train_loader.dataset.n_words_used.shape[0]\n",
    "        #n_val = val_loader.dataset.n_words_used.shape[0]\n",
    "\n",
    "        self.file_weight_name = 'checkpoints/' + file_weight_name \\\n",
    "                        + '_'+ str(self.gru_num_layers) + '_layers' + '.pth'\n",
    "\n",
    "        for e in range(self.epochs):\n",
    "\n",
    "            loss_epoch = 0\n",
    "\n",
    "            self.train()\n",
    "            for X_batch_train, y_batch_train, \\\n",
    "                X_batch_app_train, X_batch_n_words_train, _ in train_loader: \n",
    "\n",
    "                self.optim.zero_grad()\n",
    "                loss = 0\n",
    "\n",
    "                # To GPU\n",
    "                X_batch_train = X_batch_train.to(device)\n",
    "                y_batch_train = y_batch_train.to(device)\n",
    "                X_batch_app_train = X_batch_app_train.to(device)\n",
    "                X_batch_n_words_train = X_batch_n_words_train.to(device)\n",
    "\n",
    "                output = self.forward(X=X_batch_train, \n",
    "                                      n_words=X_batch_n_words_train,\n",
    "                                      X_app=X_batch_app_train,\n",
    "                                      states=None)\n",
    "                \n",
    "                # For each output observation of the batch, \n",
    "                # we compute the NLLLoss\n",
    "                loss = self.criterion(output, y_batch_train)\n",
    "\n",
    "                loss.backward()\n",
    "\n",
    "                # This code helps to avoid vanishing exploiting gradients in RNNs\n",
    "                # `clip_grad_norm` helps prevent the exploding gradient problem in RNNs / LSTMs.\n",
    "                nn.utils.clip_grad_norm_(self.parameters(), 2.0)\n",
    "\n",
    "                self.optim.step()\n",
    "            \n",
    "                loss_epoch += loss\n",
    "\n",
    "            loss_epoch = loss_epoch / len(train_loader)\n",
    "            self.loss_during_training.append(loss_epoch.item())\n",
    "            val_loss_epoch = self.validation_loss(val_loader) / len(val_loader)\n",
    "            self.loss_val_during_training.append(val_loss_epoch)\n",
    "            \n",
    "            if e % 10 == 0:\n",
    "                print('[Train]: Epoch %d -> Train loss: %f - Val loss: %f' \n",
    "                      % (e, loss_epoch, val_loss_epoch))\n",
    "        \n",
    "            if val_loss_epoch < min_val_epoch_loss:\n",
    "                min_val_epoch_loss = val_loss_epoch\n",
    "                min_val_epoch = e\n",
    "                #print('[Train]: Best model obtained so far: saving weights...')\n",
    "                torch.save(self.state_dict(), self.file_weight_name)\n",
    "                #print('[Train]: Val error: %f in epoch %d'%(val_loss_epoch, e))       \n",
    "                if max_stop is not None:\n",
    "                    no_impr = 0\n",
    "            else:\n",
    "                if max_stop is not None:\n",
    "                    no_impr += 1\n",
    "                    if no_impr > max_stop:\n",
    "                        print('[Train]: Training stopped in epoch %d. No improvement for %d epochs' % (e, max_stop))\n",
    "                        print('[Train] Summary: Least validation loss obtained in epoch %d: %f'\n",
    "                            % (min_val_epoch, min_val_epoch_loss))    \n",
    "                        return\n",
    "        \n",
    "        print('[Train] Summary: Least validation loss obtained in epoch %d: %f'\n",
    "        % (min_val_epoch, min_val_epoch_loss))    \n",
    "\n",
    "            \n",
    "    def validation_loss(self, val_loader): \n",
    "\n",
    "        self.eval()\n",
    "\n",
    "        loss_val = 0\n",
    "        \n",
    "        with torch.no_grad(): \n",
    "\n",
    "            for X_batch_val, y_batch_val, \\\n",
    "                X_batch_app_val, X_batch_n_words_val, _ in val_loader: \n",
    "\n",
    "                X_batch_val = X_batch_val.to(device)\n",
    "                y_batch_val = y_batch_val.to(device)\n",
    "                X_batch_app_val = X_batch_app_val.to(device)\n",
    "                X_batch_n_words_val = X_batch_n_words_val.to(device)\n",
    "                \n",
    "                output = self.forward(X=X_batch_val, \n",
    "                                      n_words=X_batch_n_words_val,\n",
    "                                      X_app=X_batch_app_val,\n",
    "                                      states=None)\n",
    "                \n",
    "                # For each output observation of the batch, \n",
    "                # we compute the NLLLoss\n",
    "                #if self.n_out_emotions == 1: \n",
    "                #    output = output.reshape(-1)\n",
    "                loss_val += self.criterion(output, y_batch_val)\n",
    "                    \n",
    "        return loss_val.item()\n",
    "\n",
    "\n",
    "    def predict(self, loader):\n",
    "        \n",
    "        self.eval()\n",
    "        batch_size = loader.batch_size\n",
    "        pred_outs = np.zeros(len(loader.dataset))\n",
    "        real_outs = np.zeros(len(loader.dataset))\n",
    "\n",
    "        for i, (X_batch, y_batch, X_batch_app, \\\n",
    "            X_batch_n_words, _) in enumerate(loader): \n",
    "\n",
    "            X_batch = X_batch.to(device)\n",
    "            y_batch = y_batch.to(device)\n",
    "            X_batch_app = X_batch_app.to(device)\n",
    "            X_batch_n_words = X_batch_n_words.to(device)\n",
    "\n",
    "            output = self.forward(X=X_batch, \n",
    "                                  n_words=X_batch_n_words,\n",
    "                                  X_app=X_batch_app)\n",
    "            \n",
    "            if self.n_out_emotions == 1:\n",
    "                #outs = output.reshape(-1)\n",
    "                #outs = self.sigmoid(outs)\n",
    "                outs = output >= 0.5\n",
    "            else:\n",
    "                #outs = torch.nn.LogSoftmax(dim=1)\n",
    "                outs = output.argmax(axis=1)\n",
    "            \n",
    "            outs = outs.cpu().detach().numpy().reshape(-1)\n",
    "            y_batch_v = y_batch.cpu().detach().numpy().reshape(-1)\n",
    "\n",
    "            real_outs[i*batch_size:(i+1)*batch_size] = y_batch_v\n",
    "            pred_outs[i*batch_size:(i+1)*batch_size] = outs\n",
    "    \n",
    "        return real_outs, pred_outs"
   ]
  },
  {
   "cell_type": "markdown",
   "metadata": {
    "id": "6I1zZXlXEPTS"
   },
   "source": [
    "### Training and test process"
   ]
  },
  {
   "cell_type": "code",
   "execution_count": null,
   "metadata": {
    "colab": {
     "base_uri": "https://localhost:8080/"
    },
    "executionInfo": {
     "elapsed": 369,
     "status": "ok",
     "timestamp": 1624723921877,
     "user": {
      "displayName": "Arturo Silva González",
      "photoUrl": "https://lh3.googleusercontent.com/a-/AOh14GiUHdipuYIBJIA1SlUS1AmLgDU-JVlj3PpPUxj0=s64",
      "userId": "00222598250959016841"
     },
     "user_tz": -120
    },
    "id": "pP_K3fbsEOSG",
    "outputId": "79a2b6e8-9d1f-4eaa-ba63-4571412bc06c"
   },
   "outputs": [
    {
     "data": {
      "text/plain": [
       "EmotionPredictionGRUStandard_extended(\n",
       "  (embedding): Embedding(3409, 300)\n",
       "  (fc_hidden_state): Linear(in_features=31, out_features=300, bias=True)\n",
       "  (sigmoid): Sigmoid()\n",
       "  (gru): GRU(300, 300, batch_first=True)\n",
       "  (fcout): Linear(in_features=300, out_features=4, bias=True)\n",
       "  (logsoftmax): LogSoftmax(dim=1)\n",
       "  (dropout): Dropout(p=0.2, inplace=False)\n",
       "  (criterion): NLLLoss()\n",
       ")"
      ]
     },
     "execution_count": 105,
     "metadata": {
      "tags": []
     },
     "output_type": "execute_result"
    }
   ],
   "source": [
    "gru = EmotionPredictionGRUStandard_extended(gru_num_layers=1,   \n",
    "                                            app_dim=X_app.shape[1], \n",
    "                                            n_out_emotions=4, \n",
    "                                            word_embedding=word_embed, \n",
    "                                            word2row=word2row,                                               \n",
    "                                            row2word=row2word, \n",
    "                                            dropout_p=0.2, \n",
    "                                            freeze_embedding=True, epochs=1000, \n",
    "                                            lr=0.01)\n",
    "gru.to(device)"
   ]
  },
  {
   "cell_type": "code",
   "execution_count": null,
   "metadata": {
    "colab": {
     "base_uri": "https://localhost:8080/"
    },
    "executionInfo": {
     "elapsed": 7363,
     "status": "ok",
     "timestamp": 1624723929238,
     "user": {
      "displayName": "Arturo Silva González",
      "photoUrl": "https://lh3.googleusercontent.com/a-/AOh14GiUHdipuYIBJIA1SlUS1AmLgDU-JVlj3PpPUxj0=s64",
      "userId": "00222598250959016841"
     },
     "user_tz": -120
    },
    "id": "guCwctMFEcyc",
    "outputId": "46296d3e-9e99-42fa-c962-cc67f40d6ab8"
   },
   "outputs": [
    {
     "name": "stdout",
     "output_type": "stream",
     "text": [
      "[Train]: Epoch 0 -> Train loss: 1.097354 - Val loss: 0.929290\n",
      "[Train]: Epoch 10 -> Train loss: 0.839010 - Val loss: 1.023055\n",
      "[Train]: Training stopped in epoch 13. No improvement for 10 epochs\n",
      "[Train] Summary: Least validation loss obtained in epoch 2: 0.910702\n"
     ]
    }
   ],
   "source": [
    "gru.fit(train_loader=train_loader, val_loader=val_loader, max_stop=10)"
   ]
  },
  {
   "cell_type": "code",
   "execution_count": null,
   "metadata": {
    "id": "uWktmO0dEfiC"
   },
   "outputs": [],
   "source": [
    "gru.load_state_dict(torch.load(gru.file_weight_name))\n",
    "y_test, y_test_pred = gru.predict(test_loader)"
   ]
  },
  {
   "cell_type": "code",
   "execution_count": null,
   "metadata": {
    "colab": {
     "base_uri": "https://localhost:8080/"
    },
    "executionInfo": {
     "elapsed": 211,
     "status": "ok",
     "timestamp": 1624723933140,
     "user": {
      "displayName": "Arturo Silva González",
      "photoUrl": "https://lh3.googleusercontent.com/a-/AOh14GiUHdipuYIBJIA1SlUS1AmLgDU-JVlj3PpPUxj0=s64",
      "userId": "00222598250959016841"
     },
     "user_tz": -120
    },
    "id": "U8m_wbg0FD_e",
    "outputId": "0052897a-b049-4574-8518-1125078166d8"
   },
   "outputs": [
    {
     "name": "stdout",
     "output_type": "stream",
     "text": [
      "              precision    recall  f1-score   support\n",
      "\n",
      "         0.0       0.57      0.70      0.63       281\n",
      "         1.0       0.39      0.06      0.10       155\n",
      "         2.0       0.67      0.82      0.74       530\n",
      "         3.0       0.00      0.00      0.00        65\n",
      "\n",
      "    accuracy                           0.62      1031\n",
      "   macro avg       0.41      0.40      0.37      1031\n",
      "weighted avg       0.56      0.62      0.57      1031\n",
      "\n"
     ]
    }
   ],
   "source": [
    "print(classification_report(y_test, y_test_pred))"
   ]
  },
  {
   "cell_type": "markdown",
   "metadata": {
    "id": "OpaetJ8tGCTk"
   },
   "source": [
    "## LSTM sentiment prediction just text"
   ]
  },
  {
   "cell_type": "markdown",
   "metadata": {
    "id": "q3jhW6KWGrt5"
   },
   "source": [
    "### Class implementation"
   ]
  },
  {
   "cell_type": "code",
   "execution_count": null,
   "metadata": {
    "id": "VCO3jZg9GFDO"
   },
   "outputs": [],
   "source": [
    "class EmotionPredictionLSTMStandardJustText(nn.Module):\n",
    "\n",
    "\n",
    "    def __init__(self, lstm_num_layers, n_out_emotions, word_embedding, \n",
    "                 word2row, row2word, dropout_p, freeze_embedding):\n",
    "\n",
    "        # word_vector_size -> word vector dimension\n",
    "        # number of the embedding_dimension (not sure)\n",
    "        # nlp -> the spaCy instance with <EOS> and <SOS> tokens\n",
    "        \n",
    "        # The main variables to save\n",
    "        # super(GRU, self).__init__()\n",
    "        super().__init__()\n",
    "        self.dropout_p = dropout_p\n",
    "\n",
    "        # The embedding with some auxiliary variables\n",
    "        self.embed_weights = word_embedding\n",
    "        self.word2row = word2row\n",
    "        self.row2word = row2word\n",
    "        self.embed_dim = self.embed_weights.shape[1]\n",
    "        self.n_vocab = self.embed_weights.shape[0]\n",
    "        self.freeze_embedding = freeze_embedding\n",
    "\n",
    "        self.n_out_emotions = n_out_emotions\n",
    "\n",
    "        self.lstm_num_layers = lstm_num_layers\n",
    "        self.embedding = nn.Embedding.from_pretrained(self.embed_weights, \n",
    "                                                      freeze=self.freeze_embedding)\n",
    "        \n",
    "        self.sigmoid = nn.Sigmoid()\n",
    "        \n",
    "        # Batch is first, so:\n",
    "        # the input must be (Batch size, Sequence length=16, Input size=300)\n",
    "        self.lstm = nn.LSTM(input_size=self.embed_dim, \n",
    "                            hidden_size=self.embed_dim, \n",
    "                            num_layers=self.lstm_num_layers,\n",
    "                            batch_first=True)\n",
    "        self.fcout = nn.Linear(self.embed_dim, self.n_out_emotions)\n",
    "        if self.n_out_emotions > 1:\n",
    "            self.logsoftmax = nn.LogSoftmax(dim=1)\n",
    "        self.dropout = nn.Dropout(self.dropout_p)\n",
    "    \n",
    "\n",
    "    # X: word rows in the dictionary\n",
    "    def forward(self, X, n_words=None, states=None):\n",
    "\n",
    "        if n_words is None:\n",
    "            # -1 because in n_word we have from 1-22. In array from 0-21\n",
    "            n_words = torch.LongTensor([X.shape[1]-1]*X.shape[0])\n",
    "            n_words = n_words.to(device)\n",
    "        else:\n",
    "            n_words -= 1\n",
    "\n",
    "        if not X.is_cuda:\n",
    "            X = X.to(device)\n",
    "\n",
    "        if states is None:\n",
    "            hidden = torch.zeros(self.lstm_num_layers, \n",
    "                               X.shape[0], self.embed_dim).to(device)\n",
    "            cell = torch.zeros(self.lstm_num_layers, \n",
    "                               X.shape[0], self.embed_dim).to(device)\n",
    "\n",
    "        output = self.embedding(X).view(X.shape[0], -1, self.embed_dim)\n",
    "        \n",
    "        output, (hidden, cell) = self.lstm(output, (hidden, cell))\n",
    "\n",
    "        output = self.dropout(output)\n",
    "\n",
    "        output = torch.stack([output[i, n_words[i], :] \\\n",
    "                              for i in range(X.shape[0])])\n",
    "\n",
    "        output = self.fcout(output)\n",
    "\n",
    "        if self.n_out_emotions > 1:\n",
    "            output = self.logsoftmax(output)\n",
    "        else:\n",
    "            output = self.sigmoid(output)\n",
    "\n",
    "        return output"
   ]
  },
  {
   "cell_type": "markdown",
   "metadata": {
    "id": "yNKHdqqaGtma"
   },
   "source": [
    "### Training class"
   ]
  },
  {
   "cell_type": "code",
   "execution_count": null,
   "metadata": {
    "id": "xQ2huSOUGur0"
   },
   "outputs": [],
   "source": [
    "class EmotionPredictionLSTMStandardJustText_extended(EmotionPredictionLSTMStandardJustText):\n",
    "\n",
    "\n",
    "    def __init__(self, lstm_num_layers, n_out_emotions, \n",
    "                 word_embedding, word2row, row2word, dropout_p, \n",
    "                 freeze_embedding, epochs=100, lr=0.01):\n",
    "        \n",
    "        super().__init__(lstm_num_layers, n_out_emotions, \n",
    "                         word_embedding, word2row, row2word, dropout_p, \n",
    "                         freeze_embedding)\n",
    "\n",
    "        self.lr = lr\n",
    "        \n",
    "        if self.n_out_emotions > 1:\n",
    "            self.criterion = nn.NLLLoss()\n",
    "        else:\n",
    "            self.criterion = nn.BCELoss()\n",
    "            \n",
    "        self.optim = optim.Adam(self.parameters(), self.lr)\n",
    "        self.epochs = epochs\n",
    "\n",
    "        self.file_weight_name = ''\n",
    "\n",
    "        self.loss_during_training = []\n",
    "        self.loss_val_during_training = []\n",
    "    \n",
    "\n",
    "    def fit(self, train_loader, val_loader, max_stop=None,\n",
    "            file_weight_name='lstm_emotion_standard_just_text_checkpoint'):  \n",
    "        \n",
    "        words2pred, _, _, _, _ = next(iter(train_loader))\n",
    "        words2pred = words2pred.shape[1]\n",
    "\n",
    "        min_val_epoch_loss = float('inf')\n",
    "        min_val_epoch = 0\n",
    "        no_impr = 0\n",
    "\n",
    "        #n_train = train_loader.dataset.n_words_used.shape[0]\n",
    "        #n_val = val_loader.dataset.n_words_used.shape[0]\n",
    "\n",
    "        self.file_weight_name = 'checkpoints/' + file_weight_name \\\n",
    "                        + '_'+ str(self.lstm_num_layers) + '_layers' + '.pth'\n",
    "\n",
    "        for e in range(self.epochs):\n",
    "\n",
    "            loss_epoch = 0\n",
    "\n",
    "            self.train()\n",
    "            for X_batch_train, y_batch_train, \\\n",
    "                X_batch_app_train, X_batch_n_words_train, _ in train_loader: \n",
    "\n",
    "                self.optim.zero_grad()\n",
    "                loss = 0\n",
    "\n",
    "                # To GPU\n",
    "                X_batch_train = X_batch_train.to(device)\n",
    "                y_batch_train = y_batch_train.to(device)\n",
    "                X_batch_app_train = X_batch_app_train.to(device)\n",
    "                X_batch_n_words_train = X_batch_n_words_train.to(device)\n",
    "\n",
    "                output = self.forward(X=X_batch_train, \n",
    "                                      n_words=X_batch_n_words_train,\n",
    "                                      states=None)\n",
    "                \n",
    "                # For each output observation of the batch, \n",
    "                # we compute the NLLLoss\n",
    "                loss = self.criterion(output, y_batch_train)\n",
    "\n",
    "                loss.backward()\n",
    "\n",
    "                # This code helps to avoid vanishing exploiting gradients in RNNs\n",
    "                # `clip_grad_norm` helps prevent the exploding gradient problem in RNNs / LSTMs.\n",
    "                nn.utils.clip_grad_norm_(self.parameters(), 2.0)\n",
    "\n",
    "                self.optim.step()\n",
    "            \n",
    "                loss_epoch += loss\n",
    "\n",
    "            loss_epoch = loss_epoch / len(train_loader)\n",
    "            self.loss_during_training.append(loss_epoch.item())\n",
    "            val_loss_epoch = self.validation_loss(val_loader) / len(val_loader)\n",
    "            self.loss_val_during_training.append(val_loss_epoch)\n",
    "            \n",
    "            if e % 10 == 0:\n",
    "                print('[Train]: Epoch %d -> Train loss: %f - Val loss: %f' \n",
    "                      % (e, loss_epoch, val_loss_epoch))\n",
    "        \n",
    "            if val_loss_epoch < min_val_epoch_loss:\n",
    "                min_val_epoch_loss = val_loss_epoch\n",
    "                min_val_epoch = e\n",
    "                #print('[Train]: Best model obtained so far: saving weights...')\n",
    "                torch.save(self.state_dict(), self.file_weight_name)\n",
    "                #print('[Train]: Val error: %f in epoch %d'%(val_loss_epoch, e))       \n",
    "                if max_stop is not None:\n",
    "                    no_impr = 0\n",
    "            else:\n",
    "                if max_stop is not None:\n",
    "                    no_impr += 1\n",
    "                    if no_impr > max_stop:\n",
    "                        print('[Train]: Training stopped in epoch %d. No improvement for %d epochs' % (e, max_stop))\n",
    "                        print('[Train] Summary: Least validation loss obtained in epoch %d: %f'\n",
    "                            % (min_val_epoch, min_val_epoch_loss))    \n",
    "                        return\n",
    "        \n",
    "        print('[Train] Summary: Least validation loss obtained in epoch %d: %f'\n",
    "        % (min_val_epoch, min_val_epoch_loss))    \n",
    "\n",
    "            \n",
    "    def validation_loss(self, val_loader): \n",
    "\n",
    "        self.eval()\n",
    "\n",
    "        loss_val = 0\n",
    "        \n",
    "        with torch.no_grad(): \n",
    "\n",
    "            for X_batch_val, y_batch_val, \\\n",
    "                X_batch_app_val, X_batch_n_words_val, _ in val_loader: \n",
    "\n",
    "                X_batch_val = X_batch_val.to(device)\n",
    "                y_batch_val = y_batch_val.to(device)\n",
    "                X_batch_app_val = X_batch_app_val.to(device)\n",
    "                X_batch_n_words_val = X_batch_n_words_val.to(device)\n",
    "                \n",
    "                output = self.forward(X=X_batch_val, \n",
    "                                      n_words=X_batch_n_words_val,\n",
    "                                      states=None)\n",
    "                \n",
    "                # For each output observation of the batch, \n",
    "                # we compute the NLLLoss\n",
    "                #if self.n_out_emotions == 1: \n",
    "                #    output = output.reshape(-1)\n",
    "                loss_val += self.criterion(output, y_batch_val)\n",
    "                    \n",
    "        return loss_val.item()\n",
    "\n",
    "\n",
    "    def predict(self, loader):\n",
    "        \n",
    "        self.eval()\n",
    "        batch_size = loader.batch_size\n",
    "        pred_outs = np.zeros(len(loader.dataset))\n",
    "        real_outs = np.zeros(len(loader.dataset))\n",
    "\n",
    "        for i, (X_batch, y_batch, X_batch_app, \\\n",
    "            X_batch_n_words, _) in enumerate(loader): \n",
    "\n",
    "            X_batch = X_batch.to(device)\n",
    "            y_batch = y_batch.to(device)\n",
    "            X_batch_app = X_batch_app.to(device)\n",
    "            X_batch_n_words = X_batch_n_words.to(device)\n",
    "\n",
    "            output = self.forward(X=X_batch, \n",
    "                                  n_words=X_batch_n_words)\n",
    "            \n",
    "            if self.n_out_emotions == 1:\n",
    "                #outs = output.reshape(-1)\n",
    "                #outs = self.sigmoid(outs)\n",
    "                outs = output >= 0.5\n",
    "            else:\n",
    "                #outs = torch.nn.LogSoftmax(dim=1)\n",
    "                outs = output.argmax(axis=1)\n",
    "            \n",
    "            outs = outs.cpu().detach().numpy().reshape(-1)\n",
    "            y_batch_v = y_batch.cpu().detach().numpy().reshape(-1)\n",
    "\n",
    "            real_outs[i*batch_size:(i+1)*batch_size] = y_batch_v\n",
    "            pred_outs[i*batch_size:(i+1)*batch_size] = outs\n",
    "    \n",
    "        return real_outs, pred_outs"
   ]
  },
  {
   "cell_type": "markdown",
   "metadata": {
    "id": "yBFkUyPrKaKc"
   },
   "source": [
    "### Training and test process"
   ]
  },
  {
   "cell_type": "code",
   "execution_count": null,
   "metadata": {
    "colab": {
     "base_uri": "https://localhost:8080/"
    },
    "executionInfo": {
     "elapsed": 283,
     "status": "ok",
     "timestamp": 1624725700307,
     "user": {
      "displayName": "Arturo Silva González",
      "photoUrl": "https://lh3.googleusercontent.com/a-/AOh14GiUHdipuYIBJIA1SlUS1AmLgDU-JVlj3PpPUxj0=s64",
      "userId": "00222598250959016841"
     },
     "user_tz": -120
    },
    "id": "1OIjtrX2KBiA",
    "outputId": "10f7ef10-0190-4147-ad7e-70eeddac6647"
   },
   "outputs": [
    {
     "data": {
      "text/plain": [
       "EmotionPredictionLSTMStandardJustText_extended(\n",
       "  (embedding): Embedding(3409, 300)\n",
       "  (sigmoid): Sigmoid()\n",
       "  (lstm): LSTM(300, 300, batch_first=True)\n",
       "  (fcout): Linear(in_features=300, out_features=1, bias=True)\n",
       "  (dropout): Dropout(p=0.2, inplace=False)\n",
       "  (criterion): BCELoss()\n",
       ")"
      ]
     },
     "execution_count": 143,
     "metadata": {
      "tags": []
     },
     "output_type": "execute_result"
    }
   ],
   "source": [
    "lstm = EmotionPredictionLSTMStandardJustText_extended(lstm_num_layers=1, \n",
    "                                              n_out_emotions=1, \n",
    "                                              word_embedding=word_embed, \n",
    "                                              word2row=word2row, \n",
    "                                              row2word=row2word, \n",
    "                                              dropout_p=0.2, \n",
    "                                              freeze_embedding=True,\n",
    "                                              epochs=1000, \n",
    "                                              lr=0.01)\n",
    "lstm.to(device)"
   ]
  },
  {
   "cell_type": "code",
   "execution_count": null,
   "metadata": {
    "colab": {
     "base_uri": "https://localhost:8080/"
    },
    "executionInfo": {
     "elapsed": 6389,
     "status": "ok",
     "timestamp": 1624725707408,
     "user": {
      "displayName": "Arturo Silva González",
      "photoUrl": "https://lh3.googleusercontent.com/a-/AOh14GiUHdipuYIBJIA1SlUS1AmLgDU-JVlj3PpPUxj0=s64",
      "userId": "00222598250959016841"
     },
     "user_tz": -120
    },
    "id": "So-sZAdPKpy0",
    "outputId": "0cc11b67-7fb6-491c-df39-9986c0e96e1c"
   },
   "outputs": [
    {
     "name": "stdout",
     "output_type": "stream",
     "text": [
      "[Train]: Epoch 0 -> Train loss: 0.565901 - Val loss: 0.487115\n",
      "[Train]: Epoch 10 -> Train loss: 0.276251 - Val loss: 0.611615\n",
      "[Train]: Training stopped in epoch 11. No improvement for 10 epochs\n",
      "[Train] Summary: Least validation loss obtained in epoch 0: 0.487115\n"
     ]
    }
   ],
   "source": [
    "lstm.fit(train_loader=train_loader, val_loader=val_loader, max_stop=10)"
   ]
  },
  {
   "cell_type": "code",
   "execution_count": null,
   "metadata": {
    "id": "6clSXkXKKyCq"
   },
   "outputs": [],
   "source": [
    "lstm.load_state_dict(torch.load(lstm.file_weight_name))\n",
    "y_test, y_test_pred = lstm.predict(test_loader)"
   ]
  },
  {
   "cell_type": "code",
   "execution_count": null,
   "metadata": {
    "colab": {
     "base_uri": "https://localhost:8080/"
    },
    "executionInfo": {
     "elapsed": 6,
     "status": "ok",
     "timestamp": 1624725707409,
     "user": {
      "displayName": "Arturo Silva González",
      "photoUrl": "https://lh3.googleusercontent.com/a-/AOh14GiUHdipuYIBJIA1SlUS1AmLgDU-JVlj3PpPUxj0=s64",
      "userId": "00222598250959016841"
     },
     "user_tz": -120
    },
    "id": "tNQEwZ1qK07F",
    "outputId": "0753d917-47ea-4040-a63f-46f4f5df65ce"
   },
   "outputs": [
    {
     "name": "stdout",
     "output_type": "stream",
     "text": [
      "              precision    recall  f1-score   support\n",
      "\n",
      "         0.0       0.74      0.62      0.67       422\n",
      "         1.0       0.76      0.85      0.80       609\n",
      "\n",
      "    accuracy                           0.75      1031\n",
      "   macro avg       0.75      0.73      0.74      1031\n",
      "weighted avg       0.75      0.75      0.75      1031\n",
      "\n"
     ]
    }
   ],
   "source": [
    "print(classification_report(y_test, y_test_pred))"
   ]
  },
  {
   "cell_type": "markdown",
   "metadata": {
    "id": "zynDEbj5M0V8"
   },
   "source": [
    "## GRU sentiment prediction"
   ]
  },
  {
   "cell_type": "markdown",
   "metadata": {
    "id": "ZG8AKWOzM4I5"
   },
   "source": [
    "### Class implementation"
   ]
  },
  {
   "cell_type": "code",
   "execution_count": null,
   "metadata": {
    "id": "pKt7vVvPM-gZ"
   },
   "outputs": [],
   "source": [
    "class EmotionPredictionGRUStandardJustText(nn.Module):\n",
    "\n",
    "\n",
    "    def __init__(self, gru_num_layers, n_out_emotions, word_embedding, \n",
    "                 word2row, row2word, dropout_p, freeze_embedding):\n",
    "\n",
    "        # word_vector_size -> word vector dimension\n",
    "        # number of the embedding_dimension (not sure)\n",
    "        # nlp -> the spaCy instance with <EOS> and <SOS> tokens\n",
    "        \n",
    "        # The main variables to save\n",
    "        # super(GRU, self).__init__()\n",
    "        super().__init__()\n",
    "        self.dropout_p = dropout_p\n",
    "\n",
    "        # The embedding with some auxiliary variables\n",
    "        self.embed_weights = word_embedding\n",
    "        self.word2row = word2row\n",
    "        self.row2word = row2word\n",
    "        self.embed_dim = self.embed_weights.shape[1]\n",
    "        self.n_vocab = self.embed_weights.shape[0]\n",
    "        self.freeze_embedding = freeze_embedding\n",
    "\n",
    "        self.n_out_emotions = n_out_emotions\n",
    "\n",
    "        self.gru_num_layers = gru_num_layers\n",
    "        self.embedding = nn.Embedding.from_pretrained(self.embed_weights, \n",
    "                                                      freeze=self.freeze_embedding)\n",
    "        \n",
    "        self.sigmoid = nn.Sigmoid()\n",
    "        \n",
    "        # Batch is first, so:\n",
    "        # the input must be (Batch size, Sequence length=16, Input size=300)\n",
    "        self.gru = nn.GRU(input_size=self.embed_dim, \n",
    "                            hidden_size=self.embed_dim, \n",
    "                            num_layers=self.gru_num_layers,\n",
    "                            batch_first=True)\n",
    "        self.fcout = nn.Linear(self.embed_dim, self.n_out_emotions)\n",
    "        if self.n_out_emotions > 1:\n",
    "            self.logsoftmax = nn.LogSoftmax(dim=1)\n",
    "        self.dropout = nn.Dropout(self.dropout_p)\n",
    "    \n",
    "\n",
    "    # X: word rows in the dictionary\n",
    "    def forward(self, X, n_words=None, hidden=None):\n",
    "\n",
    "        if n_words is None:\n",
    "            # -1 because in n_word we have from 1-22. In array from 0-21\n",
    "            n_words = torch.LongTensor([X.shape[1]-1]*X.shape[0])\n",
    "            n_words = n_words.to(device)\n",
    "        else:\n",
    "            n_words -= 1\n",
    "\n",
    "        if not X.is_cuda:\n",
    "            X = X.to(device)\n",
    "\n",
    "        if hidden is None:\n",
    "            hidden = torch.zeros(self.gru_num_layers, \n",
    "                               X.shape[0], self.embed_dim).to(device)\n",
    "\n",
    "        output = self.embedding(X).view(X.shape[0], -1, self.embed_dim)\n",
    "        \n",
    "        output, hidden = self.gru(output, hidden)\n",
    "\n",
    "        output = self.dropout(output)\n",
    "\n",
    "        output = torch.stack([output[i, n_words[i], :] \\\n",
    "                              for i in range(X.shape[0])])\n",
    "\n",
    "        output = self.fcout(output)\n",
    "\n",
    "        if self.n_out_emotions > 1:\n",
    "            output = self.logsoftmax(output)\n",
    "        else:\n",
    "            output = self.sigmoid(output)\n",
    "\n",
    "        return output"
   ]
  },
  {
   "cell_type": "markdown",
   "metadata": {
    "id": "lkYJXr5cM4BI"
   },
   "source": [
    "### Training class"
   ]
  },
  {
   "cell_type": "code",
   "execution_count": null,
   "metadata": {
    "id": "bzhBV3xdM2xX"
   },
   "outputs": [],
   "source": [
    "class EmotionPredictionGRUStandardJustText_extended(EmotionPredictionGRUStandardJustText):\n",
    "\n",
    "\n",
    "    def __init__(self, gru_num_layers, n_out_emotions, \n",
    "                 word_embedding, word2row, row2word, dropout_p, \n",
    "                 freeze_embedding, epochs=100, lr=0.01):\n",
    "        \n",
    "        super().__init__(gru_num_layers, n_out_emotions, \n",
    "                         word_embedding, word2row, row2word, dropout_p, \n",
    "                         freeze_embedding)\n",
    "\n",
    "        self.lr = lr\n",
    "        \n",
    "        if self.n_out_emotions > 1:\n",
    "            self.criterion = nn.NLLLoss()\n",
    "        else:\n",
    "            self.criterion = nn.BCELoss()\n",
    "            \n",
    "        self.optim = optim.Adam(self.parameters(), self.lr)\n",
    "        self.epochs = epochs\n",
    "\n",
    "        self.file_weight_name = ''\n",
    "\n",
    "        self.loss_during_training = []\n",
    "        self.loss_val_during_training = []\n",
    "    \n",
    "\n",
    "    def fit(self, train_loader, val_loader, max_stop=None,\n",
    "            file_weight_name='gru_emotion_standard_just_text_checkpoint'):  \n",
    "        \n",
    "        words2pred, _, _, _, _ = next(iter(train_loader))\n",
    "        words2pred = words2pred.shape[1]\n",
    "\n",
    "        min_val_epoch_loss = float('inf')\n",
    "        min_val_epoch = 0\n",
    "        no_impr = 0\n",
    "\n",
    "        #n_train = train_loader.dataset.n_words_used.shape[0]\n",
    "        #n_val = val_loader.dataset.n_words_used.shape[0]\n",
    "\n",
    "        self.file_weight_name = 'checkpoints/' + file_weight_name \\\n",
    "                        + '_'+ str(self.gru_num_layers) + '_layers' + '.pth'\n",
    "\n",
    "        for e in range(self.epochs):\n",
    "\n",
    "            loss_epoch = 0\n",
    "\n",
    "            self.train()\n",
    "            for X_batch_train, y_batch_train, \\\n",
    "                X_batch_app_train, X_batch_n_words_train, _ in train_loader: \n",
    "\n",
    "                self.optim.zero_grad()\n",
    "                loss = 0\n",
    "\n",
    "                # To GPU\n",
    "                X_batch_train = X_batch_train.to(device)\n",
    "                y_batch_train = y_batch_train.to(device)\n",
    "                X_batch_app_train = X_batch_app_train.to(device)\n",
    "                X_batch_n_words_train = X_batch_n_words_train.to(device)\n",
    "\n",
    "                output = self.forward(X=X_batch_train, \n",
    "                                      n_words=X_batch_n_words_train,\n",
    "                                      hidden=None)\n",
    "                \n",
    "                # For each output observation of the batch, \n",
    "                # we compute the NLLLoss\n",
    "                loss = self.criterion(output, y_batch_train)\n",
    "\n",
    "                loss.backward()\n",
    "\n",
    "                # This code helps to avoid vanishing exploiting gradients in RNNs\n",
    "                # `clip_grad_norm` helps prevent the exploding gradient problem in RNNs / LSTMs.\n",
    "                nn.utils.clip_grad_norm_(self.parameters(), 2.0)\n",
    "\n",
    "                self.optim.step()\n",
    "            \n",
    "                loss_epoch += loss\n",
    "\n",
    "            loss_epoch = loss_epoch / len(train_loader)\n",
    "            self.loss_during_training.append(loss_epoch.item())\n",
    "            val_loss_epoch = self.validation_loss(val_loader) / len(val_loader)\n",
    "            self.loss_val_during_training.append(val_loss_epoch)\n",
    "            \n",
    "            if e % 10 == 0:\n",
    "                print('[Train]: Epoch %d -> Train loss: %f - Val loss: %f' \n",
    "                      % (e, loss_epoch, val_loss_epoch))\n",
    "        \n",
    "            if val_loss_epoch < min_val_epoch_loss:\n",
    "                min_val_epoch_loss = val_loss_epoch\n",
    "                min_val_epoch = e\n",
    "                #print('[Train]: Best model obtained so far: saving weights...')\n",
    "                torch.save(self.state_dict(), self.file_weight_name)\n",
    "                #print('[Train]: Val error: %f in epoch %d'%(val_loss_epoch, e))       \n",
    "                if max_stop is not None:\n",
    "                    no_impr = 0\n",
    "            else:\n",
    "                if max_stop is not None:\n",
    "                    no_impr += 1\n",
    "                    if no_impr > max_stop:\n",
    "                        print('[Train]: Training stopped in epoch %d. No improvement for %d epochs' % (e, max_stop))\n",
    "                        print('[Train] Summary: Least validation loss obtained in epoch %d: %f'\n",
    "                            % (min_val_epoch, min_val_epoch_loss))    \n",
    "                        return\n",
    "        \n",
    "        print('[Train] Summary: Least validation loss obtained in epoch %d: %f'\n",
    "        % (min_val_epoch, min_val_epoch_loss))    \n",
    "\n",
    "            \n",
    "    def validation_loss(self, val_loader): \n",
    "\n",
    "        self.eval()\n",
    "\n",
    "        loss_val = 0\n",
    "        \n",
    "        with torch.no_grad(): \n",
    "\n",
    "            for X_batch_val, y_batch_val, \\\n",
    "                X_batch_app_val, X_batch_n_words_val, _ in val_loader: \n",
    "\n",
    "                X_batch_val = X_batch_val.to(device)\n",
    "                y_batch_val = y_batch_val.to(device)\n",
    "                X_batch_app_val = X_batch_app_val.to(device)\n",
    "                X_batch_n_words_val = X_batch_n_words_val.to(device)\n",
    "                \n",
    "                output = self.forward(X=X_batch_val, \n",
    "                                      n_words=X_batch_n_words_val,\n",
    "                                      hidden=None)\n",
    "                \n",
    "                # For each output observation of the batch, \n",
    "                # we compute the NLLLoss\n",
    "                #if self.n_out_emotions == 1: \n",
    "                #    output = output.reshape(-1)\n",
    "                loss_val += self.criterion(output, y_batch_val)\n",
    "                    \n",
    "        return loss_val.item()\n",
    "\n",
    "\n",
    "    def predict(self, loader):\n",
    "        \n",
    "        self.eval()\n",
    "        batch_size = loader.batch_size\n",
    "        pred_outs = np.zeros(len(loader.dataset))\n",
    "        real_outs = np.zeros(len(loader.dataset))\n",
    "\n",
    "        for i, (X_batch, y_batch, X_batch_app, \\\n",
    "            X_batch_n_words, _) in enumerate(loader): \n",
    "\n",
    "            X_batch = X_batch.to(device)\n",
    "            y_batch = y_batch.to(device)\n",
    "            X_batch_app = X_batch_app.to(device)\n",
    "            X_batch_n_words = X_batch_n_words.to(device)\n",
    "\n",
    "            output = self.forward(X=X_batch, \n",
    "                                  n_words=X_batch_n_words)\n",
    "            \n",
    "            if self.n_out_emotions == 1:\n",
    "                #outs = output.reshape(-1)\n",
    "                #outs = self.sigmoid(outs)\n",
    "                outs = output >= 0.5\n",
    "            else:\n",
    "                #outs = torch.nn.LogSoftmax(dim=1)\n",
    "                outs = output.argmax(axis=1)\n",
    "            \n",
    "            outs = outs.cpu().detach().numpy().reshape(-1)\n",
    "            y_batch_v = y_batch.cpu().detach().numpy().reshape(-1)\n",
    "\n",
    "            real_outs[i*batch_size:(i+1)*batch_size] = y_batch_v\n",
    "            pred_outs[i*batch_size:(i+1)*batch_size] = outs\n",
    "    \n",
    "        return real_outs, pred_outs"
   ]
  },
  {
   "cell_type": "markdown",
   "metadata": {
    "id": "9alr80yKM3V2"
   },
   "source": [
    "### Training and test process"
   ]
  },
  {
   "cell_type": "code",
   "execution_count": null,
   "metadata": {
    "colab": {
     "base_uri": "https://localhost:8080/"
    },
    "executionInfo": {
     "elapsed": 4,
     "status": "ok",
     "timestamp": 1624726302461,
     "user": {
      "displayName": "Arturo Silva González",
      "photoUrl": "https://lh3.googleusercontent.com/a-/AOh14GiUHdipuYIBJIA1SlUS1AmLgDU-JVlj3PpPUxj0=s64",
      "userId": "00222598250959016841"
     },
     "user_tz": -120
    },
    "id": "4y2QlUaMM98H",
    "outputId": "53fc8f30-f7d2-4642-ad26-d96e6e1eb62b"
   },
   "outputs": [
    {
     "data": {
      "text/plain": [
       "EmotionPredictionGRUStandardJustText_extended(\n",
       "  (embedding): Embedding(3409, 300)\n",
       "  (sigmoid): Sigmoid()\n",
       "  (gru): GRU(300, 300, batch_first=True)\n",
       "  (fcout): Linear(in_features=300, out_features=4, bias=True)\n",
       "  (logsoftmax): LogSoftmax(dim=1)\n",
       "  (dropout): Dropout(p=0.2, inplace=False)\n",
       "  (criterion): NLLLoss()\n",
       ")"
      ]
     },
     "execution_count": 210,
     "metadata": {
      "tags": []
     },
     "output_type": "execute_result"
    }
   ],
   "source": [
    "gru = EmotionPredictionGRUStandardJustText_extended(gru_num_layers=1, \n",
    "                                              n_out_emotions=4, \n",
    "                                              word_embedding=word_embed, \n",
    "                                              word2row=word2row, \n",
    "                                              row2word=row2word, \n",
    "                                              dropout_p=0.2, \n",
    "                                              freeze_embedding=True,\n",
    "                                              epochs=1000, \n",
    "                                              lr=0.01)\n",
    "gru.to(device)"
   ]
  },
  {
   "cell_type": "code",
   "execution_count": null,
   "metadata": {
    "colab": {
     "base_uri": "https://localhost:8080/"
    },
    "executionInfo": {
     "elapsed": 7246,
     "status": "ok",
     "timestamp": 1624726311486,
     "user": {
      "displayName": "Arturo Silva González",
      "photoUrl": "https://lh3.googleusercontent.com/a-/AOh14GiUHdipuYIBJIA1SlUS1AmLgDU-JVlj3PpPUxj0=s64",
      "userId": "00222598250959016841"
     },
     "user_tz": -120
    },
    "id": "saYfuWUKOJ4S",
    "outputId": "23ca0827-44b5-4e94-fc6e-67e7e22e21e1"
   },
   "outputs": [
    {
     "name": "stdout",
     "output_type": "stream",
     "text": [
      "[Train]: Epoch 0 -> Train loss: 1.097067 - Val loss: 1.036386\n",
      "[Train]: Epoch 10 -> Train loss: 0.676099 - Val loss: 1.062047\n",
      "[Train]: Training stopped in epoch 13. No improvement for 10 epochs\n",
      "[Train] Summary: Least validation loss obtained in epoch 2: 0.974159\n"
     ]
    }
   ],
   "source": [
    "gru.fit(train_loader=train_loader, val_loader=val_loader, max_stop=10)"
   ]
  },
  {
   "cell_type": "code",
   "execution_count": null,
   "metadata": {
    "id": "mEnxIXkPOVk7"
   },
   "outputs": [],
   "source": [
    "gru.load_state_dict(torch.load(gru.file_weight_name))\n",
    "y_test, y_test_pred = gru.predict(test_loader)"
   ]
  },
  {
   "cell_type": "code",
   "execution_count": null,
   "metadata": {
    "colab": {
     "base_uri": "https://localhost:8080/"
    },
    "executionInfo": {
     "elapsed": 3,
     "status": "ok",
     "timestamp": 1624726315238,
     "user": {
      "displayName": "Arturo Silva González",
      "photoUrl": "https://lh3.googleusercontent.com/a-/AOh14GiUHdipuYIBJIA1SlUS1AmLgDU-JVlj3PpPUxj0=s64",
      "userId": "00222598250959016841"
     },
     "user_tz": -120
    },
    "id": "CVJTgLMfOi3P",
    "outputId": "64f1e6eb-3088-4bb0-a7e3-d4d9d3765d04"
   },
   "outputs": [
    {
     "name": "stdout",
     "output_type": "stream",
     "text": [
      "              precision    recall  f1-score   support\n",
      "\n",
      "         0.0       0.57      0.69      0.62       281\n",
      "         1.0       0.34      0.12      0.17       155\n",
      "         2.0       0.65      0.77      0.71       530\n",
      "         3.0       0.13      0.03      0.05        65\n",
      "\n",
      "    accuracy                           0.60      1031\n",
      "   macro avg       0.42      0.40      0.39      1031\n",
      "weighted avg       0.55      0.60      0.56      1031\n",
      "\n"
     ]
    }
   ],
   "source": [
    "print(classification_report(y_test, y_test_pred))"
   ]
  },
  {
   "cell_type": "markdown",
   "metadata": {
    "id": "aruvEagQPSGc"
   },
   "source": [
    "## Random Forest 4 emotion prediction"
   ]
  },
  {
   "cell_type": "code",
   "execution_count": 78,
   "metadata": {
    "colab": {
     "base_uri": "https://localhost:8080/"
    },
    "executionInfo": {
     "elapsed": 2656,
     "status": "ok",
     "timestamp": 1624824711125,
     "user": {
      "displayName": "Arturo Silva González",
      "photoUrl": "https://lh3.googleusercontent.com/a-/AOh14GiUHdipuYIBJIA1SlUS1AmLgDU-JVlj3PpPUxj0=s64",
      "userId": "00222598250959016841"
     },
     "user_tz": -120
    },
    "id": "aaQW-Uq8Ok9N",
    "outputId": "475a5cbb-c0d1-4841-eeed-8033bf766b8e"
   },
   "outputs": [
    {
     "name": "stdout",
     "output_type": "stream",
     "text": [
      "Requirement already satisfied: optuna in /usr/local/lib/python3.7/dist-packages (2.8.0)\n",
      "Requirement already satisfied: tqdm in /usr/local/lib/python3.7/dist-packages (from optuna) (4.41.1)\n",
      "Requirement already satisfied: packaging>=20.0 in /usr/local/lib/python3.7/dist-packages (from optuna) (20.9)\n",
      "Requirement already satisfied: scipy!=1.4.0 in /usr/local/lib/python3.7/dist-packages (from optuna) (1.4.1)\n",
      "Requirement already satisfied: colorlog in /usr/local/lib/python3.7/dist-packages (from optuna) (5.0.1)\n",
      "Requirement already satisfied: alembic in /usr/local/lib/python3.7/dist-packages (from optuna) (1.6.5)\n",
      "Requirement already satisfied: cliff in /usr/local/lib/python3.7/dist-packages (from optuna) (3.8.0)\n",
      "Requirement already satisfied: sqlalchemy>=1.1.0 in /usr/local/lib/python3.7/dist-packages (from optuna) (1.4.18)\n",
      "Requirement already satisfied: cmaes>=0.8.2 in /usr/local/lib/python3.7/dist-packages (from optuna) (0.8.2)\n",
      "Requirement already satisfied: numpy in /usr/local/lib/python3.7/dist-packages (from optuna) (1.19.5)\n",
      "Requirement already satisfied: pyparsing>=2.0.2 in /usr/local/lib/python3.7/dist-packages (from packaging>=20.0->optuna) (2.4.7)\n",
      "Requirement already satisfied: python-editor>=0.3 in /usr/local/lib/python3.7/dist-packages (from alembic->optuna) (1.0.4)\n",
      "Requirement already satisfied: Mako in /usr/local/lib/python3.7/dist-packages (from alembic->optuna) (1.1.4)\n",
      "Requirement already satisfied: python-dateutil in /usr/local/lib/python3.7/dist-packages (from alembic->optuna) (2.8.1)\n",
      "Requirement already satisfied: stevedore>=2.0.1 in /usr/local/lib/python3.7/dist-packages (from cliff->optuna) (3.3.0)\n",
      "Requirement already satisfied: cmd2>=1.0.0 in /usr/local/lib/python3.7/dist-packages (from cliff->optuna) (2.1.1)\n",
      "Requirement already satisfied: PyYAML>=3.12 in /usr/local/lib/python3.7/dist-packages (from cliff->optuna) (3.13)\n",
      "Requirement already satisfied: PrettyTable>=0.7.2 in /usr/local/lib/python3.7/dist-packages (from cliff->optuna) (2.1.0)\n",
      "Requirement already satisfied: pbr!=2.1.0,>=2.0.0 in /usr/local/lib/python3.7/dist-packages (from cliff->optuna) (5.6.0)\n",
      "Requirement already satisfied: greenlet!=0.4.17; python_version >= \"3\" in /usr/local/lib/python3.7/dist-packages (from sqlalchemy>=1.1.0->optuna) (1.1.0)\n",
      "Requirement already satisfied: importlib-metadata; python_version < \"3.8\" in /usr/local/lib/python3.7/dist-packages (from sqlalchemy>=1.1.0->optuna) (4.5.0)\n",
      "Requirement already satisfied: MarkupSafe>=0.9.2 in /usr/local/lib/python3.7/dist-packages (from Mako->alembic->optuna) (2.0.1)\n",
      "Requirement already satisfied: six>=1.5 in /usr/local/lib/python3.7/dist-packages (from python-dateutil->alembic->optuna) (1.15.0)\n",
      "Requirement already satisfied: pyperclip>=1.6 in /usr/local/lib/python3.7/dist-packages (from cmd2>=1.0.0->cliff->optuna) (1.8.2)\n",
      "Requirement already satisfied: attrs>=16.3.0 in /usr/local/lib/python3.7/dist-packages (from cmd2>=1.0.0->cliff->optuna) (21.2.0)\n",
      "Requirement already satisfied: colorama>=0.3.7 in /usr/local/lib/python3.7/dist-packages (from cmd2>=1.0.0->cliff->optuna) (0.4.4)\n",
      "Requirement already satisfied: typing-extensions; python_version < \"3.8\" in /usr/local/lib/python3.7/dist-packages (from cmd2>=1.0.0->cliff->optuna) (3.7.4.3)\n",
      "Requirement already satisfied: wcwidth>=0.1.7 in /usr/local/lib/python3.7/dist-packages (from cmd2>=1.0.0->cliff->optuna) (0.2.5)\n",
      "Requirement already satisfied: zipp>=0.5 in /usr/local/lib/python3.7/dist-packages (from importlib-metadata; python_version < \"3.8\"->sqlalchemy>=1.1.0->optuna) (3.4.1)\n"
     ]
    }
   ],
   "source": [
    "!pip install optuna"
   ]
  },
  {
   "cell_type": "code",
   "execution_count": 91,
   "metadata": {
    "executionInfo": {
     "elapsed": 235,
     "status": "ok",
     "timestamp": 1624824791286,
     "user": {
      "displayName": "Arturo Silva González",
      "photoUrl": "https://lh3.googleusercontent.com/a-/AOh14GiUHdipuYIBJIA1SlUS1AmLgDU-JVlj3PpPUxj0=s64",
      "userId": "00222598250959016841"
     },
     "user_tz": -120
    },
    "id": "xgPJrcRdPZGH"
   },
   "outputs": [],
   "source": [
    "import numpy as np\n",
    "import matplotlib.pyplot as plt\n",
    "import pandas as pd\n",
    "\n",
    "import json\n",
    "\n",
    "from sklearn.preprocessing import StandardScaler\n",
    "\n",
    "from sklearn.model_selection import KFold\n",
    "\n",
    "from sklearn.pipeline import Pipeline\n",
    "\n",
    "from sklearn.impute import SimpleImputer\n",
    "from sklearn.experimental import enable_iterative_imputer\n",
    "from sklearn.impute import IterativeImputer\n",
    "\n",
    "from sklearn.feature_selection import SelectKBest, chi2, f_classif \n",
    "from sklearn.feature_selection import mutual_info_classif\n",
    "\n",
    "from sklearn.metrics import f1_score\n",
    "from sklearn.metrics import make_scorer\n",
    "from sklearn.metrics import classification_report\n",
    "\n",
    "from sklearn.model_selection import cross_val_score\n",
    "from sklearn.ensemble import RandomForestClassifier\n",
    "from sklearn.tree import DecisionTreeClassifier\n",
    "from sklearn.neural_network import MLPClassifier\n",
    "from sklearn.svm import SVC\n",
    "from sklearn.linear_model import LogisticRegression\n",
    "from sklearn.ensemble import ExtraTreesClassifier\n",
    "\n",
    "import optuna"
   ]
  },
  {
   "cell_type": "code",
   "execution_count": 92,
   "metadata": {
    "executionInfo": {
     "elapsed": 395,
     "status": "ok",
     "timestamp": 1624824793212,
     "user": {
      "displayName": "Arturo Silva González",
      "photoUrl": "https://lh3.googleusercontent.com/a-/AOh14GiUHdipuYIBJIA1SlUS1AmLgDU-JVlj3PpPUxj0=s64",
      "userId": "00222598250959016841"
     },
     "user_tz": -120
    },
    "id": "gYgdStw8Pagk"
   },
   "outputs": [],
   "source": [
    "def rfc_objective(trial):\n",
    "\n",
    "    bootstrap = trial.suggest_categorical('bootstrap', [True, False])\n",
    "    max_depth = trial.suggest_int('max_depth', 1, 20)\n",
    "    n_estimators = trial.suggest_int('n_estimators', 1, 300)\n",
    "    min_samples_split = trial.suggest_int('min_samples_split', 2, 50)\n",
    "    criterion = trial.suggest_categorical('criterion', ['gini', 'entropy'])\n",
    "\n",
    "    cv_grid = KFold(n_splits=5, shuffle=True)\n",
    "\n",
    "    clf = RandomForestClassifier(max_depth=max_depth, \n",
    "                                 bootstrap=bootstrap,\n",
    "                                 n_estimators=n_estimators,\n",
    "                                 criterion=criterion,\n",
    "                                 min_samples_split=min_samples_split)\n",
    "    \n",
    "    scores = cross_val_score(clf, X_train, y_train, scoring=make_scorer(f1_score, average='weighted'), \n",
    "                            n_jobs=-1, cv=cv_grid)\n",
    "            \n",
    "    return scores.mean()"
   ]
  },
  {
   "cell_type": "code",
   "execution_count": 93,
   "metadata": {
    "executionInfo": {
     "elapsed": 3,
     "status": "ok",
     "timestamp": 1624824793583,
     "user": {
      "displayName": "Arturo Silva González",
      "photoUrl": "https://lh3.googleusercontent.com/a-/AOh14GiUHdipuYIBJIA1SlUS1AmLgDU-JVlj3PpPUxj0=s64",
      "userId": "00222598250959016841"
     },
     "user_tz": -120
    },
    "id": "cgdOT3nPPbo2"
   },
   "outputs": [],
   "source": [
    "emotion_train, emotion_test = train_test_split(emotion_sum_dts)"
   ]
  },
  {
   "cell_type": "code",
   "execution_count": 94,
   "metadata": {
    "executionInfo": {
     "elapsed": 2,
     "status": "ok",
     "timestamp": 1624824794444,
     "user": {
      "displayName": "Arturo Silva González",
      "photoUrl": "https://lh3.googleusercontent.com/a-/AOh14GiUHdipuYIBJIA1SlUS1AmLgDU-JVlj3PpPUxj0=s64",
      "userId": "00222598250959016841"
     },
     "user_tz": -120
    },
    "id": "CHSr_Mz9Pgi9"
   },
   "outputs": [],
   "source": [
    "X_train = emotion_train.x_app_vector.detach().numpy()\n",
    "y_train = emotion_train.y_emotion.detach().numpy()"
   ]
  },
  {
   "cell_type": "code",
   "execution_count": 95,
   "metadata": {
    "executionInfo": {
     "elapsed": 258,
     "status": "ok",
     "timestamp": 1624824796213,
     "user": {
      "displayName": "Arturo Silva González",
      "photoUrl": "https://lh3.googleusercontent.com/a-/AOh14GiUHdipuYIBJIA1SlUS1AmLgDU-JVlj3PpPUxj0=s64",
      "userId": "00222598250959016841"
     },
     "user_tz": -120
    },
    "id": "-5pbwLkLPxIa"
   },
   "outputs": [],
   "source": [
    "X_test = emotion_test.x_app_vector.detach().numpy()\n",
    "y_test = emotion_test.y_emotion.detach().numpy()"
   ]
  },
  {
   "cell_type": "code",
   "execution_count": 96,
   "metadata": {
    "colab": {
     "base_uri": "https://localhost:8080/"
    },
    "executionInfo": {
     "elapsed": 242697,
     "status": "ok",
     "timestamp": 1624825042766,
     "user": {
      "displayName": "Arturo Silva González",
      "photoUrl": "https://lh3.googleusercontent.com/a-/AOh14GiUHdipuYIBJIA1SlUS1AmLgDU-JVlj3PpPUxj0=s64",
      "userId": "00222598250959016841"
     },
     "user_tz": -120
    },
    "id": "q89SOFL4PiHN",
    "outputId": "02784498-a05c-4db1-ed63-052de8d23bfb"
   },
   "outputs": [
    {
     "name": "stderr",
     "output_type": "stream",
     "text": [
      "\u001b[32m[I 2021-06-27 20:13:20,988]\u001b[0m A new study created in memory with name: no-name-e98fb9fa-7d61-4666-801b-fdd4842d6aaf\u001b[0m\n",
      "\u001b[32m[I 2021-06-27 20:13:26,564]\u001b[0m Trial 0 finished with value: 0.6260951888482602 and parameters: {'bootstrap': False, 'max_depth': 11, 'n_estimators': 152, 'min_samples_split': 19, 'criterion': 'gini'}. Best is trial 0 with value: 0.6260951888482602.\u001b[0m\n",
      "\u001b[32m[I 2021-06-27 20:13:26,788]\u001b[0m Trial 1 finished with value: 0.6045153445016507 and parameters: {'bootstrap': False, 'max_depth': 16, 'n_estimators': 6, 'min_samples_split': 45, 'criterion': 'gini'}. Best is trial 0 with value: 0.6260951888482602.\u001b[0m\n",
      "\u001b[32m[I 2021-06-27 20:13:26,842]\u001b[0m Trial 2 finished with value: 0.5820151070174485 and parameters: {'bootstrap': True, 'max_depth': 13, 'n_estimators': 1, 'min_samples_split': 42, 'criterion': 'gini'}. Best is trial 0 with value: 0.6260951888482602.\u001b[0m\n",
      "\u001b[32m[I 2021-06-27 20:13:34,102]\u001b[0m Trial 3 finished with value: 0.6433897979433771 and parameters: {'bootstrap': False, 'max_depth': 18, 'n_estimators': 188, 'min_samples_split': 9, 'criterion': 'gini'}. Best is trial 3 with value: 0.6433897979433771.\u001b[0m\n",
      "\u001b[32m[I 2021-06-27 20:13:41,821]\u001b[0m Trial 4 finished with value: 0.6156770627931412 and parameters: {'bootstrap': False, 'max_depth': 11, 'n_estimators': 263, 'min_samples_split': 44, 'criterion': 'gini'}. Best is trial 3 with value: 0.6433897979433771.\u001b[0m\n",
      "\u001b[32m[I 2021-06-27 20:13:52,519]\u001b[0m Trial 5 finished with value: 0.5921976785196365 and parameters: {'bootstrap': False, 'max_depth': 8, 'n_estimators': 275, 'min_samples_split': 46, 'criterion': 'entropy'}. Best is trial 3 with value: 0.6433897979433771.\u001b[0m\n",
      "\u001b[32m[I 2021-06-27 20:13:52,646]\u001b[0m Trial 6 finished with value: 0.5699018612556164 and parameters: {'bootstrap': True, 'max_depth': 6, 'n_estimators': 4, 'min_samples_split': 12, 'criterion': 'entropy'}. Best is trial 3 with value: 0.6433897979433771.\u001b[0m\n",
      "\u001b[32m[I 2021-06-27 20:13:56,306]\u001b[0m Trial 7 finished with value: 0.6420085255380947 and parameters: {'bootstrap': False, 'max_depth': 18, 'n_estimators': 97, 'min_samples_split': 13, 'criterion': 'gini'}. Best is trial 3 with value: 0.6433897979433771.\u001b[0m\n",
      "\u001b[32m[I 2021-06-27 20:14:06,135]\u001b[0m Trial 8 finished with value: 0.623280810578503 and parameters: {'bootstrap': False, 'max_depth': 19, 'n_estimators': 298, 'min_samples_split': 47, 'criterion': 'gini'}. Best is trial 3 with value: 0.6433897979433771.\u001b[0m\n",
      "\u001b[32m[I 2021-06-27 20:14:11,135]\u001b[0m Trial 9 finished with value: 0.5810872690043145 and parameters: {'bootstrap': True, 'max_depth': 7, 'n_estimators': 188, 'min_samples_split': 26, 'criterion': 'entropy'}. Best is trial 3 with value: 0.6433897979433771.\u001b[0m\n",
      "\u001b[32m[I 2021-06-27 20:14:12,805]\u001b[0m Trial 10 finished with value: 0.4588756667505408 and parameters: {'bootstrap': False, 'max_depth': 1, 'n_estimators': 215, 'min_samples_split': 2, 'criterion': 'gini'}. Best is trial 3 with value: 0.6433897979433771.\u001b[0m\n",
      "\u001b[32m[I 2021-06-27 20:14:16,229]\u001b[0m Trial 11 finished with value: 0.6367789287626981 and parameters: {'bootstrap': False, 'max_depth': 20, 'n_estimators': 83, 'min_samples_split': 2, 'criterion': 'gini'}. Best is trial 3 with value: 0.6433897979433771.\u001b[0m\n",
      "\u001b[32m[I 2021-06-27 20:14:19,519]\u001b[0m Trial 12 finished with value: 0.6343141326168636 and parameters: {'bootstrap': False, 'max_depth': 17, 'n_estimators': 87, 'min_samples_split': 11, 'criterion': 'gini'}. Best is trial 3 with value: 0.6433897979433771.\u001b[0m\n",
      "\u001b[32m[I 2021-06-27 20:14:22,826]\u001b[0m Trial 13 finished with value: 0.6265277826502724 and parameters: {'bootstrap': False, 'max_depth': 16, 'n_estimators': 97, 'min_samples_split': 31, 'criterion': 'gini'}. Best is trial 3 with value: 0.6433897979433771.\u001b[0m\n",
      "\u001b[32m[I 2021-06-27 20:14:27,928]\u001b[0m Trial 14 finished with value: 0.6401533505757547 and parameters: {'bootstrap': False, 'max_depth': 20, 'n_estimators': 132, 'min_samples_split': 11, 'criterion': 'gini'}. Best is trial 3 with value: 0.6433897979433771.\u001b[0m\n",
      "\u001b[32m[I 2021-06-27 20:14:35,334]\u001b[0m Trial 15 finished with value: 0.6311821346919334 and parameters: {'bootstrap': False, 'max_depth': 14, 'n_estimators': 216, 'min_samples_split': 17, 'criterion': 'gini'}. Best is trial 3 with value: 0.6433897979433771.\u001b[0m\n",
      "\u001b[32m[I 2021-06-27 20:14:36,637]\u001b[0m Trial 16 finished with value: 0.6301285259645024 and parameters: {'bootstrap': True, 'max_depth': 18, 'n_estimators': 46, 'min_samples_split': 7, 'criterion': 'gini'}. Best is trial 3 with value: 0.6433897979433771.\u001b[0m\n",
      "\u001b[32m[I 2021-06-27 20:14:44,161]\u001b[0m Trial 17 finished with value: 0.630623423167821 and parameters: {'bootstrap': False, 'max_depth': 14, 'n_estimators': 131, 'min_samples_split': 22, 'criterion': 'entropy'}. Best is trial 3 with value: 0.6433897979433771.\u001b[0m\n",
      "\u001b[32m[I 2021-06-27 20:14:46,564]\u001b[0m Trial 18 finished with value: 0.5030405325733238 and parameters: {'bootstrap': False, 'max_depth': 3, 'n_estimators': 181, 'min_samples_split': 29, 'criterion': 'gini'}. Best is trial 3 with value: 0.6433897979433771.\u001b[0m\n",
      "\u001b[32m[I 2021-06-27 20:14:48,246]\u001b[0m Trial 19 finished with value: 0.6317827056254172 and parameters: {'bootstrap': False, 'max_depth': 20, 'n_estimators': 42, 'min_samples_split': 8, 'criterion': 'gini'}. Best is trial 3 with value: 0.6433897979433771.\u001b[0m\n",
      "\u001b[32m[I 2021-06-27 20:14:52,228]\u001b[0m Trial 20 finished with value: 0.6235903244849103 and parameters: {'bootstrap': True, 'max_depth': 15, 'n_estimators': 170, 'min_samples_split': 36, 'criterion': 'gini'}. Best is trial 3 with value: 0.6433897979433771.\u001b[0m\n",
      "\u001b[32m[I 2021-06-27 20:14:56,682]\u001b[0m Trial 21 finished with value: 0.6416860493234078 and parameters: {'bootstrap': False, 'max_depth': 20, 'n_estimators': 119, 'min_samples_split': 15, 'criterion': 'gini'}. Best is trial 3 with value: 0.6433897979433771.\u001b[0m\n",
      "\u001b[32m[I 2021-06-27 20:15:01,261]\u001b[0m Trial 22 finished with value: 0.6423435403594125 and parameters: {'bootstrap': False, 'max_depth': 18, 'n_estimators': 124, 'min_samples_split': 16, 'criterion': 'gini'}. Best is trial 3 with value: 0.6433897979433771.\u001b[0m\n",
      "\u001b[32m[I 2021-06-27 20:15:03,281]\u001b[0m Trial 23 finished with value: 0.6463520559187181 and parameters: {'bootstrap': False, 'max_depth': 18, 'n_estimators': 50, 'min_samples_split': 5, 'criterion': 'gini'}. Best is trial 23 with value: 0.6463520559187181.\u001b[0m\n",
      "\u001b[32m[I 2021-06-27 20:15:05,085]\u001b[0m Trial 24 finished with value: 0.6406306066273814 and parameters: {'bootstrap': False, 'max_depth': 17, 'n_estimators': 46, 'min_samples_split': 6, 'criterion': 'gini'}. Best is trial 23 with value: 0.6463520559187181.\u001b[0m\n",
      "\u001b[32m[I 2021-06-27 20:15:12,461]\u001b[0m Trial 25 finished with value: 0.6268507335794291 and parameters: {'bootstrap': False, 'max_depth': 13, 'n_estimators': 223, 'min_samples_split': 21, 'criterion': 'gini'}. Best is trial 23 with value: 0.6463520559187181.\u001b[0m\n",
      "\u001b[32m[I 2021-06-27 20:15:15,084]\u001b[0m Trial 26 finished with value: 0.6340074622131902 and parameters: {'bootstrap': False, 'max_depth': 18, 'n_estimators': 65, 'min_samples_split': 4, 'criterion': 'gini'}. Best is trial 23 with value: 0.6463520559187181.\u001b[0m\n",
      "\u001b[32m[I 2021-06-27 20:15:29,909]\u001b[0m Trial 27 finished with value: 0.6307093259322812 and parameters: {'bootstrap': False, 'max_depth': 16, 'n_estimators': 241, 'min_samples_split': 16, 'criterion': 'entropy'}. Best is trial 23 with value: 0.6463520559187181.\u001b[0m\n",
      "\u001b[32m[I 2021-06-27 20:15:35,937]\u001b[0m Trial 28 finished with value: 0.6428216724521476 and parameters: {'bootstrap': False, 'max_depth': 19, 'n_estimators': 156, 'min_samples_split': 9, 'criterion': 'gini'}. Best is trial 23 with value: 0.6463520559187181.\u001b[0m\n",
      "\u001b[32m[I 2021-06-27 20:15:40,724]\u001b[0m Trial 29 finished with value: 0.623037518766554 and parameters: {'bootstrap': False, 'max_depth': 11, 'n_estimators': 151, 'min_samples_split': 8, 'criterion': 'gini'}. Best is trial 23 with value: 0.6463520559187181.\u001b[0m\n",
      "\u001b[32m[I 2021-06-27 20:15:45,464]\u001b[0m Trial 30 finished with value: 0.6097121873930155 and parameters: {'bootstrap': False, 'max_depth': 9, 'n_estimators': 168, 'min_samples_split': 2, 'criterion': 'gini'}. Best is trial 23 with value: 0.6463520559187181.\u001b[0m\n",
      "\u001b[32m[I 2021-06-27 20:15:52,526]\u001b[0m Trial 31 finished with value: 0.6379655941815692 and parameters: {'bootstrap': False, 'max_depth': 19, 'n_estimators': 193, 'min_samples_split': 19, 'criterion': 'gini'}. Best is trial 23 with value: 0.6463520559187181.\u001b[0m\n",
      "\u001b[32m[I 2021-06-27 20:15:57,661]\u001b[0m Trial 32 finished with value: 0.6340548333208004 and parameters: {'bootstrap': False, 'max_depth': 17, 'n_estimators': 137, 'min_samples_split': 10, 'criterion': 'gini'}. Best is trial 23 with value: 0.6463520559187181.\u001b[0m\n",
      "\u001b[32m[I 2021-06-27 20:16:04,058]\u001b[0m Trial 33 finished with value: 0.6347561372480969 and parameters: {'bootstrap': False, 'max_depth': 19, 'n_estimators': 160, 'min_samples_split': 5, 'criterion': 'gini'}. Best is trial 23 with value: 0.6463520559187181.\u001b[0m\n",
      "\u001b[32m[I 2021-06-27 20:16:08,041]\u001b[0m Trial 34 finished with value: 0.6375093320540942 and parameters: {'bootstrap': False, 'max_depth': 16, 'n_estimators': 110, 'min_samples_split': 14, 'criterion': 'gini'}. Best is trial 23 with value: 0.6463520559187181.\u001b[0m\n",
      "\u001b[32m[I 2021-06-27 20:16:08,808]\u001b[0m Trial 35 finished with value: 0.6244861049402661 and parameters: {'bootstrap': False, 'max_depth': 15, 'n_estimators': 20, 'min_samples_split': 9, 'criterion': 'gini'}. Best is trial 23 with value: 0.6463520559187181.\u001b[0m\n",
      "\u001b[32m[I 2021-06-27 20:16:15,200]\u001b[0m Trial 36 finished with value: 0.623892910970663 and parameters: {'bootstrap': False, 'max_depth': 12, 'n_estimators': 201, 'min_samples_split': 23, 'criterion': 'gini'}. Best is trial 23 with value: 0.6463520559187181.\u001b[0m\n",
      "\u001b[32m[I 2021-06-27 20:16:19,014]\u001b[0m Trial 37 finished with value: 0.6346542961363235 and parameters: {'bootstrap': True, 'max_depth': 18, 'n_estimators': 147, 'min_samples_split': 18, 'criterion': 'gini'}. Best is trial 23 with value: 0.6463520559187181.\u001b[0m\n",
      "\u001b[32m[I 2021-06-27 20:16:35,618]\u001b[0m Trial 38 finished with value: 0.6315139433128164 and parameters: {'bootstrap': False, 'max_depth': 19, 'n_estimators': 244, 'min_samples_split': 4, 'criterion': 'entropy'}. Best is trial 23 with value: 0.6463520559187181.\u001b[0m\n",
      "\u001b[32m[I 2021-06-27 20:16:37,938]\u001b[0m Trial 39 finished with value: 0.6329312053493978 and parameters: {'bootstrap': False, 'max_depth': 15, 'n_estimators': 64, 'min_samples_split': 14, 'criterion': 'gini'}. Best is trial 23 with value: 0.6463520559187181.\u001b[0m\n",
      "\u001b[32m[I 2021-06-27 20:16:42,361]\u001b[0m Trial 40 finished with value: 0.6254111819051222 and parameters: {'bootstrap': False, 'max_depth': 17, 'n_estimators': 117, 'min_samples_split': 12, 'criterion': 'gini'}. Best is trial 23 with value: 0.6463520559187181.\u001b[0m\n",
      "\u001b[32m[I 2021-06-27 20:16:46,118]\u001b[0m Trial 41 finished with value: 0.6347785533933317 and parameters: {'bootstrap': False, 'max_depth': 18, 'n_estimators': 100, 'min_samples_split': 13, 'criterion': 'gini'}. Best is trial 23 with value: 0.6463520559187181.\u001b[0m\n",
      "\u001b[32m[I 2021-06-27 20:16:48,919]\u001b[0m Trial 42 finished with value: 0.6359981707202045 and parameters: {'bootstrap': False, 'max_depth': 19, 'n_estimators': 72, 'min_samples_split': 9, 'criterion': 'gini'}. Best is trial 23 with value: 0.6463520559187181.\u001b[0m\n",
      "\u001b[32m[I 2021-06-27 20:16:49,826]\u001b[0m Trial 43 finished with value: 0.6308497900271968 and parameters: {'bootstrap': False, 'max_depth': 20, 'n_estimators': 22, 'min_samples_split': 6, 'criterion': 'gini'}. Best is trial 23 with value: 0.6463520559187181.\u001b[0m\n",
      "\u001b[32m[I 2021-06-27 20:16:56,291]\u001b[0m Trial 44 finished with value: 0.6312736500636988 and parameters: {'bootstrap': False, 'max_depth': 18, 'n_estimators': 177, 'min_samples_split': 20, 'criterion': 'gini'}. Best is trial 23 with value: 0.6463520559187181.\u001b[0m\n",
      "\u001b[32m[I 2021-06-27 20:16:59,369]\u001b[0m Trial 45 finished with value: 0.6323559042472299 and parameters: {'bootstrap': False, 'max_depth': 17, 'n_estimators': 87, 'min_samples_split': 24, 'criterion': 'gini'}. Best is trial 23 with value: 0.6463520559187181.\u001b[0m\n",
      "\u001b[32m[I 2021-06-27 20:17:02,204]\u001b[0m Trial 46 finished with value: 0.6253581210751041 and parameters: {'bootstrap': True, 'max_depth': 16, 'n_estimators': 101, 'min_samples_split': 2, 'criterion': 'gini'}. Best is trial 23 with value: 0.6463520559187181.\u001b[0m\n",
      "\u001b[32m[I 2021-06-27 20:17:11,373]\u001b[0m Trial 47 finished with value: 0.6364783386113485 and parameters: {'bootstrap': False, 'max_depth': 19, 'n_estimators': 140, 'min_samples_split': 12, 'criterion': 'entropy'}. Best is trial 23 with value: 0.6463520559187181.\u001b[0m\n",
      "\u001b[32m[I 2021-06-27 20:17:15,454]\u001b[0m Trial 48 finished with value: 0.6286782647317865 and parameters: {'bootstrap': False, 'max_depth': 14, 'n_estimators': 118, 'min_samples_split': 16, 'criterion': 'gini'}. Best is trial 23 with value: 0.6463520559187181.\u001b[0m\n",
      "\u001b[32m[I 2021-06-27 20:17:23,445]\u001b[0m Trial 49 finished with value: 0.6357847753663449 and parameters: {'bootstrap': False, 'max_depth': 20, 'n_estimators': 207, 'min_samples_split': 10, 'criterion': 'gini'}. Best is trial 23 with value: 0.6463520559187181.\u001b[0m\n"
     ]
    }
   ],
   "source": [
    "budget = 50\n",
    "np.random.seed(SEED)\n",
    "study = optuna.create_study(direction='maximize')\n",
    "study.optimize(rfc_objective, n_trials=budget)"
   ]
  },
  {
   "cell_type": "code",
   "execution_count": 100,
   "metadata": {
    "colab": {
     "base_uri": "https://localhost:8080/"
    },
    "executionInfo": {
     "elapsed": 243,
     "status": "ok",
     "timestamp": 1624825082283,
     "user": {
      "displayName": "Arturo Silva González",
      "photoUrl": "https://lh3.googleusercontent.com/a-/AOh14GiUHdipuYIBJIA1SlUS1AmLgDU-JVlj3PpPUxj0=s64",
      "userId": "00222598250959016841"
     },
     "user_tz": -120
    },
    "id": "coVaD-sKHxSt",
    "outputId": "46c48b5f-d31a-4603-b784-3b18a60869fa"
   },
   "outputs": [
    {
     "data": {
      "text/plain": [
       "array([0., 1., 1., ..., 1., 0., 1.], dtype=float32)"
      ]
     },
     "execution_count": 100,
     "metadata": {
      "tags": []
     },
     "output_type": "execute_result"
    }
   ],
   "source": [
    "y_test.ravel()"
   ]
  },
  {
   "cell_type": "code",
   "execution_count": 101,
   "metadata": {
    "colab": {
     "base_uri": "https://localhost:8080/"
    },
    "executionInfo": {
     "elapsed": 241,
     "status": "ok",
     "timestamp": 1624825092556,
     "user": {
      "displayName": "Arturo Silva González",
      "photoUrl": "https://lh3.googleusercontent.com/a-/AOh14GiUHdipuYIBJIA1SlUS1AmLgDU-JVlj3PpPUxj0=s64",
      "userId": "00222598250959016841"
     },
     "user_tz": -120
    },
    "id": "3k6BUPgLH1Vv",
    "outputId": "7a1f3b03-15ce-4eab-a557-bad5c5d8c064"
   },
   "outputs": [
    {
     "data": {
      "text/plain": [
       "array([0., 1., 0., ..., 0., 1., 1.], dtype=float32)"
      ]
     },
     "execution_count": 101,
     "metadata": {
      "tags": []
     },
     "output_type": "execute_result"
    }
   ],
   "source": []
  },
  {
   "cell_type": "code",
   "execution_count": 103,
   "metadata": {
    "colab": {
     "base_uri": "https://localhost:8080/"
    },
    "executionInfo": {
     "elapsed": 639,
     "status": "ok",
     "timestamp": 1624825106462,
     "user": {
      "displayName": "Arturo Silva González",
      "photoUrl": "https://lh3.googleusercontent.com/a-/AOh14GiUHdipuYIBJIA1SlUS1AmLgDU-JVlj3PpPUxj0=s64",
      "userId": "00222598250959016841"
     },
     "user_tz": -120
    },
    "id": "GyuLYrEaSEh2",
    "outputId": "cc9adb2e-6493-407b-8d2a-9eceea0cfb4c"
   },
   "outputs": [
    {
     "name": "stdout",
     "output_type": "stream",
     "text": [
      "              precision    recall  f1-score   support\n",
      "\n",
      "         0.0       0.63      0.49      0.55       422\n",
      "         1.0       0.70      0.80      0.75       609\n",
      "\n",
      "    accuracy                           0.68      1031\n",
      "   macro avg       0.66      0.65      0.65      1031\n",
      "weighted avg       0.67      0.68      0.67      1031\n",
      "\n"
     ]
    }
   ],
   "source": [
    "rfc = RandomForestClassifier(**study.best_params)\n",
    "rfc.fit(X_train, y_train.ravel())\n",
    "print(classification_report(y_test.ravel(), rfc.predict(X_test)))"
   ]
  },
  {
   "cell_type": "markdown",
   "metadata": {
    "id": "atx57vx4SYiv"
   },
   "source": [
    "## Naive Bayes"
   ]
  },
  {
   "cell_type": "code",
   "execution_count": null,
   "metadata": {
    "id": "FWG5LN1-SbDu"
   },
   "outputs": [],
   "source": [
    "from sklearn import preprocessing\n",
    "from sklearn.feature_extraction.text import CountVectorizer\n",
    "from sklearn.naive_bayes import MultinomialNB\n",
    "from sklearn.metrics import plot_confusion_matrix\n",
    "from sklearn.metrics import precision_recall_fscore_support"
   ]
  },
  {
   "cell_type": "markdown",
   "metadata": {
    "id": "aFAPSh_JUWFz"
   },
   "source": [
    "### 2 emotions"
   ]
  },
  {
   "cell_type": "code",
   "execution_count": null,
   "metadata": {
    "id": "1S1TAQYVSbeV"
   },
   "outputs": [],
   "source": [
    "train_idx = emotion_train.record_ids\n",
    "test_idx = emotion_test.record_ids\n",
    "train_df = emotions_df_reg[['emotion_text', 'sad']].loc[train_idx]\n",
    "test_df = emotions_df_reg[['emotion_text', 'sad']].loc[test_idx]"
   ]
  },
  {
   "cell_type": "markdown",
   "metadata": {
    "id": "jgYEq6AnUZBs"
   },
   "source": [
    "### 4 emotions"
   ]
  },
  {
   "cell_type": "code",
   "execution_count": null,
   "metadata": {
    "id": "FHkFrofAUm9v"
   },
   "outputs": [],
   "source": [
    "text_4_emotions = ['emotion_text'] + emotion_attr"
   ]
  },
  {
   "cell_type": "code",
   "execution_count": null,
   "metadata": {
    "id": "RjSbHdmNUa-l"
   },
   "outputs": [],
   "source": [
    "train_idx = emotion_train.record_ids\n",
    "test_idx = emotion_test.record_ids\n",
    "train_df = emotions_df_reg[text_4_emotions].loc[train_idx]\n",
    "test_df = emotions_df_reg[text_4_emotions].loc[test_idx]"
   ]
  },
  {
   "cell_type": "code",
   "execution_count": null,
   "metadata": {
    "id": "52pJuLVhSpk6"
   },
   "outputs": [],
   "source": [
    "vectorizer = CountVectorizer(analyzer='word')\n",
    "X_train = vectorizer.fit_transform(train_df['emotion_text'])\n",
    "y_train = train_df[emotion_attr].values.argmax(axis=1)\n",
    "X_test = vectorizer.transform(test_df['emotion_text'])\n",
    "y_test = test_df[emotion_attr].values.argmax(axis=1)"
   ]
  },
  {
   "cell_type": "code",
   "execution_count": null,
   "metadata": {
    "colab": {
     "base_uri": "https://localhost:8080/"
    },
    "executionInfo": {
     "elapsed": 4,
     "status": "ok",
     "timestamp": 1624728053541,
     "user": {
      "displayName": "Arturo Silva González",
      "photoUrl": "https://lh3.googleusercontent.com/a-/AOh14GiUHdipuYIBJIA1SlUS1AmLgDU-JVlj3PpPUxj0=s64",
      "userId": "00222598250959016841"
     },
     "user_tz": -120
    },
    "id": "3nIbi6wuSqAr",
    "outputId": "0d2ca7d5-ac06-461c-af9a-2e9914af30d3"
   },
   "outputs": [
    {
     "data": {
      "text/plain": [
       "MultinomialNB(alpha=1, class_prior=None, fit_prior=True)"
      ]
     },
     "execution_count": 311,
     "metadata": {
      "tags": []
     },
     "output_type": "execute_result"
    }
   ],
   "source": [
    "clf = MultinomialNB(alpha=1)\n",
    "clf.fit(X_train, y_train)"
   ]
  },
  {
   "cell_type": "code",
   "execution_count": null,
   "metadata": {
    "id": "AbHTbuI9StVQ"
   },
   "outputs": [],
   "source": [
    "y_pred_train = clf.predict(X_train)\n",
    "y_pred_test = clf.predict(X_test)"
   ]
  },
  {
   "cell_type": "code",
   "execution_count": null,
   "metadata": {
    "colab": {
     "base_uri": "https://localhost:8080/",
     "height": 365
    },
    "executionInfo": {
     "elapsed": 1287,
     "status": "ok",
     "timestamp": 1624728059826,
     "user": {
      "displayName": "Arturo Silva González",
      "photoUrl": "https://lh3.googleusercontent.com/a-/AOh14GiUHdipuYIBJIA1SlUS1AmLgDU-JVlj3PpPUxj0=s64",
      "userId": "00222598250959016841"
     },
     "user_tz": -120
    },
    "id": "VJliAS0PSub9",
    "outputId": "3884b925-5b3e-4919-ba11-29fff9110c13"
   },
   "outputs": [
    {
     "data": {
      "text/plain": [
       "<sklearn.metrics._plot.confusion_matrix.ConfusionMatrixDisplay at 0x7f2471d3e9d0>"
      ]
     },
     "execution_count": 313,
     "metadata": {
      "tags": []
     },
     "output_type": "execute_result"
    },
    {
     "data": {
      "image/png": "[encoded data removed]",
      "text/plain": [
       "<Figure size 576x360 with 4 Axes>"
      ]
     },
     "metadata": {
      "image/png": {
       "height": 331,
       "width": 234
      },
      "needs_background": "light",
      "tags": []
     },
     "output_type": "display_data"
    }
   ],
   "source": [
    "fig, ax = plt.subplots(2, 1, figsize=(8, 5))\n",
    "fig.subplots_adjust(hspace=1, wspace=1)\n",
    "ax[0].set(title='Normalized by true labels (rows)')\n",
    "plot_confusion_matrix(clf, X_train, y_train, normalize='true', ax=ax[0])\n",
    "ax[1].set(title='Normalized by predictions (columns)')\n",
    "plot_confusion_matrix(clf, X_train, y_train, normalize='pred', ax=ax[1])"
   ]
  },
  {
   "cell_type": "code",
   "execution_count": null,
   "metadata": {
    "colab": {
     "base_uri": "https://localhost:8080/"
    },
    "executionInfo": {
     "elapsed": 3,
     "status": "ok",
     "timestamp": 1624728062023,
     "user": {
      "displayName": "Arturo Silva González",
      "photoUrl": "https://lh3.googleusercontent.com/a-/AOh14GiUHdipuYIBJIA1SlUS1AmLgDU-JVlj3PpPUxj0=s64",
      "userId": "00222598250959016841"
     },
     "user_tz": -120
    },
    "id": "_WWeb7y9Su7G",
    "outputId": "8e51d043-0b22-455d-db0b-422ee423dd18"
   },
   "outputs": [
    {
     "name": "stdout",
     "output_type": "stream",
     "text": [
      "              precision    recall  f1-score   support\n",
      "\n",
      "           0       0.74      0.60      0.66       281\n",
      "           1       0.45      0.09      0.15       155\n",
      "           2       0.64      0.92      0.75       530\n",
      "           3       0.40      0.03      0.06        65\n",
      "\n",
      "    accuracy                           0.65      1031\n",
      "   macro avg       0.56      0.41      0.41      1031\n",
      "weighted avg       0.62      0.65      0.59      1031\n",
      "\n"
     ]
    }
   ],
   "source": [
    "print(classification_report(y_test, y_pred_test))"
   ]
  },
  {
   "cell_type": "code",
   "execution_count": null,
   "metadata": {
    "id": "UHbU9LH7T5YD"
   },
   "outputs": [],
   "source": []
  }
 ],
 "metadata": {
  "accelerator": "GPU",
  "colab": {
   "authorship_tag": "ABX9TyNYGmfntAWXNZ9Y0Ze6HlR/",
   "collapsed_sections": [],
   "mount_file_id": "1yhpmNxRHyWS4Va8IVkkyZH5TVCT9Whzs",
   "name": "TFM_NLP_sentiment_prediction.ipynb",
   "provenance": [],
   "toc_visible": true
  },
  "kernelspec": {
   "display_name": "Python 3",
   "language": "python",
   "name": "python3"
  },
  "language_info": {
   "codemirror_mode": {
    "name": "ipython",
    "version": 3
   },
   "file_extension": ".py",
   "mimetype": "text/x-python",
   "name": "python",
   "nbconvert_exporter": "python",
   "pygments_lexer": "ipython3",
   "version": "3.8.5"
  }
 },
 "nbformat": 4,
 "nbformat_minor": 1
}
