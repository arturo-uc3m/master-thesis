{
 "cells": [
  {
   "cell_type": "markdown",
   "metadata": {
    "id": "Gzbf86XMqXXJ"
   },
   "source": [
    "# Personalized emotion forecasting methods using NLP and ML\n",
    "## Model training"
   ]
  },
  {
   "cell_type": "code",
   "execution_count": null,
   "metadata": {
    "colab": {
     "base_uri": "https://localhost:8080/"
    },
    "executionInfo": {
     "elapsed": 9172,
     "status": "ok",
     "timestamp": 1624457643798,
     "user": {
      "displayName": "Arturo Silva González",
      "photoUrl": "https://lh3.googleusercontent.com/a-/AOh14GiUHdipuYIBJIA1SlUS1AmLgDU-JVlj3PpPUxj0=s64",
      "userId": "00222598250959016841"
     },
     "user_tz": -120
    },
    "id": "nXbb9qj63JOD",
    "outputId": "47f199e6-c9fd-45c5-c0f2-33d581617d7f"
   },
   "outputs": [],
   "source": [
    "!pip install optuna"
   ]
  },
  {
   "cell_type": "code",
   "execution_count": null,
   "metadata": {
    "executionInfo": {
     "elapsed": 2713,
     "status": "ok",
     "timestamp": 1624457646508,
     "user": {
      "displayName": "Arturo Silva González",
      "photoUrl": "https://lh3.googleusercontent.com/a-/AOh14GiUHdipuYIBJIA1SlUS1AmLgDU-JVlj3PpPUxj0=s64",
      "userId": "00222598250959016841"
     },
     "user_tz": -120
    },
    "id": "ShQ0D3pHp3Ad"
   },
   "outputs": [],
   "source": [
    "import numpy as np\n",
    "import matplotlib.pyplot as plt\n",
    "import pandas as pd\n",
    "\n",
    "import json\n",
    "\n",
    "from sklearn.preprocessing import StandardScaler\n",
    "\n",
    "from sklearn.model_selection import KFold\n",
    "\n",
    "from sklearn.pipeline import Pipeline\n",
    "\n",
    "from sklearn.impute import SimpleImputer\n",
    "from sklearn.experimental import enable_iterative_imputer\n",
    "from sklearn.impute import IterativeImputer\n",
    "\n",
    "from sklearn.neighbors import LocalOutlierFactor\n",
    "\n",
    "from sklearn.feature_selection import SelectKBest, chi2, f_classif \n",
    "from sklearn.feature_selection import mutual_info_classif\n",
    "\n",
    "from sklearn.metrics import f1_score\n",
    "from sklearn.metrics import make_scorer\n",
    "from sklearn.metrics import classification_report\n",
    "\n",
    "from sklearn.model_selection import cross_val_score\n",
    "from sklearn.model_selection import train_test_split\n",
    "from sklearn.ensemble import RandomForestClassifier\n",
    "from sklearn.tree import DecisionTreeClassifier\n",
    "from sklearn.neural_network import MLPClassifier\n",
    "from sklearn.svm import SVC\n",
    "from sklearn.linear_model import LogisticRegression\n",
    "from sklearn.ensemble import ExtraTreesClassifier\n",
    "from sklearn.neighbors import KNeighborsClassifier\n",
    "from lightgbm import LGBMClassifier\n",
    "\n",
    "from sklearn.decomposition import PCA\n",
    "\n",
    "import optuna"
   ]
  },
  {
   "cell_type": "code",
   "execution_count": null,
   "metadata": {
    "executionInfo": {
     "elapsed": 4,
     "status": "ok",
     "timestamp": 1624457646508,
     "user": {
      "displayName": "Arturo Silva González",
      "photoUrl": "https://lh3.googleusercontent.com/a-/AOh14GiUHdipuYIBJIA1SlUS1AmLgDU-JVlj3PpPUxj0=s64",
      "userId": "00222598250959016841"
     },
     "user_tz": -120
    },
    "id": "HbRnD6QdwTKD"
   },
   "outputs": [],
   "source": [
    "SEED = 0"
   ]
  },
  {
   "cell_type": "markdown",
   "metadata": {
    "id": "10EFY1EcqS9b"
   },
   "source": [
    "## Data load"
   ]
  },
  {
   "cell_type": "code",
   "execution_count": null,
   "metadata": {
    "executionInfo": {
     "elapsed": 2989,
     "status": "ok",
     "timestamp": 1624457650781,
     "user": {
      "displayName": "Arturo Silva González",
      "photoUrl": "https://lh3.googleusercontent.com/a-/AOh14GiUHdipuYIBJIA1SlUS1AmLgDU-JVlj3PpPUxj0=s64",
      "userId": "00222598250959016841"
     },
     "user_tz": -120
    },
    "id": "teSP0FrUp4mP"
   },
   "outputs": [],
   "source": [
    "X = pd.read_csv('daily_summary_&_emotions.csv', index_col=0)\n",
    "y = np.load('y_sad.npy')"
   ]
  },
  {
   "cell_type": "code",
   "execution_count": null,
   "metadata": {
    "colab": {
     "base_uri": "https://localhost:8080/"
    },
    "executionInfo": {
     "elapsed": 7,
     "status": "ok",
     "timestamp": 1624457650782,
     "user": {
      "displayName": "Arturo Silva González",
      "photoUrl": "https://lh3.googleusercontent.com/a-/AOh14GiUHdipuYIBJIA1SlUS1AmLgDU-JVlj3PpPUxj0=s64",
      "userId": "00222598250959016841"
     },
     "user_tz": -120
    },
    "id": "XsdCTHb7Vmtc",
    "outputId": "e29a9d88-3ac3-47a5-a7a4-c1d52da86e2e"
   },
   "outputs": [],
   "source": [
    "print(X.shape)\n",
    "print(y.shape)"
   ]
  },
  {
   "cell_type": "code",
   "execution_count": null,
   "metadata": {
    "executionInfo": {
     "elapsed": 5,
     "status": "ok",
     "timestamp": 1624457650783,
     "user": {
      "displayName": "Arturo Silva González",
      "photoUrl": "https://lh3.googleusercontent.com/a-/AOh14GiUHdipuYIBJIA1SlUS1AmLgDU-JVlj3PpPUxj0=s64",
      "userId": "00222598250959016841"
     },
     "user_tz": -120
    },
    "id": "IJHaBXpDTgNa"
   },
   "outputs": [],
   "source": [
    "X_0 = X.fillna(0)"
   ]
  },
  {
   "cell_type": "code",
   "execution_count": null,
   "metadata": {
    "executionInfo": {
     "elapsed": 7040,
     "status": "ok",
     "timestamp": 1624457657818,
     "user": {
      "displayName": "Arturo Silva González",
      "photoUrl": "https://lh3.googleusercontent.com/a-/AOh14GiUHdipuYIBJIA1SlUS1AmLgDU-JVlj3PpPUxj0=s64",
      "userId": "00222598250959016841"
     },
     "user_tz": -120
    },
    "id": "SI_P87goTKv2"
   },
   "outputs": [],
   "source": [
    "out_detector = LocalOutlierFactor()\n",
    "outliers = out_detector.fit_predict(X_0)"
   ]
  },
  {
   "cell_type": "code",
   "execution_count": null,
   "metadata": {
    "executionInfo": {
     "elapsed": 8,
     "status": "ok",
     "timestamp": 1624457657819,
     "user": {
      "displayName": "Arturo Silva González",
      "photoUrl": "https://lh3.googleusercontent.com/a-/AOh14GiUHdipuYIBJIA1SlUS1AmLgDU-JVlj3PpPUxj0=s64",
      "userId": "00222598250959016841"
     },
     "user_tz": -120
    },
    "id": "LlCbjLTlrWAg"
   },
   "outputs": [],
   "source": [
    "outliers_idx = np.where(outliers == -1)[0]"
   ]
  },
  {
   "cell_type": "code",
   "execution_count": null,
   "metadata": {
    "executionInfo": {
     "elapsed": 7,
     "status": "ok",
     "timestamp": 1624457657819,
     "user": {
      "displayName": "Arturo Silva González",
      "photoUrl": "https://lh3.googleusercontent.com/a-/AOh14GiUHdipuYIBJIA1SlUS1AmLgDU-JVlj3PpPUxj0=s64",
      "userId": "00222598250959016841"
     },
     "user_tz": -120
    },
    "id": "pwSodcVKU-P8"
   },
   "outputs": [],
   "source": [
    "X_clean = X.drop(outliers_idx, axis=0)"
   ]
  },
  {
   "cell_type": "code",
   "execution_count": null,
   "metadata": {
    "executionInfo": {
     "elapsed": 7,
     "status": "ok",
     "timestamp": 1624457657820,
     "user": {
      "displayName": "Arturo Silva González",
      "photoUrl": "https://lh3.googleusercontent.com/a-/AOh14GiUHdipuYIBJIA1SlUS1AmLgDU-JVlj3PpPUxj0=s64",
      "userId": "00222598250959016841"
     },
     "user_tz": -120
    },
    "id": "FMbzloJzVll1"
   },
   "outputs": [],
   "source": [
    "y_clean = np.delete(y, outliers==-1)"
   ]
  },
  {
   "cell_type": "code",
   "execution_count": null,
   "metadata": {
    "colab": {
     "base_uri": "https://localhost:8080/"
    },
    "executionInfo": {
     "elapsed": 6,
     "status": "ok",
     "timestamp": 1624457657820,
     "user": {
      "displayName": "Arturo Silva González",
      "photoUrl": "https://lh3.googleusercontent.com/a-/AOh14GiUHdipuYIBJIA1SlUS1AmLgDU-JVlj3PpPUxj0=s64",
      "userId": "00222598250959016841"
     },
     "user_tz": -120
    },
    "id": "q4ye7Y-6WS8z",
    "outputId": "dc7142be-c576-4aac-ba32-1299a18ece86"
   },
   "outputs": [],
   "source": [
    "print(X_clean.shape)\n",
    "print(y_clean.shape)"
   ]
  },
  {
   "cell_type": "code",
   "execution_count": null,
   "metadata": {
    "executionInfo": {
     "elapsed": 5,
     "status": "ok",
     "timestamp": 1624457657821,
     "user": {
      "displayName": "Arturo Silva González",
      "photoUrl": "https://lh3.googleusercontent.com/a-/AOh14GiUHdipuYIBJIA1SlUS1AmLgDU-JVlj3PpPUxj0=s64",
      "userId": "00222598250959016841"
     },
     "user_tz": -120
    },
    "id": "R5SrrFOXwJY9"
   },
   "outputs": [],
   "source": [
    "X_train, X_test, y_train, y_test = train_test_split(X_clean, y_clean, \n",
    "                                                    test_size=0.2, shuffle=True,\n",
    "                                                    random_state=SEED)"
   ]
  },
  {
   "cell_type": "code",
   "execution_count": null,
   "metadata": {
    "executionInfo": {
     "elapsed": 2023,
     "status": "ok",
     "timestamp": 1624457659839,
     "user": {
      "displayName": "Arturo Silva González",
      "photoUrl": "https://lh3.googleusercontent.com/a-/AOh14GiUHdipuYIBJIA1SlUS1AmLgDU-JVlj3PpPUxj0=s64",
      "userId": "00222598250959016841"
     },
     "user_tz": -120
    },
    "id": "d4a2qIPt8YW_"
   },
   "outputs": [],
   "source": [
    "s_imp_mean = SimpleImputer(strategy='mean')\n",
    "s_imp_median = SimpleImputer(strategy='median')\n",
    "s_imp_mode = SimpleImputer(strategy='most_frequent')\n",
    "it_imp = IterativeImputer(random_state=SEED)\n",
    "\n",
    "X_train_inputs = {\n",
    "    '0': X_train.fillna(0),\n",
    "    'mean': s_imp_mean.fit_transform(X_train),\n",
    "    'median': s_imp_median.fit_transform(X_train),\n",
    "    'most_frequent': s_imp_mode.fit_transform(X_train),\n",
    "    'iterative': it_imp.fit_transform(X_train),\n",
    "}\n",
    "\n",
    "X_test_inputs = {\n",
    "    '0': X_test.fillna(0),\n",
    "    'mean': s_imp_mean.transform(X_test),\n",
    "    'median': s_imp_median.transform(X_test),\n",
    "    'most_frequent': s_imp_mode.transform(X_test),\n",
    "    'iterative': it_imp.transform(X_test),\n",
    "}\n",
    "\n",
    "method_selection = {\n",
    "    'f_classif': f_classif, \n",
    "    'mutual_info_classif': mutual_info_classif,\n",
    "}"
   ]
  },
  {
   "cell_type": "code",
   "execution_count": null,
   "metadata": {
    "executionInfo": {
     "elapsed": 6,
     "status": "ok",
     "timestamp": 1624457659840,
     "user": {
      "displayName": "Arturo Silva González",
      "photoUrl": "https://lh3.googleusercontent.com/a-/AOh14GiUHdipuYIBJIA1SlUS1AmLgDU-JVlj3PpPUxj0=s64",
      "userId": "00222598250959016841"
     },
     "user_tz": -120
    },
    "id": "vxVtNUx_FYq2"
   },
   "outputs": [],
   "source": [
    "std = StandardScaler().fit(X_train_inputs['0'])\n",
    "pca = PCA()\n",
    "X_train_pca = std.transform(X_train_inputs['0'])\n",
    "X_train_pca = pca.fit_transform(X_train_pca)"
   ]
  },
  {
   "cell_type": "code",
   "execution_count": null,
   "metadata": {
    "executionInfo": {
     "elapsed": 5,
     "status": "ok",
     "timestamp": 1624457659840,
     "user": {
      "displayName": "Arturo Silva González",
      "photoUrl": "https://lh3.googleusercontent.com/a-/AOh14GiUHdipuYIBJIA1SlUS1AmLgDU-JVlj3PpPUxj0=s64",
      "userId": "00222598250959016841"
     },
     "user_tz": -120
    },
    "id": "EVNySjlYGA--"
   },
   "outputs": [],
   "source": [
    "var_90_expl = np.argmax(pca.explained_variance_ratio_.cumsum() > 0.90)"
   ]
  },
  {
   "cell_type": "code",
   "execution_count": null,
   "metadata": {
    "executionInfo": {
     "elapsed": 355,
     "status": "ok",
     "timestamp": 1624457660190,
     "user": {
      "displayName": "Arturo Silva González",
      "photoUrl": "https://lh3.googleusercontent.com/a-/AOh14GiUHdipuYIBJIA1SlUS1AmLgDU-JVlj3PpPUxj0=s64",
      "userId": "00222598250959016841"
     },
     "user_tz": -120
    },
    "id": "Tq4omJAvHKIF"
   },
   "outputs": [],
   "source": [
    "X_test_pca = pca.transform(std.transform(X_test_inputs['0']))"
   ]
  },
  {
   "cell_type": "code",
   "execution_count": null,
   "metadata": {
    "executionInfo": {
     "elapsed": 6,
     "status": "ok",
     "timestamp": 1624457660193,
     "user": {
      "displayName": "Arturo Silva González",
      "photoUrl": "https://lh3.googleusercontent.com/a-/AOh14GiUHdipuYIBJIA1SlUS1AmLgDU-JVlj3PpPUxj0=s64",
      "userId": "00222598250959016841"
     },
     "user_tz": -120
    },
    "id": "ARdIl--YGQfl"
   },
   "outputs": [],
   "source": [
    "X_train_inputs['pca'] = X_train_pca[:, :var_90_expl]\n",
    "X_test_inputs['pca'] = X_test_pca[:, :var_90_expl]"
   ]
  },
  {
   "cell_type": "code",
   "execution_count": null,
   "metadata": {
    "executionInfo": {
     "elapsed": 5,
     "status": "ok",
     "timestamp": 1624457660193,
     "user": {
      "displayName": "Arturo Silva González",
      "photoUrl": "https://lh3.googleusercontent.com/a-/AOh14GiUHdipuYIBJIA1SlUS1AmLgDU-JVlj3PpPUxj0=s64",
      "userId": "00222598250959016841"
     },
     "user_tz": -120
    },
    "id": "mbnV4Btuvuua"
   },
   "outputs": [],
   "source": [
    "cv_grid = KFold(n_splits=5, shuffle=True)"
   ]
  },
  {
   "cell_type": "markdown",
   "metadata": {
    "id": "zRcUzvFNwJwM"
   },
   "source": [
    "## Random Forest Classifier"
   ]
  },
  {
   "cell_type": "code",
   "execution_count": null,
   "metadata": {
    "executionInfo": {
     "elapsed": 5,
     "status": "ok",
     "timestamp": 1624457660193,
     "user": {
      "displayName": "Arturo Silva González",
      "photoUrl": "https://lh3.googleusercontent.com/a-/AOh14GiUHdipuYIBJIA1SlUS1AmLgDU-JVlj3PpPUxj0=s64",
      "userId": "00222598250959016841"
     },
     "user_tz": -120
    },
    "id": "enQ0BRNeru8I"
   },
   "outputs": [],
   "source": [
    "def rfc_objective(trial):\n",
    "    \n",
    "    method = trial.suggest_categorical('imputation', \n",
    "                                       ['0', 'mean', 'median', \n",
    "                                        'most_frequent', 'iterative', 'pca'])\n",
    "    X_train_aux = X_train_inputs[method]\n",
    "\n",
    "    #sel = trial.suggest_categorical('selection', ['f_classif', \n",
    "                                                  #'mutual_info_classif'])\n",
    "    #k = trial.suggest_int('k', 1, 27)\n",
    "    bootstrap = trial.suggest_categorical('boostrap', [True, False])\n",
    "    max_depth = trial.suggest_int('max_depth', 1, 20)\n",
    "    n_estimators = trial.suggest_int('n_estimators', 1, 300)\n",
    "    min_samples_split = trial.suggest_int('min_samples_split', 2, 50)\n",
    "    criterion = trial.suggest_categorical('criterion', ['gini', 'entropy'])\n",
    "\n",
    "    cv_grid = KFold(n_splits=5, shuffle=True)\n",
    "\n",
    "    #print(f'imputation: {method}, selected_categorical: {sel}, number parameters: {k}, max depth: {max_depth}, n estimators: {n_estimators}, min_samples_split: {min_samples_split}')\n",
    "    \n",
    "    '''clf = Pipeline([('select', SelectKBest(method_selection[sel], k=k)), \n",
    "                    ('clf', RandomForestClassifier(max_depth=max_depth, \n",
    "                                                   bootstrap=bootstrap,\n",
    "                                                   n_estimators=n_estimators,\n",
    "                                                   criterion=criterion,\n",
    "                                                   min_samples_split=min_samples_split))])'''\n",
    "\n",
    "    clf = RandomForestClassifier(max_depth=max_depth, bootstrap=bootstrap,\n",
    "                                 n_estimators=n_estimators, criterion=criterion,\n",
    "                                 min_samples_split=min_samples_split)\n",
    "    \n",
    "    scores = cross_val_score(clf, X_train_aux, y_train, scoring=make_scorer(f1_score), \n",
    "                            n_jobs=-1, cv=cv_grid)\n",
    "            \n",
    "    return scores.mean()"
   ]
  },
  {
   "cell_type": "code",
   "execution_count": null,
   "metadata": {
    "colab": {
     "base_uri": "https://localhost:8080/",
     "height": 354
    },
    "executionInfo": {
     "elapsed": 14930,
     "status": "error",
     "timestamp": 1624457675119,
     "user": {
      "displayName": "Arturo Silva González",
      "photoUrl": "https://lh3.googleusercontent.com/a-/AOh14GiUHdipuYIBJIA1SlUS1AmLgDU-JVlj3PpPUxj0=s64",
      "userId": "00222598250959016841"
     },
     "user_tz": -120
    },
    "id": "GNkLHOf6wmib",
    "outputId": "c4298b3b-02e9-4cb7-a40c-33fc75f8a624"
   },
   "outputs": [],
   "source": [
    "budget = 50\n",
    "np.random.seed(SEED)\n",
    "study = optuna.create_study(direction='maximize')\n",
    "study.optimize(rfc_objective, n_trials=budget)"
   ]
  },
  {
   "cell_type": "markdown",
   "metadata": {
    "id": "BIkrZEyAbRfQ"
   },
   "source": [
    "Save the results of the best hyperparameter combination"
   ]
  },
  {
   "cell_type": "code",
   "execution_count": null,
   "metadata": {
    "colab": {
     "base_uri": "https://localhost:8080/",
     "height": 337
    },
    "executionInfo": {
     "elapsed": 351,
     "status": "error",
     "timestamp": 1624457677896,
     "user": {
      "displayName": "Arturo Silva González",
      "photoUrl": "https://lh3.googleusercontent.com/a-/AOh14GiUHdipuYIBJIA1SlUS1AmLgDU-JVlj3PpPUxj0=s64",
      "userId": "00222598250959016841"
     },
     "user_tz": -120
    },
    "id": "vp_HuHJ1bKm5",
    "outputId": "42b3804a-bd2e-44e5-8147-f81f2cf66981"
   },
   "outputs": [],
   "source": [
    "print(study.best_params)\n",
    "with open('rfc_best_params.json', 'w') as fp:\n",
    "    json.dump(study.best_params, fp, indent=4)"
   ]
  },
  {
   "cell_type": "code",
   "execution_count": null,
   "metadata": {
    "colab": {
     "base_uri": "https://localhost:8080/",
     "height": 86
    },
    "executionInfo": {
     "elapsed": 1230,
     "status": "ok",
     "timestamp": 1624457681232,
     "user": {
      "displayName": "Arturo Silva González",
      "photoUrl": "https://lh3.googleusercontent.com/a-/AOh14GiUHdipuYIBJIA1SlUS1AmLgDU-JVlj3PpPUxj0=s64",
      "userId": "00222598250959016841"
     },
     "user_tz": -120
    },
    "id": "6C78ughmhd4i",
    "outputId": "ef738fc9-ddd5-4807-d38a-72a30474a766"
   },
   "outputs": [],
   "source": [
    "with open('rfc_best_params.json', 'r') as fp:\n",
    "    rfc_params = json.load(fp)\n",
    "'''print(rfc_params)\n",
    "rfc = Pipeline([\n",
    "                ('select', SelectKBest(\n",
    "                    method_selection[rfc_params['selection']], \n",
    "                    rfc_params['k'])),\n",
    "                ('clf', RandomForestClassifier(max_depth=rfc_params['max_depth'],\n",
    "                                               min_samples_split=rfc_params['min_samples_split'],\n",
    "                                               n_estimators=rfc_params['n_estimators']))\n",
    "                ])\n",
    "rfc.fit(X_train_inputs[rfc_params['imputation']], y_train)'''"
   ]
  },
  {
   "cell_type": "code",
   "execution_count": null,
   "metadata": {
    "colab": {
     "base_uri": "https://localhost:8080/"
    },
    "executionInfo": {
     "elapsed": 1,
     "status": "ok",
     "timestamp": 1624457682040,
     "user": {
      "displayName": "Arturo Silva González",
      "photoUrl": "https://lh3.googleusercontent.com/a-/AOh14GiUHdipuYIBJIA1SlUS1AmLgDU-JVlj3PpPUxj0=s64",
      "userId": "00222598250959016841"
     },
     "user_tz": -120
    },
    "id": "Db7Cu1cWZwCB",
    "outputId": "eb342365-abad-4895-b19f-4e0521666891"
   },
   "outputs": [],
   "source": [
    "rfc_params"
   ]
  },
  {
   "cell_type": "code",
   "execution_count": null,
   "metadata": {
    "executionInfo": {
     "elapsed": 358,
     "status": "ok",
     "timestamp": 1624457690776,
     "user": {
      "displayName": "Arturo Silva González",
      "photoUrl": "https://lh3.googleusercontent.com/a-/AOh14GiUHdipuYIBJIA1SlUS1AmLgDU-JVlj3PpPUxj0=s64",
      "userId": "00222598250959016841"
     },
     "user_tz": -120
    },
    "id": "_z0Xs6riZy_o"
   },
   "outputs": [],
   "source": [
    "rfc = RandomForestClassifier(n_estimators=rfc_params['n_estimators'], \n",
    "                             criterion=rfc_params['criterion'],                       \n",
    "                             max_depth=rfc_params['max_depth'],\n",
    "                             min_samples_split=rfc_params['min_samples_split'])"
   ]
  },
  {
   "cell_type": "code",
   "execution_count": null,
   "metadata": {
    "colab": {
     "base_uri": "https://localhost:8080/"
    },
    "executionInfo": {
     "elapsed": 8435,
     "status": "ok",
     "timestamp": 1624457699659,
     "user": {
      "displayName": "Arturo Silva González",
      "photoUrl": "https://lh3.googleusercontent.com/a-/AOh14GiUHdipuYIBJIA1SlUS1AmLgDU-JVlj3PpPUxj0=s64",
      "userId": "00222598250959016841"
     },
     "user_tz": -120
    },
    "id": "WsoYhXOsaMrQ",
    "outputId": "00154bb3-97dc-4e33-b05d-98a603aabbe0"
   },
   "outputs": [],
   "source": [
    "rfc.fit(X_train_inputs['0'], y_train)"
   ]
  },
  {
   "cell_type": "code",
   "execution_count": null,
   "metadata": {
    "executionInfo": {
     "elapsed": 335,
     "status": "ok",
     "timestamp": 1624463515737,
     "user": {
      "displayName": "Arturo Silva González",
      "photoUrl": "https://lh3.googleusercontent.com/a-/AOh14GiUHdipuYIBJIA1SlUS1AmLgDU-JVlj3PpPUxj0=s64",
      "userId": "00222598250959016841"
     },
     "user_tz": -120
    },
    "id": "CbLKuIY0pKm8"
   },
   "outputs": [],
   "source": [
    "report = classification_report(y_test,\n",
    "                          rfc.predict(X_test_inputs[rfc_params['imputation']]),\n",
    "                          target_names=['happy', 'sad'], output_dict=True)"
   ]
  },
  {
   "cell_type": "code",
   "execution_count": null,
   "metadata": {
    "executionInfo": {
     "elapsed": 398,
     "status": "ok",
     "timestamp": 1624463519279,
     "user": {
      "displayName": "Arturo Silva González",
      "photoUrl": "https://lh3.googleusercontent.com/a-/AOh14GiUHdipuYIBJIA1SlUS1AmLgDU-JVlj3PpPUxj0=s64",
      "userId": "00222598250959016841"
     },
     "user_tz": -120
    },
    "id": "ovDxDGZUkgbF"
   },
   "outputs": [],
   "source": [
    "df = pd.DataFrame(report).transpose()"
   ]
  },
  {
   "cell_type": "code",
   "execution_count": null,
   "metadata": {
    "executionInfo": {
     "elapsed": 433,
     "status": "ok",
     "timestamp": 1624463543169,
     "user": {
      "displayName": "Arturo Silva González",
      "photoUrl": "https://lh3.googleusercontent.com/a-/AOh14GiUHdipuYIBJIA1SlUS1AmLgDU-JVlj3PpPUxj0=s64",
      "userId": "00222598250959016841"
     },
     "user_tz": -120
    },
    "id": "0BD-uCJvkjhc"
   },
   "outputs": [],
   "source": [
    "df.to_csv('report_classification.csv')"
   ]
  },
  {
   "cell_type": "markdown",
   "metadata": {
    "id": "aOw9zifcS528"
   },
   "source": [
    "## Decision Tree"
   ]
  },
  {
   "cell_type": "code",
   "execution_count": null,
   "metadata": {
    "id": "FrSnT0mFS3xm"
   },
   "outputs": [],
   "source": [
    "def dtc_objective(trial):\n",
    "    \n",
    "    method = trial.suggest_categorical('imputation', \n",
    "                                       ['0', 'mean', 'median', \n",
    "                                        'most_frequent', 'iterative', 'pca'])\n",
    "    X_train_aux = X_train_inputs[method]\n",
    "\n",
    "    '''sel = trial.suggest_categorical('selection', ['f_classif', \n",
    "                                                  'mutual_info_classif'])\n",
    "    k = trial.suggest_int('k', 1, 27)'''\n",
    "    max_depth = trial.suggest_int('max_depth', 1, 20)\n",
    "    min_samples_split = trial.suggest_int('min_samples_split', 2, 50)\n",
    "    criterion = trial.suggest_categorical('criterion', ['gini', 'entropy'])\n",
    "    splitter = trial.suggest_categorical('splitter', ['best', 'random'])\n",
    "\n",
    "    cv_grid = KFold(n_splits=5, shuffle=True)\n",
    "    \n",
    "    '''clf = Pipeline([('select', SelectKBest(method_selection[sel], k=k)), \n",
    "                    ('clf', DecisionTreeClassifier(criterion=criterion, \n",
    "                                                   splitter=splitter,\n",
    "                                                   max_depth=max_depth, \n",
    "                                                   min_samples_split=min_samples_split))\n",
    "                    ])'''\n",
    "    clf = DecisionTreeClassifier(criterion=criterion, \n",
    "                                                   splitter=splitter,\n",
    "                                                   max_depth=max_depth, \n",
    "                                                   min_samples_split=min_samples_split)\n",
    "    \n",
    "    scores = cross_val_score(clf, X_train_aux, y_train, \n",
    "                             scoring=make_scorer(f1_score), \n",
    "                             n_jobs=-1, cv=cv_grid)\n",
    "            \n",
    "    return scores.mean()"
   ]
  },
  {
   "cell_type": "code",
   "execution_count": null,
   "metadata": {
    "colab": {
     "base_uri": "https://localhost:8080/"
    },
    "executionInfo": {
     "elapsed": 53116,
     "status": "ok",
     "timestamp": 1624379023039,
     "user": {
      "displayName": "Arturo Silva González",
      "photoUrl": "https://lh3.googleusercontent.com/a-/AOh14GiUHdipuYIBJIA1SlUS1AmLgDU-JVlj3PpPUxj0=s64",
      "userId": "00222598250959016841"
     },
     "user_tz": -120
    },
    "id": "-ZPBtnFyTW1i",
    "outputId": "1a9ce18d-32ec-4aba-e515-cff2b398af23"
   },
   "outputs": [],
   "source": [
    "budget = 50\n",
    "np.random.seed(SEED)\n",
    "study_dtc = optuna.create_study(direction='maximize')\n",
    "study_dtc.optimize(dtc_objective, n_trials=budget)"
   ]
  },
  {
   "cell_type": "code",
   "execution_count": null,
   "metadata": {
    "colab": {
     "base_uri": "https://localhost:8080/"
    },
    "executionInfo": {
     "elapsed": 350,
     "status": "ok",
     "timestamp": 1624379023378,
     "user": {
      "displayName": "Arturo Silva González",
      "photoUrl": "https://lh3.googleusercontent.com/a-/AOh14GiUHdipuYIBJIA1SlUS1AmLgDU-JVlj3PpPUxj0=s64",
      "userId": "00222598250959016841"
     },
     "user_tz": -120
    },
    "id": "7ksC2szLsFVy",
    "outputId": "814d9b22-fac7-4dce-fb76-ae9d99985105"
   },
   "outputs": [],
   "source": [
    "print(study_dtr.best_params)\n",
    "with open('dtc_best_params.json', 'w') as fp:\n",
    "    json.dump(study_dtr.best_params, fp, indent=4)"
   ]
  },
  {
   "cell_type": "code",
   "execution_count": null,
   "metadata": {
    "colab": {
     "base_uri": "https://localhost:8080/"
    },
    "executionInfo": {
     "elapsed": 214,
     "status": "ok",
     "timestamp": 1624394043555,
     "user": {
      "displayName": "Arturo Silva González",
      "photoUrl": "https://lh3.googleusercontent.com/a-/AOh14GiUHdipuYIBJIA1SlUS1AmLgDU-JVlj3PpPUxj0=s64",
      "userId": "00222598250959016841"
     },
     "user_tz": -120
    },
    "id": "KTVnChKIsfLT",
    "outputId": "1c6b2156-515f-4d70-84e1-e1203e3e6ead"
   },
   "outputs": [],
   "source": [
    "with open('dtc_best_params.json', 'r') as fp:\n",
    "    dtr_params = json.load(fp)\n",
    "dtr_params"
   ]
  },
  {
   "cell_type": "code",
   "execution_count": null,
   "metadata": {
    "colab": {
     "base_uri": "https://localhost:8080/"
    },
    "executionInfo": {
     "elapsed": 225,
     "status": "ok",
     "timestamp": 1624394178255,
     "user": {
      "displayName": "Arturo Silva González",
      "photoUrl": "https://lh3.googleusercontent.com/a-/AOh14GiUHdipuYIBJIA1SlUS1AmLgDU-JVlj3PpPUxj0=s64",
      "userId": "00222598250959016841"
     },
     "user_tz": -120
    },
    "id": "ysS9qBV3bdTy",
    "outputId": "188d6120-3ec0-4a17-b323-114c54724222"
   },
   "outputs": [],
   "source": [
    "dtc = DecisionTreeClassifier(criterion=dtr_params['criterion'],\n",
    "                             min_samples_split=dtr_params['min_samples_split'],\n",
    "                             max_depth=dtr_params['max_depth'],\n",
    "                             splitter=dtr_params['splitter'])\n",
    "dtc.fit(X_train_inputs['0'], y_train)"
   ]
  },
  {
   "cell_type": "code",
   "execution_count": null,
   "metadata": {
    "colab": {
     "base_uri": "https://localhost:8080/"
    },
    "executionInfo": {
     "elapsed": 198,
     "status": "ok",
     "timestamp": 1624394273042,
     "user": {
      "displayName": "Arturo Silva González",
      "photoUrl": "https://lh3.googleusercontent.com/a-/AOh14GiUHdipuYIBJIA1SlUS1AmLgDU-JVlj3PpPUxj0=s64",
      "userId": "00222598250959016841"
     },
     "user_tz": -120
    },
    "id": "6SRL_VrCxV_V",
    "outputId": "e1bfd0c6-6e56-4372-d1fa-3019b331aa4d"
   },
   "outputs": [],
   "source": [
    "print(classification_report(y_test, dtc.predict(X_test_inputs['0'])))"
   ]
  },
  {
   "cell_type": "markdown",
   "metadata": {
    "id": "K8XhPZAirp-x"
   },
   "source": [
    "## Extremely Randomized Trees"
   ]
  },
  {
   "cell_type": "code",
   "execution_count": null,
   "metadata": {
    "id": "sX-QvWwjqBaX"
   },
   "outputs": [],
   "source": [
    "def xrt_objective(trial):\n",
    "\n",
    "    method = trial.suggest_categorical('imputation', \n",
    "                                       ['0', 'mean', 'median', \n",
    "                                        'most_frequent', 'iterative', 'pca'])\n",
    "    X_train_aux = X_train_inputs[method]\n",
    "\n",
    "    \"\"\"sel = trial.suggest_categorical('selection', ['f_classif', \n",
    "                                                  'mutual_info_classif'])\n",
    "    k = trial.suggest_int('k', 1, 27)\"\"\"\n",
    "    criterion = trial.suggest_categorical('criterion', ['gini', 'entropy'])\n",
    "    bootstrap = trial.suggest_categorical('bootstrap', [True, False])\n",
    "    max_depth = trial.suggest_int('max_depth', 1, 20)\n",
    "    n_estimators = trial.suggest_int('n_estimators', 1, 300)\n",
    "    min_samples_split = trial.suggest_int('min_samples_split', 2, 50)\n",
    "\n",
    "    cv_grid = KFold(n_splits=5, shuffle=True)\n",
    "    \n",
    "    clf = ExtraTreesClassifier(max_depth=max_depth,\n",
    "                               n_estimators=n_estimators,\n",
    "                               criterion=criterion,\n",
    "                               bootstrap=bootstrap,\n",
    "                               min_samples_split=min_samples_split)\n",
    "    \n",
    "    scores = cross_val_score(clf, X_train_aux, y_train, \n",
    "                             scoring=make_scorer(f1_score), \n",
    "                             n_jobs=-1, cv=cv_grid)\n",
    "            \n",
    "    return scores.mean()"
   ]
  },
  {
   "cell_type": "code",
   "execution_count": null,
   "metadata": {
    "colab": {
     "base_uri": "https://localhost:8080/"
    },
    "executionInfo": {
     "elapsed": 515655,
     "status": "ok",
     "timestamp": 1624379539028,
     "user": {
      "displayName": "Arturo Silva González",
      "photoUrl": "https://lh3.googleusercontent.com/a-/AOh14GiUHdipuYIBJIA1SlUS1AmLgDU-JVlj3PpPUxj0=s64",
      "userId": "00222598250959016841"
     },
     "user_tz": -120
    },
    "id": "kNsWK9vStfRO",
    "outputId": "408a9038-5617-4b88-8c98-9ce03800d6c6"
   },
   "outputs": [],
   "source": [
    "budget = 50\n",
    "np.random.seed(SEED)\n",
    "study_xrt = optuna.create_study(direction='maximize')\n",
    "study_xrt.optimize(xrt_objective, n_trials=budget)"
   ]
  },
  {
   "cell_type": "code",
   "execution_count": null,
   "metadata": {
    "colab": {
     "base_uri": "https://localhost:8080/"
    },
    "executionInfo": {
     "elapsed": 238,
     "status": "ok",
     "timestamp": 1624379539258,
     "user": {
      "displayName": "Arturo Silva González",
      "photoUrl": "https://lh3.googleusercontent.com/a-/AOh14GiUHdipuYIBJIA1SlUS1AmLgDU-JVlj3PpPUxj0=s64",
      "userId": "00222598250959016841"
     },
     "user_tz": -120
    },
    "id": "K_zX46vatmex",
    "outputId": "c7065f8b-87b9-4ff4-9ebb-71417fcf901b"
   },
   "outputs": [],
   "source": [
    "print(study_xrt.best_params)\n",
    "with open('xrt_best_params.json', 'w') as fp:\n",
    "    json.dump(study_xrt.best_params, fp, indent=4)\n"
   ]
  },
  {
   "cell_type": "code",
   "execution_count": null,
   "metadata": {
    "colab": {
     "base_uri": "https://localhost:8080/"
    },
    "executionInfo": {
     "elapsed": 215,
     "status": "ok",
     "timestamp": 1624394320104,
     "user": {
      "displayName": "Arturo Silva González",
      "photoUrl": "https://lh3.googleusercontent.com/a-/AOh14GiUHdipuYIBJIA1SlUS1AmLgDU-JVlj3PpPUxj0=s64",
      "userId": "00222598250959016841"
     },
     "user_tz": -120
    },
    "id": "0Z8h2jQZckQW",
    "outputId": "5c0bdae3-7f2a-434a-8910-e2f61bcce062"
   },
   "outputs": [],
   "source": [
    "with open('xrt_best_params.json', 'r') as fp:\n",
    "    xrt_params = json.load(fp)\n",
    "print(xrt_params)"
   ]
  },
  {
   "cell_type": "code",
   "execution_count": null,
   "metadata": {
    "colab": {
     "base_uri": "https://localhost:8080/"
    },
    "executionInfo": {
     "elapsed": 4883,
     "status": "ok",
     "timestamp": 1624394334786,
     "user": {
      "displayName": "Arturo Silva González",
      "photoUrl": "https://lh3.googleusercontent.com/a-/AOh14GiUHdipuYIBJIA1SlUS1AmLgDU-JVlj3PpPUxj0=s64",
      "userId": "00222598250959016841"
     },
     "user_tz": -120
    },
    "id": "kmgJVWBcxypM",
    "outputId": "8a487284-fb71-450a-cac2-673faae9e597"
   },
   "outputs": [],
   "source": [
    "print(xrt_params)\n",
    "xrt = ExtraTreesClassifier(max_depth=xrt_params['max_depth'],\n",
    "                           n_estimators=xrt_params['n_estimators'],\n",
    "                           criterion=xrt_params['criterion'],\n",
    "                           bootstrap=xrt_params['bootstrap'],\n",
    "                           min_samples_split=xrt_params['min_samples_split'])\n",
    "xrt.fit(X_train_inputs[xrt_params['imputation']], y_train)"
   ]
  },
  {
   "cell_type": "code",
   "execution_count": null,
   "metadata": {
    "colab": {
     "base_uri": "https://localhost:8080/"
    },
    "executionInfo": {
     "elapsed": 520,
     "status": "ok",
     "timestamp": 1624394336629,
     "user": {
      "displayName": "Arturo Silva González",
      "photoUrl": "https://lh3.googleusercontent.com/a-/AOh14GiUHdipuYIBJIA1SlUS1AmLgDU-JVlj3PpPUxj0=s64",
      "userId": "00222598250959016841"
     },
     "user_tz": -120
    },
    "id": "TTCobxAd3_BP",
    "outputId": "34e2d5ee-3874-430b-e669-2c7ca33728b8"
   },
   "outputs": [],
   "source": [
    "print(classification_report(y_test, xrt.predict(X_test_inputs[xrt_params['imputation']])))"
   ]
  },
  {
   "cell_type": "markdown",
   "metadata": {
    "id": "Xc05lu2IxpfD"
   },
   "source": [
    "## SVC"
   ]
  },
  {
   "cell_type": "code",
   "execution_count": null,
   "metadata": {
    "executionInfo": {
     "elapsed": 4270,
     "status": "ok",
     "timestamp": 1624447711796,
     "user": {
      "displayName": "Arturo Silva González",
      "photoUrl": "https://lh3.googleusercontent.com/a-/AOh14GiUHdipuYIBJIA1SlUS1AmLgDU-JVlj3PpPUxj0=s64",
      "userId": "00222598250959016841"
     },
     "user_tz": -120
    },
    "id": "6lIiD0SFy4mv"
   },
   "outputs": [],
   "source": [
    "s_imp_mean = SimpleImputer(strategy='mean')\n",
    "s_imp_median = SimpleImputer(strategy='median')\n",
    "s_imp_mode = SimpleImputer(strategy='most_frequent')\n",
    "it_imp = IterativeImputer(random_state=SEED)\n",
    "\n",
    "sc_inputs = {\n",
    "    '0': StandardScaler().fit(X_train.fillna(0)),\n",
    "    'mean': StandardScaler().fit(s_imp_mean.fit_transform(X_train)),\n",
    "    'median': StandardScaler().fit(s_imp_median.fit_transform(X_train)),\n",
    "    'most_frequent': StandardScaler().fit(s_imp_mode.fit_transform(X_train)),\n",
    "    'iterative': StandardScaler().fit(it_imp.fit_transform(X_train)),\n",
    "}\n",
    "\n",
    "X_train_inputs_sc = {\n",
    "    '0': sc_inputs['0'].transform(X_train.fillna(0)),\n",
    "    'mean': sc_inputs['mean'].transform(s_imp_mean.fit_transform(X_train)),\n",
    "    'median': sc_inputs['median'].transform(s_imp_median.fit_transform(X_train)),\n",
    "    'most_frequent': sc_inputs['most_frequent'].transform(s_imp_mode.fit_transform(X_train)),\n",
    "    'iterative': sc_inputs['iterative'].transform(it_imp.fit_transform(X_train)),\n",
    "    'pca': X_train_pca[:, :18]\n",
    "}\n",
    "\n",
    "X_test_inputs_sc = {\n",
    "    '0': sc_inputs['0'].transform(X_test.fillna(0)),\n",
    "    'mean': sc_inputs['mean'].transform(s_imp_mean.transform(X_test)),\n",
    "    'median': sc_inputs['median'].transform(s_imp_median.transform(X_test)),\n",
    "    'most_frequent': sc_inputs['most_frequent'].transform(s_imp_mode.transform(X_test)),\n",
    "    'iterative': sc_inputs['iterative'].transform(it_imp.transform(X_test)),\n",
    "    'pca': X_test_pca[:, :18],\n",
    "}\n",
    "\n",
    "method_selection_sc = {\n",
    "    'f_classif': f_classif, \n",
    "    'mutual_info_classif': mutual_info_classif,\n",
    "}"
   ]
  },
  {
   "cell_type": "code",
   "execution_count": null,
   "metadata": {
    "id": "mlQSeHbiys0j"
   },
   "outputs": [],
   "source": [
    "def svc_objective(trial):\n",
    "\n",
    "    method = trial.suggest_categorical('imputation', \n",
    "                                       ['0', 'mean', 'median', \n",
    "                                        'most_frequent', 'iterative', 'pca'])\n",
    "    X_train_aux = X_train_inputs_sc[method]\n",
    "\n",
    "    sel = trial.suggest_categorical('selection', ['f_classif', \n",
    "                                                  'mutual_info_classif'])\n",
    "    k = trial.suggest_int('k', 1, 27)\n",
    "    C = trial.suggest_categorical('C', [1e-3, 1e-2, 1e-1, 1e1, 1e2, 1e3])\n",
    "    #kernel = trial.suggest_categorical('kernel', ['linear', 'poly', 'rbf', \n",
    "                                                  #'sigmoid', 'precomputed'])\n",
    "    kernel = 'rbf'\n",
    "    \n",
    "    #cv_grid = KFold(n_splits=5, shuffle=True)\n",
    "\n",
    "    if kernel == 'poly':\n",
    "        degree = trial.suggest_int('degree', 1, 10)\n",
    "    \n",
    "    if kernel == ('poly' or 'rbf' or 'sigmoid'):\n",
    "        gamma = trial.suggest_categorical('gamma', ['scale', 'auto'])\n",
    "        clf = Pipeline([('select', SelectKBest(method_selection[sel], k=k)), \n",
    "                    ('clf', SVC(C=C, kernel=kernel, degree=degree, gamma=gamma))\n",
    "                       ])\n",
    "    else:\n",
    "        clf = Pipeline([('select', SelectKBest(method_selection[sel], k=k)), \n",
    "                        ('clf', SVC(C=C, kernel=kernel))])\n",
    "    \n",
    "    scores = cross_val_score(clf, X_train_aux, y_train, scoring=make_scorer(f1_score), \n",
    "                            n_jobs=-1, cv=2)\n",
    "            \n",
    "    return scores.mean()"
   ]
  },
  {
   "cell_type": "code",
   "execution_count": null,
   "metadata": {
    "colab": {
     "base_uri": "https://localhost:8080/"
    },
    "executionInfo": {
     "elapsed": 2095015,
     "status": "ok",
     "timestamp": 1624381870274,
     "user": {
      "displayName": "Arturo Silva González",
      "photoUrl": "https://lh3.googleusercontent.com/a-/AOh14GiUHdipuYIBJIA1SlUS1AmLgDU-JVlj3PpPUxj0=s64",
      "userId": "00222598250959016841"
     },
     "user_tz": -120
    },
    "id": "n66UoKHX7az2",
    "outputId": "a7478e34-b279-4a9c-f9c3-aeb3a7927d9b"
   },
   "outputs": [],
   "source": [
    "budget = 30\n",
    "np.random.seed(SEED)\n",
    "study_svc = optuna.create_study(direction='maximize')\n",
    "study_svc.optimize(svc_objective, n_trials=budget)"
   ]
  },
  {
   "cell_type": "code",
   "execution_count": null,
   "metadata": {
    "colab": {
     "base_uri": "https://localhost:8080/"
    },
    "executionInfo": {
     "elapsed": 283,
     "status": "ok",
     "timestamp": 1624381876723,
     "user": {
      "displayName": "Arturo Silva González",
      "photoUrl": "https://lh3.googleusercontent.com/a-/AOh14GiUHdipuYIBJIA1SlUS1AmLgDU-JVlj3PpPUxj0=s64",
      "userId": "00222598250959016841"
     },
     "user_tz": -120
    },
    "id": "A6I59VdIP7MJ",
    "outputId": "052ac4c8-746b-4b5a-e740-4bc32b58659c"
   },
   "outputs": [],
   "source": [
    "print(study_svc.best_params)\n",
    "with open('svc_best_params.json', 'w') as fp:\n",
    "    json.dump(study_svc.best_params, fp, indent=4)"
   ]
  },
  {
   "cell_type": "code",
   "execution_count": null,
   "metadata": {
    "colab": {
     "base_uri": "https://localhost:8080/"
    },
    "executionInfo": {
     "elapsed": 510,
     "status": "ok",
     "timestamp": 1624447735235,
     "user": {
      "displayName": "Arturo Silva González",
      "photoUrl": "https://lh3.googleusercontent.com/a-/AOh14GiUHdipuYIBJIA1SlUS1AmLgDU-JVlj3PpPUxj0=s64",
      "userId": "00222598250959016841"
     },
     "user_tz": -120
    },
    "id": "9ExnBH2uoR76",
    "outputId": "e764a952-9e87-4177-cf64-f8c73f69c9c2"
   },
   "outputs": [],
   "source": [
    "with open('svc_best_params.json', 'r') as fp:\n",
    "    svm_params = json.load(fp)\n",
    "svm_params"
   ]
  },
  {
   "cell_type": "code",
   "execution_count": null,
   "metadata": {
    "executionInfo": {
     "elapsed": 27132,
     "status": "ok",
     "timestamp": 1624447876085,
     "user": {
      "displayName": "Arturo Silva González",
      "photoUrl": "https://lh3.googleusercontent.com/a-/AOh14GiUHdipuYIBJIA1SlUS1AmLgDU-JVlj3PpPUxj0=s64",
      "userId": "00222598250959016841"
     },
     "user_tz": -120
    },
    "id": "h6bkNR3woV4a"
   },
   "outputs": [],
   "source": [
    "svm = Pipeline([('select', SelectKBest(method_selection[svm_params['selection']], \n",
    "                                       k=svm_params['k'])), \n",
    "                ('clf', SVC(C=svm_params['C'], kernel='rbf'))])\\\n",
    "                .fit(X_train_inputs['median'], y_train)"
   ]
  },
  {
   "cell_type": "code",
   "execution_count": null,
   "metadata": {
    "colab": {
     "base_uri": "https://localhost:8080/"
    },
    "executionInfo": {
     "elapsed": 4491,
     "status": "ok",
     "timestamp": 1624447897448,
     "user": {
      "displayName": "Arturo Silva González",
      "photoUrl": "https://lh3.googleusercontent.com/a-/AOh14GiUHdipuYIBJIA1SlUS1AmLgDU-JVlj3PpPUxj0=s64",
      "userId": "00222598250959016841"
     },
     "user_tz": -120
    },
    "id": "vUoIuYkfoxxT",
    "outputId": "47f16090-d3c7-4827-eecd-b46bb47672f8"
   },
   "outputs": [],
   "source": [
    "print(classification_report(y_test, svm.predict(X_test_inputs['median'])))"
   ]
  },
  {
   "cell_type": "markdown",
   "metadata": {
    "id": "txmHEiMtLJJx"
   },
   "source": [
    "## KNN"
   ]
  },
  {
   "cell_type": "code",
   "execution_count": null,
   "metadata": {
    "id": "y16jgsX0LKx4"
   },
   "outputs": [],
   "source": [
    "def knn_objective(trial):\n",
    "\n",
    "    method = trial.suggest_categorical('imputation', \n",
    "                                       ['0', 'mean', 'median', \n",
    "                                        'most_frequent', 'iterative', 'pca'])\n",
    "    X_train_aux = X_train_inputs_sc[method]\n",
    "\n",
    "    sel = trial.suggest_categorical('selection', ['f_classif', \n",
    "                                                  'mutual_info_classif'])\n",
    "    k = trial.suggest_int('k', 1, 27)\n",
    "    n_neighbors = trial.suggest_int('n_neighbors', 1, 50)\n",
    "    weights = trial.suggest_categorical('weights', ['uniform', 'distance'])\n",
    "    p = trial.suggest_int('p', 1, 2)\n",
    "\n",
    "\n",
    "    clf = Pipeline([('select', SelectKBest(method_selection[sel], k=k)), \n",
    "                    ('clf', KNeighborsClassifier(n_neighbors=n_neighbors, \n",
    "                                                 weights=weights,\n",
    "                                                 p=p))])\n",
    "    \n",
    "    scores = cross_val_score(clf, X_train_aux, y_train, \n",
    "                             scoring=make_scorer(f1_score), n_jobs=-1, cv=2)\n",
    "            \n",
    "    return scores.mean()"
   ]
  },
  {
   "cell_type": "code",
   "execution_count": null,
   "metadata": {
    "colab": {
     "base_uri": "https://localhost:8080/"
    },
    "executionInfo": {
     "elapsed": 285088,
     "status": "ok",
     "timestamp": 1624382207923,
     "user": {
      "displayName": "Arturo Silva González",
      "photoUrl": "https://lh3.googleusercontent.com/a-/AOh14GiUHdipuYIBJIA1SlUS1AmLgDU-JVlj3PpPUxj0=s64",
      "userId": "00222598250959016841"
     },
     "user_tz": -120
    },
    "id": "8oECJVzPMnDI",
    "outputId": "04d539e0-f134-4e98-d55c-a58f112d37a0"
   },
   "outputs": [],
   "source": [
    "budget = 50\n",
    "np.random.seed(SEED)\n",
    "study_knn = optuna.create_study(direction='maximize')\n",
    "study_knn.optimize(knn_objective, n_trials=budget)"
   ]
  },
  {
   "cell_type": "code",
   "execution_count": null,
   "metadata": {
    "colab": {
     "base_uri": "https://localhost:8080/"
    },
    "executionInfo": {
     "elapsed": 224,
     "status": "ok",
     "timestamp": 1624382213731,
     "user": {
      "displayName": "Arturo Silva González",
      "photoUrl": "https://lh3.googleusercontent.com/a-/AOh14GiUHdipuYIBJIA1SlUS1AmLgDU-JVlj3PpPUxj0=s64",
      "userId": "00222598250959016841"
     },
     "user_tz": -120
    },
    "id": "YyqLibPKtbXB",
    "outputId": "7e3e051e-d4c9-4c58-eaf2-5019f6c9e6a7"
   },
   "outputs": [],
   "source": [
    "print(study_knn.best_params)\n",
    "with open('knn_best_params.json', 'w') as fp:\n",
    "    json.dump(study_knn.best_params, fp, indent=4)"
   ]
  },
  {
   "cell_type": "code",
   "execution_count": null,
   "metadata": {
    "colab": {
     "base_uri": "https://localhost:8080/"
    },
    "executionInfo": {
     "elapsed": 543,
     "status": "ok",
     "timestamp": 1624447468184,
     "user": {
      "displayName": "Arturo Silva González",
      "photoUrl": "https://lh3.googleusercontent.com/a-/AOh14GiUHdipuYIBJIA1SlUS1AmLgDU-JVlj3PpPUxj0=s64",
      "userId": "00222598250959016841"
     },
     "user_tz": -120
    },
    "id": "qwjPv2m2nL7s",
    "outputId": "2db1fbc3-5b59-4fcd-ef93-c1925de5bf83"
   },
   "outputs": [],
   "source": [
    "with open('knn_best_params.json', 'r') as fp:\n",
    "    knn_params = json.load(fp)\n",
    "knn_params"
   ]
  },
  {
   "cell_type": "code",
   "execution_count": null,
   "metadata": {
    "colab": {
     "base_uri": "https://localhost:8080/"
    },
    "executionInfo": {
     "elapsed": 1002,
     "status": "ok",
     "timestamp": 1624447597802,
     "user": {
      "displayName": "Arturo Silva González",
      "photoUrl": "https://lh3.googleusercontent.com/a-/AOh14GiUHdipuYIBJIA1SlUS1AmLgDU-JVlj3PpPUxj0=s64",
      "userId": "00222598250959016841"
     },
     "user_tz": -120
    },
    "id": "Xt9k1T5AnVN0",
    "outputId": "efca16b9-b1f5-47d5-b2ca-1be13057b32e"
   },
   "outputs": [],
   "source": [
    "knn = Pipeline([('select', SelectKBest(method_selection[knn_params['selection']], k=knn_params['k'])), \n",
    "                    ('clf', KNeighborsClassifier(n_neighbors=knn_params['n_neighbors'], \n",
    "                                                 weights=knn_params['weights'],\n",
    "                                                 p=knn_params['p']))])\n",
    "knn.fit(X_train_inputs['mean'], y_train)"
   ]
  },
  {
   "cell_type": "code",
   "execution_count": null,
   "metadata": {
    "colab": {
     "base_uri": "https://localhost:8080/"
    },
    "executionInfo": {
     "elapsed": 3561,
     "status": "ok",
     "timestamp": 1624447665652,
     "user": {
      "displayName": "Arturo Silva González",
      "photoUrl": "https://lh3.googleusercontent.com/a-/AOh14GiUHdipuYIBJIA1SlUS1AmLgDU-JVlj3PpPUxj0=s64",
      "userId": "00222598250959016841"
     },
     "user_tz": -120
    },
    "id": "o0c8zue1n0l7",
    "outputId": "7589eb34-0030-470c-8275-2bfe8e0e7a1f"
   },
   "outputs": [],
   "source": [
    "print(classification_report(y_test, knn.predict(X_test_inputs['mean'])))"
   ]
  },
  {
   "cell_type": "markdown",
   "metadata": {
    "id": "ez3O8ILhcAHX"
   },
   "source": [
    "## Logistic Regression"
   ]
  },
  {
   "cell_type": "code",
   "execution_count": null,
   "metadata": {
    "id": "6XKIhP9HcDEO"
   },
   "outputs": [],
   "source": [
    "def logis_objective(trial):\n",
    "\n",
    "    method = trial.suggest_categorical('imputation', \n",
    "                                       ['0', 'mean', 'median', \n",
    "                                        'most_frequent', 'iterative'])\n",
    "    X_train_aux = X_train_inputs_sc[method]\n",
    "\n",
    "    sel = trial.suggest_categorical('selection', ['f_classif', \n",
    "                                                  'mutual_info_classif'])\n",
    "    k = trial.suggest_int('k', 1, 27)\n",
    "    C = trial.suggest_float('C', 1e-3, 1000)\n",
    "    solver = trial.suggest_categorical('solver', ['newton-cg', 'lbfgs', \n",
    "                                                  'sag', 'saga'])\n",
    "    max_iter = trial.suggest_int('max_iter', 100, 10000)\n",
    "    \n",
    "    cv_grid = KFold(n_splits=5, shuffle=True)\n",
    "\n",
    "    clf = Pipeline([('select', SelectKBest(method_selection[sel], k=k)), \n",
    "                ('clf', LogisticRegression(C=C, solver=solver, max_iter=max_iter))])\n",
    "    \n",
    "    scores = cross_val_score(clf, X_train_aux, y_train, \n",
    "                             scoring=make_scorer(f1_score), \n",
    "                            n_jobs=-1, cv=cv_grid)\n",
    "    \n",
    "            \n",
    "    return scores.mean()"
   ]
  },
  {
   "cell_type": "code",
   "execution_count": null,
   "metadata": {
    "colab": {
     "base_uri": "https://localhost:8080/"
    },
    "executionInfo": {
     "elapsed": 264687,
     "status": "ok",
     "timestamp": 1624382501444,
     "user": {
      "displayName": "Arturo Silva González",
      "photoUrl": "https://lh3.googleusercontent.com/a-/AOh14GiUHdipuYIBJIA1SlUS1AmLgDU-JVlj3PpPUxj0=s64",
      "userId": "00222598250959016841"
     },
     "user_tz": -120
    },
    "id": "35_x96RkcG0R",
    "outputId": "d096e92f-93c8-4746-f44e-0267f526707d"
   },
   "outputs": [],
   "source": [
    "budget = 20\n",
    "np.random.seed(SEED)\n",
    "study_logis = optuna.create_study(direction='maximize')\n",
    "study_logis.optimize(logis_objective, n_trials=budget)"
   ]
  },
  {
   "cell_type": "code",
   "execution_count": null,
   "metadata": {
    "colab": {
     "base_uri": "https://localhost:8080/"
    },
    "executionInfo": {
     "elapsed": 575,
     "status": "ok",
     "timestamp": 1624382522036,
     "user": {
      "displayName": "Arturo Silva González",
      "photoUrl": "https://lh3.googleusercontent.com/a-/AOh14GiUHdipuYIBJIA1SlUS1AmLgDU-JVlj3PpPUxj0=s64",
      "userId": "00222598250959016841"
     },
     "user_tz": -120
    },
    "id": "l6gsqNn6fHEM",
    "outputId": "108ff7bb-cc9a-4fe4-e6bb-8c572b7c9d37"
   },
   "outputs": [],
   "source": [
    "print(study_logis.best_params)\n",
    "with open('logis_best_params.json', 'w') as fp:\n",
    "    json.dump(study_logis.best_params, fp, indent=4)"
   ]
  },
  {
   "cell_type": "code",
   "execution_count": null,
   "metadata": {
    "colab": {
     "base_uri": "https://localhost:8080/"
    },
    "executionInfo": {
     "elapsed": 539,
     "status": "ok",
     "timestamp": 1624447966047,
     "user": {
      "displayName": "Arturo Silva González",
      "photoUrl": "https://lh3.googleusercontent.com/a-/AOh14GiUHdipuYIBJIA1SlUS1AmLgDU-JVlj3PpPUxj0=s64",
      "userId": "00222598250959016841"
     },
     "user_tz": -120
    },
    "id": "6yAZ-k-2e75N",
    "outputId": "f480ac6b-e9b4-4a67-e3df-9f2403d778f4"
   },
   "outputs": [],
   "source": [
    "with open('logis_best_params.json', 'r') as fp:\n",
    "    logis_params = json.load(fp)\n",
    "print(logis_params)\n",
    "logic = Pipeline([\n",
    "                ('select', SelectKBest(method_selection[logis_params['selection']], \n",
    "                                       logis_params['k'])),\n",
    "                ('clf', LogisticRegression(C=logis_params['C'], \n",
    "                                           solver=logis_params['solver'], \n",
    "                                           #class_weight='balanced',\n",
    "                                           max_iter=logis_params['max_iter']))])\n",
    "logic.fit(X_train_inputs_sc[logis_params['imputation']], y_train)"
   ]
  },
  {
   "cell_type": "code",
   "execution_count": null,
   "metadata": {
    "colab": {
     "base_uri": "https://localhost:8080/"
    },
    "executionInfo": {
     "elapsed": 202,
     "status": "ok",
     "timestamp": 1624448016663,
     "user": {
      "displayName": "Arturo Silva González",
      "photoUrl": "https://lh3.googleusercontent.com/a-/AOh14GiUHdipuYIBJIA1SlUS1AmLgDU-JVlj3PpPUxj0=s64",
      "userId": "00222598250959016841"
     },
     "user_tz": -120
    },
    "id": "vmEHk0RkpT5q",
    "outputId": "1bc89d31-1f5c-4849-9e8c-203f2ffca691"
   },
   "outputs": [],
   "source": [
    "logic.score(X_test_inputs_sc[logis_params['imputation']], y_test)"
   ]
  },
  {
   "cell_type": "code",
   "execution_count": null,
   "metadata": {
    "colab": {
     "base_uri": "https://localhost:8080/"
    },
    "executionInfo": {
     "elapsed": 208,
     "status": "ok",
     "timestamp": 1624447974096,
     "user": {
      "displayName": "Arturo Silva González",
      "photoUrl": "https://lh3.googleusercontent.com/a-/AOh14GiUHdipuYIBJIA1SlUS1AmLgDU-JVlj3PpPUxj0=s64",
      "userId": "00222598250959016841"
     },
     "user_tz": -120
    },
    "id": "Mms7YRXUgGmc",
    "outputId": "74e1712b-be5e-46b8-aef4-907d812aaae3"
   },
   "outputs": [],
   "source": [
    "print(classification_report(y_test, logic.predict(X_test_inputs_sc[logis_params['imputation']])))"
   ]
  },
  {
   "cell_type": "markdown",
   "metadata": {
    "id": "hP-8aRsIxqyP"
   },
   "source": [
    "## Neuronal Network"
   ]
  },
  {
   "cell_type": "code",
   "execution_count": null,
   "metadata": {
    "colab": {
     "base_uri": "https://localhost:8080/"
    },
    "executionInfo": {
     "elapsed": 210,
     "status": "ok",
     "timestamp": 1624383008936,
     "user": {
      "displayName": "Arturo Silva González",
      "photoUrl": "https://lh3.googleusercontent.com/a-/AOh14GiUHdipuYIBJIA1SlUS1AmLgDU-JVlj3PpPUxj0=s64",
      "userId": "00222598250959016841"
     },
     "user_tz": -120
    },
    "id": "QfhRC8VVxWfW",
    "outputId": "2533882e-8bdb-4911-cb5c-c20b26f63ac7"
   },
   "outputs": [],
   "source": [
    "X_test.shape"
   ]
  },
  {
   "cell_type": "code",
   "execution_count": null,
   "metadata": {
    "executionInfo": {
     "elapsed": 211,
     "status": "ok",
     "timestamp": 1624448066032,
     "user": {
      "displayName": "Arturo Silva González",
      "photoUrl": "https://lh3.googleusercontent.com/a-/AOh14GiUHdipuYIBJIA1SlUS1AmLgDU-JVlj3PpPUxj0=s64",
      "userId": "00222598250959016841"
     },
     "user_tz": -120
    },
    "id": "6hfjjVbpxqLS"
   },
   "outputs": [],
   "source": [
    "def nn_objective(trial):\n",
    "\n",
    "    method = trial.suggest_categorical('imputation', \n",
    "                                       ['0', 'mean', 'median', \n",
    "                                        'most_frequent', 'iterative', 'pca'])\n",
    "    X_train_aux = X_train_inputs_sc[method]\n",
    "\n",
    "    sel = trial.suggest_categorical('selection', ['f_classif', \n",
    "                                                  'mutual_info_classif'])\n",
    "    k = trial.suggest_int('k', 1, 27)\n",
    "\n",
    "    n_layers = trial.suggest_int('n_layers', 1, 3)\n",
    "    layers = tuple([trial.suggest_int('layers', 10, 300) for i in range(n_layers)])\n",
    "    if n_layers == 1:\n",
    "        layers = (trial.suggest_int('layer1', 10, 300))\n",
    "    elif n_layers == 2:\n",
    "        layers = (trial.suggest_int('layer1', 10, 300), \n",
    "                  trial.suggest_int('layer2', 10, 300))\n",
    "    else:\n",
    "        layers = (trial.suggest_int('layer1', 10, 300), \n",
    "                  trial.suggest_int('layer2', 10, 300), \n",
    "                  trial.suggest_int('layer3', 10, 300))\n",
    "        \n",
    "    activation = trial.suggest_categorical('activation', ['logistic', 'tanh', 'relu'])\n",
    "    max_iter = trial.suggest_int('max_iter', 100, 100)\n",
    "    learning_rate_init = trial.suggest_categorical('learning_rate_init', [1e-5, 1e-4, 1e-3, \n",
    "                                                                          1e-2, 1e-1])\n",
    "    \n",
    "    cv_grid = KFold(n_splits=5, shuffle=True)\n",
    "\n",
    "    clf = Pipeline([('select', SelectKBest(method_selection[sel], k=k)), \n",
    "                ('clf', MLPClassifier(hidden_layer_sizes=layers, solver='adam', \n",
    "                                      max_iter=max_iter, activation=activation,\n",
    "                                      learning_rate_init = learning_rate_init))])\n",
    "    \n",
    "    scores = cross_val_score(clf, X_train_aux, y_train, scoring=make_scorer(f1_score), \n",
    "                            n_jobs=-1, cv=cv_grid)\n",
    "    \n",
    "            \n",
    "    return scores.mean()"
   ]
  },
  {
   "cell_type": "code",
   "execution_count": null,
   "metadata": {
    "colab": {
     "base_uri": "https://localhost:8080/"
    },
    "executionInfo": {
     "elapsed": 4294809,
     "status": "ok",
     "timestamp": 1624387367700,
     "user": {
      "displayName": "Arturo Silva González",
      "photoUrl": "https://lh3.googleusercontent.com/a-/AOh14GiUHdipuYIBJIA1SlUS1AmLgDU-JVlj3PpPUxj0=s64",
      "userId": "00222598250959016841"
     },
     "user_tz": -120
    },
    "id": "3TH8z5EAmqL1",
    "outputId": "f3129584-a106-4b64-fee2-4dea0b5c3ce4"
   },
   "outputs": [],
   "source": [
    "budget = 25\n",
    "np.random.seed(SEED)\n",
    "study_nn = optuna.create_study(direction='maximize')\n",
    "study_nn.optimize(nn_objective, n_trials=budget)"
   ]
  },
  {
   "cell_type": "code",
   "execution_count": null,
   "metadata": {
    "colab": {
     "base_uri": "https://localhost:8080/"
    },
    "executionInfo": {
     "elapsed": 1003,
     "status": "ok",
     "timestamp": 1624391513687,
     "user": {
      "displayName": "Arturo Silva González",
      "photoUrl": "https://lh3.googleusercontent.com/a-/AOh14GiUHdipuYIBJIA1SlUS1AmLgDU-JVlj3PpPUxj0=s64",
      "userId": "00222598250959016841"
     },
     "user_tz": -120
    },
    "id": "o_nQTD8YnH08",
    "outputId": "3284446f-f278-41e6-d740-ac6b6625a9ca"
   },
   "outputs": [],
   "source": [
    "print(study_nn.best_params)\n",
    "with open('nn_best_params.json', 'w') as fp:\n",
    "    json.dump(study_nn.best_params, fp, indent=4)"
   ]
  },
  {
   "cell_type": "code",
   "execution_count": null,
   "metadata": {
    "id": "qjGV3yy4LZkX"
   },
   "outputs": [],
   "source": [
    "{'imputation': '0', 'selection': 'f_classif', 'k': 18, 'n_layers': 3, 'layers': 76, 'max_iter': 3345, 'learning_rate_init': 0.04433049412223602}"
   ]
  },
  {
   "cell_type": "code",
   "execution_count": null,
   "metadata": {
    "colab": {
     "base_uri": "https://localhost:8080/"
    },
    "executionInfo": {
     "elapsed": 123907,
     "status": "ok",
     "timestamp": 1624448203949,
     "user": {
      "displayName": "Arturo Silva González",
      "photoUrl": "https://lh3.googleusercontent.com/a-/AOh14GiUHdipuYIBJIA1SlUS1AmLgDU-JVlj3PpPUxj0=s64",
      "userId": "00222598250959016841"
     },
     "user_tz": -120
    },
    "id": "9VcTeU5GQGMF",
    "outputId": "fc027f42-6c1d-4d82-e52a-4d4f7a2ce224"
   },
   "outputs": [],
   "source": [
    "with open('nn_best_params.json', 'r') as fp:\n",
    "    nn_params = json.load(fp)\n",
    "print(nn_params)\n",
    "nn = Pipeline([\n",
    "                ('select', SelectKBest(method_selection[nn_params['selection']], \n",
    "                                       nn_params['k'])),\n",
    "                ('clf', MLPClassifier(hidden_layer_sizes=(nn_params['layer1'], nn_params['layer2']), solver='adam', \n",
    "                                      max_iter=nn_params['max_iter'], \n",
    "                                      learning_rate_init = nn_params['learning_rate_init']))])\n",
    "nn.fit(X_train_inputs_sc[nn_params['imputation']], y_train)"
   ]
  },
  {
   "cell_type": "code",
   "execution_count": null,
   "metadata": {
    "colab": {
     "base_uri": "https://localhost:8080/"
    },
    "executionInfo": {
     "elapsed": 190,
     "status": "ok",
     "timestamp": 1624448266753,
     "user": {
      "displayName": "Arturo Silva González",
      "photoUrl": "https://lh3.googleusercontent.com/a-/AOh14GiUHdipuYIBJIA1SlUS1AmLgDU-JVlj3PpPUxj0=s64",
      "userId": "00222598250959016841"
     },
     "user_tz": -120
    },
    "id": "D7Q6CznoKXnr",
    "outputId": "51d6152b-0e60-47af-eb4d-9b0d87506883"
   },
   "outputs": [],
   "source": [
    "print(classification_report(y_test, nn.predict(X_test_inputs_sc[nn_params['imputation']])))"
   ]
  },
  {
   "cell_type": "markdown",
   "metadata": {
    "id": "Sd3x7RgbsLsV"
   },
   "source": [
    "## LGBM Classifier "
   ]
  },
  {
   "cell_type": "code",
   "execution_count": null,
   "metadata": {
    "executionInfo": {
     "elapsed": 217,
     "status": "ok",
     "timestamp": 1624448468348,
     "user": {
      "displayName": "Arturo Silva González",
      "photoUrl": "https://lh3.googleusercontent.com/a-/AOh14GiUHdipuYIBJIA1SlUS1AmLgDU-JVlj3PpPUxj0=s64",
      "userId": "00222598250959016841"
     },
     "user_tz": -120
    },
    "id": "Ygi2hmynsijA"
   },
   "outputs": [],
   "source": [
    "def lgbm_objective(trial):\n",
    "    \n",
    "    imp_method = trial.suggest_categorical('imputation', \n",
    "                                       ['0', 'mean', 'median', \n",
    "                                        'most_frequent', 'iterative', 'pca'])\n",
    "    X_train_imp = X_train_inputs[imp_method]\n",
    "\n",
    "    boosting_type = trial.suggest_categorical('boosting_type', ['gbdt', 'dart',\n",
    "                                                                'goss'])\n",
    "\n",
    "    num_leaves = trial.suggest_categorical('num_leaves', range(10, 51, 5))\n",
    "    #num_leaves = 31\n",
    "    learning_rate = trial.suggest_categorical('learning_rate', [0.1, 0.01, \n",
    "                                                                0.001, 0.0001])\n",
    "    n_estimators = trial.suggest_categorical('n_estimators', range(50, 801, 25))\n",
    "    class_weight = trial.suggest_categorical('class_weigth', [None, 'balanced']) \n",
    "    #class_weight = None\n",
    "\n",
    "    clf = LGBMClassifier(boosting_type=boosting_type, \n",
    "                         num_leaves=num_leaves, learning_rate=learning_rate,\n",
    "                         n_estimators=n_estimators, class_weight=class_weight,\n",
    "                         random_state=SEED)\n",
    "    \n",
    "    '''print('boosting_type', boosting_type, 'num_leaves', num_leaves,\n",
    "          'learning_rate', learning_rate, 'n_estimators', n_estimators, \n",
    "          'class_weight', class_weight)'''\n",
    "    \n",
    "    scores = cross_val_score(clf, X_train_imp, y_train, \n",
    "                             scoring=make_scorer(f1_score), \n",
    "                             n_jobs=-1, cv=cv_grid)\n",
    "    \n",
    "    return scores.mean()"
   ]
  },
  {
   "cell_type": "code",
   "execution_count": null,
   "metadata": {
    "colab": {
     "base_uri": "https://localhost:8080/",
     "height": 354
    },
    "executionInfo": {
     "elapsed": 2064,
     "status": "error",
     "timestamp": 1624448471954,
     "user": {
      "displayName": "Arturo Silva González",
      "photoUrl": "https://lh3.googleusercontent.com/a-/AOh14GiUHdipuYIBJIA1SlUS1AmLgDU-JVlj3PpPUxj0=s64",
      "userId": "00222598250959016841"
     },
     "user_tz": -120
    },
    "id": "Tr5wdBftvzT7",
    "outputId": "e4a44bca-1bc6-473a-efe1-cbc72a18c43c"
   },
   "outputs": [],
   "source": [
    "budget = 30\n",
    "np.random.seed(SEED)\n",
    "study_lgbm = optuna.create_study(direction='maximize')\n",
    "study_lgbm.optimize(lgbm_objective, n_trials=budget)"
   ]
  },
  {
   "cell_type": "code",
   "execution_count": null,
   "metadata": {
    "colab": {
     "base_uri": "https://localhost:8080/"
    },
    "executionInfo": {
     "elapsed": 211,
     "status": "ok",
     "timestamp": 1624393486121,
     "user": {
      "displayName": "Arturo Silva González",
      "photoUrl": "https://lh3.googleusercontent.com/a-/AOh14GiUHdipuYIBJIA1SlUS1AmLgDU-JVlj3PpPUxj0=s64",
      "userId": "00222598250959016841"
     },
     "user_tz": -120
    },
    "id": "5CbDwyjlSwoI",
    "outputId": "abf27ca0-0061-4ae7-acc2-6ecf355e3011"
   },
   "outputs": [],
   "source": [
    "print(study_lgbm.best_params)\n",
    "with open('lgbm_best_params.json', 'w') as fp:\n",
    "    json.dump(study_lgbm.best_params, fp, indent=4)"
   ]
  },
  {
   "cell_type": "code",
   "execution_count": null,
   "metadata": {
    "colab": {
     "base_uri": "https://localhost:8080/"
    },
    "executionInfo": {
     "elapsed": 204,
     "status": "ok",
     "timestamp": 1624448500248,
     "user": {
      "displayName": "Arturo Silva González",
      "photoUrl": "https://lh3.googleusercontent.com/a-/AOh14GiUHdipuYIBJIA1SlUS1AmLgDU-JVlj3PpPUxj0=s64",
      "userId": "00222598250959016841"
     },
     "user_tz": -120
    },
    "id": "L3L_eQfmK_7p",
    "outputId": "46c809f4-7172-4c1d-ae91-bc92862a6e5c"
   },
   "outputs": [],
   "source": [
    "with open('lgbm_best_params.json', 'r') as fp:\n",
    "    lgbm_params = json.load(fp)\n",
    "lgbm_params"
   ]
  },
  {
   "cell_type": "code",
   "execution_count": null,
   "metadata": {
    "colab": {
     "base_uri": "https://localhost:8080/"
    },
    "executionInfo": {
     "elapsed": 6961,
     "status": "ok",
     "timestamp": 1624448654124,
     "user": {
      "displayName": "Arturo Silva González",
      "photoUrl": "https://lh3.googleusercontent.com/a-/AOh14GiUHdipuYIBJIA1SlUS1AmLgDU-JVlj3PpPUxj0=s64",
      "userId": "00222598250959016841"
     },
     "user_tz": -120
    },
    "id": "oY_n83rFqf_L",
    "outputId": "039de768-3679-4d56-eed3-f78fa86a200f"
   },
   "outputs": [],
   "source": [
    "lgbm = LGBMClassifier(boosting_type=lgbm_params['boosting_type'],\n",
    "                      num_leaves=lgbm_params['num_leaves'], \n",
    "                      learning_rate=lgbm_params['learning_rate'],\n",
    "                      n_estimators=lgbm_params['n_estimators'], \n",
    "                      class_weight=None,\n",
    "                      random_state=SEED)\n",
    "lgbm.fit(X_train_inputs['iterative'], y_train)"
   ]
  },
  {
   "cell_type": "code",
   "execution_count": null,
   "metadata": {
    "colab": {
     "base_uri": "https://localhost:8080/"
    },
    "executionInfo": {
     "elapsed": 548,
     "status": "ok",
     "timestamp": 1624448656983,
     "user": {
      "displayName": "Arturo Silva González",
      "photoUrl": "https://lh3.googleusercontent.com/a-/AOh14GiUHdipuYIBJIA1SlUS1AmLgDU-JVlj3PpPUxj0=s64",
      "userId": "00222598250959016841"
     },
     "user_tz": -120
    },
    "id": "toBq2aQiq23j",
    "outputId": "1fb3a4d0-927b-400d-e2e0-cd3efe773093"
   },
   "outputs": [],
   "source": [
    "print(classification_report(y_test, lgbm.predict(X_test_inputs['iterative'])))"
   ]
  },
  {
   "cell_type": "code",
   "execution_count": null,
   "metadata": {
    "id": "jhXzL8zPrlCb"
   },
   "outputs": [],
   "source": []
  }
 ],
 "metadata": {
  "colab": {
   "authorship_tag": "ABX9TyMW5lBPVaqefqPVT91Z1WeO",
   "collapsed_sections": [],
   "mount_file_id": "1BZsiYFPxXIjWI4YwLzXsZOGXWrkJDizi",
   "name": "TFM_emotion_pred_models.ipynb",
   "provenance": [],
   "toc_visible": true
  },
  "kernelspec": {
   "display_name": "Python 3",
   "language": "python",
   "name": "python3"
  },
  "language_info": {
   "codemirror_mode": {
    "name": "ipython",
    "version": 3
   },
   "file_extension": ".py",
   "mimetype": "text/x-python",
   "name": "python",
   "nbconvert_exporter": "python",
   "pygments_lexer": "ipython3",
   "version": "3.8.5"
  }
 },
 "nbformat": 4,
 "nbformat_minor": 1
}
